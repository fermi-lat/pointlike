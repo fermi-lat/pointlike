{
 "metadata": {
  "name": ""
 },
 "nbformat": 3,
 "nbformat_minor": 0,
 "worksheets": [
  {
   "cells": [
    {
     "cell_type": "markdown",
     "metadata": {},
     "source": [
      "#Pointlike Configuration\n",
      "The configuration for pointlike/like2 analysis is defined by a text file config.txt, which is a Python dictionary. This notebook describes the items.\n",
      "<p>\n",
      "This cell defines our 3FGL-like example by setting up a special folder in <tt>/tmp</tt> and cd'ing to it."
     ]
    },
    {
     "cell_type": "code",
     "collapsed": false,
     "input": [
      "import os\n",
      "tmpdir = '/tmp/pointlike_demo'\n",
      "if not os.path.exists(tmpdir): os.makedirs(tmpdir)\n",
      "os.chdir(tmpdir)\n",
      "with open('config.txt', 'w') as f:\n",
      "    f.write(\n",
      "\"\"\"{\n",
      "    'datadict': {'dataname': 'P7_P202',},\n",
      "    'irf': 'P7REP_SOURCE_V15',\n",
      "    \n",
      "    'input_model' : dict(path='$FERMI/skymodels/P202/uw30'),\n",
      "\n",
      "    'diffuse': dict(\n",
      "        ring    =  dict(filename='template_4years_P7_v15_repro_v3_4bpd.zip',\n",
      "                    correction='galactic_correction_v3.csv', \n",
      "                    systematic=0.0316), \n",
      "        isotrop = 'isotrop_4years_P7_V15_repro_v2_source_*.txt',\n",
      "        SunMoon = 'SunMoon_4years_zmax100.fits', \n",
      "        limb    = 'limb_PowerLaw(1e-11, 4.0)',\n",
      "        ),\n",
      "    \n",
      "    'extended': 'Extended_archive_v13',\n",
      "}\"\"\"\n",
      ")"
     ],
     "language": "python",
     "metadata": {},
     "outputs": [],
     "prompt_number": 1
    },
    {
     "cell_type": "markdown",
     "metadata": {},
     "source": [
      "The keys in this dictionary are used to define the environment. "
     ]
    },
    {
     "cell_type": "markdown",
     "metadata": {},
     "source": [
      "## Setup and environment variables\n",
      "Now read it in with the <a href=\"http://glast.stanford.edu/cgi-bin/cvsweb-SLAC/pointlike/python/uw/like2/configuration.py?view=markup\"><tt>configuration.Configuration</tt></a> class:"
     ]
    },
    {
     "cell_type": "code",
     "collapsed": false,
     "input": [
      "from uw.like2 import configuration\n",
      "%time config = configuration.Configuration()"
     ],
     "language": "python",
     "metadata": {},
     "outputs": [
      {
       "output_type": "stream",
       "stream": "stdout",
       "text": [
        "Using configuration file \"config.txt\" in folder: /tmp/pointlike_demo/.\n",
        "Opening dataset P7_P202 from key in /phys/users/tburnett/fermi/data/dataspec.py\n",
        "Extracting DSS from existing binfile\n",
        "GTI from binfile"
       ]
      },
      {
       "output_type": "stream",
       "stream": "stdout",
       "text": [
        " Gti: 22858 intervals from 239557417 to 365467549, on time 102630509\n",
        "Verified binfile /phys/users/tburnett/fermi/data/P7_P202/4years_4bpd.fits\n",
        "no header info in ltcube?\n",
        "Accepting ltcube without DSS info since legacy specified\n",
        "Verified ltcube /phys/users/tburnett/fermi/data/P7_P202/ltcube_4years_zmax100.fits"
       ]
      },
      {
       "output_type": "stream",
       "stream": "stdout",
       "text": [
        "\n",
        "loading binfile /phys/users/tburnett/fermi/data/P7_P202/4years_4bpd.fits ..."
       ]
      },
      {
       "output_type": "stream",
       "stream": "stdout",
       "text": [
        " found 71168552 photons in 40 bands, energies 10-1000000 MeV\n",
        "dataset \"P7_P202\", found in /phys/users/tburnett/fermi/data/dataspec.py:\n",
        "  Bins per decade: 4\n",
        "  FT1 files: \tNone\n",
        "  FT2 files: \tNone\n",
        "  Binned data: /phys/users/tburnett/fermi/data/P7_P202/4years_4bpd.fits\n",
        "             :  71168552 photons, 40 energy bands from 10 to 1000000 MeV\n",
        "  Livetime cube: /phys/users/tburnett/fermi/data/P7_P202/ltcube_4years_zmax100.fits\n",
        "  Gti: 22858 intervals from 239557417 to 365467549, on time 102630509\n",
        "  DSS: name             value     units     ref       \n",
        "       TIME             TABLE     s          :GTI\n",
        "       ENERGY           30:1000000MeV        None\n",
        "       ZENITH_ANGLE     0:100     deg        None\n",
        "       THETA            :66.4     deg        None\n",
        "       BIT_MASK(EVENT_CLASS,2)  1:1       DIMENSIONLESS None\n",
        "\n",
        "Will load healpix sources from /phys/users/tburnett/fermi/skymodels/P202/uw30/pickle.zip"
       ]
      },
      {
       "output_type": "stream",
       "stream": "stdout",
       "text": [
        "\n",
        "CPU times: user 9.44 s, sys: 218 ms, total: 9.66 s\n",
        "Wall time: 9.69 s\n"
       ]
      }
     ],
     "prompt_number": 2
    },
    {
     "cell_type": "markdown",
     "metadata": {},
     "source": [
      "Now let's examine the individual entries, and the corresponding output from the setup.<br> First note important environment variables;\n",
      "\n",
      "###Environment variables"
     ]
    },
    {
     "cell_type": "code",
     "collapsed": false,
     "input": [
      "for key in 'GLAST_EXT INST_DIR BASE_DIR FERMI CUSTOM_IRF_DIR'.split():\n",
      "    print '%-15s : %s' % (key ,os.environ.get(key, None)) "
     ],
     "language": "python",
     "metadata": {},
     "outputs": [
      {
       "output_type": "stream",
       "stream": "stdout",
       "text": [
        "GLAST_EXT       : /phys/users/glast/extlib\n",
        "INST_DIR        : /phys/users/tburnett/inst_dir\n",
        "BASE_DIR        : /phys/users/olsont/TEV/Glast/packages/ScienceTools-09-30-00\n",
        "FERMI           : /phys/users/tburnett/fermi\n",
        "CUSTOM_IRF_DIR  : /phys/users/glast/custom_irfs\n"
       ]
      }
     ],
     "prompt_number": 3
    },
    {
     "cell_type": "markdown",
     "metadata": {},
     "source": [
      "The env vars PATH and PYTHONPATH have prepended entries for a local python installation, and a local version of the uw python code. Otherwise the paths are as setup by the science tools."
     ]
    },
    {
     "cell_type": "code",
     "collapsed": false,
     "input": [
      "for p in ['PATH','PYTHONPATH']:\n",
      "    print '%-10s: %s:...' % (p, os.environ[p].split(':')[0])"
     ],
     "language": "python",
     "metadata": {},
     "outputs": [
      {
       "output_type": "stream",
       "stream": "stdout",
       "text": [
        "PATH      : /phys/users/tburnett/anaconda/bin:...\n",
        "PYTHONPATH: /phys/users/tburnett/python:...\n"
       ]
      }
     ],
     "prompt_number": 4
    },
    {
     "cell_type": "markdown",
     "metadata": {},
     "source": [
      "The folder pointed to by <tt>FERMI</tt> has subfolders <tt>CALDB, catalog, data, diffuse</tt>, and <tt>skymodels</tt>:"
     ]
    },
    {
     "cell_type": "code",
     "collapsed": false,
     "input": [
      "!ls -l $FERMI"
     ],
     "language": "python",
     "metadata": {},
     "outputs": [
      {
       "output_type": "stream",
       "stream": "stdout",
       "text": [
        "total 8\r\n",
        "drwxr-xr-x 3 tburnett tburnett   24 Nov 29 10:13 CALDB\r\n",
        "drwxr-xr-x 4 tburnett tburnett 4096 Nov 29 10:14 catalog\r\n",
        "drwxr-xr-x 6 tburnett tburnett  105 Dec  8 07:09 data\r\n",
        "drwxr-xr-x 2 tburnett tburnett 4096 Jan 21 13:37 diffuse\r\n",
        "lrwxrwxrwx 1 tburnett tburnett   13 Dec  7 14:38 skymodels -> ../skymodels/\r\n"
       ]
      }
     ],
     "prompt_number": 5
    },
    {
     "cell_type": "markdown",
     "metadata": {},
     "source": [
      "##datadict and irf\n",
      "The class <a href=\"http://glast.stanford.edu/cgi-bin/cvsweb-SLAC/pointlike/python/uw/like2/dataset.py?view=markup\"><tt>dataset.DataSet</tt></a> is initialized with the datadict['dataname'] and the value of <tt>irf</tt>.\n",
      "<p>The name is a key to a dictionary defined by the file <tt>$FERMI/data/dataspec.py</tt>"
     ]
    },
    {
     "cell_type": "markdown",
     "metadata": {},
     "source": [
      "It defines the dataset, with entries for FT1, FT2, binfile, and ltcube. A summary is printed with its <tt>\\_\\_repr\\_\\_</tt> function:  "
     ]
    },
    {
     "cell_type": "code",
     "collapsed": false,
     "input": [
      "print config.dataset"
     ],
     "language": "python",
     "metadata": {},
     "outputs": [
      {
       "output_type": "stream",
       "stream": "stdout",
       "text": [
        "dataset \"P7_P202\", found in /phys/users/tburnett/fermi/data/dataspec.py:\n",
        "  Bins per decade: 4\n",
        "  FT1 files: \tNone\n",
        "  FT2 files: \tNone\n",
        "  Binned data: /phys/users/tburnett/fermi/data/P7_P202/4years_4bpd.fits\n",
        "             :  71168552 photons, 40 energy bands from 10 to 1000000 MeV\n",
        "  Livetime cube: /phys/users/tburnett/fermi/data/P7_P202/ltcube_4years_zmax100.fits\n",
        "  Gti: 22858 intervals from 239557417 to 365467549, on time 102630509\n",
        "  DSS: name             value     units     ref       \n",
        "       TIME             TABLE     s          :GTI\n",
        "       ENERGY           30:1000000MeV        None\n",
        "       ZENITH_ANGLE     0:100     deg        None\n",
        "       THETA            :66.4     deg        None\n",
        "       BIT_MASK(EVENT_CLASS,2)  1:1       DIMENSIONLESS None\n",
        "\n"
       ]
      }
     ],
     "prompt_number": 6
    },
    {
     "cell_type": "markdown",
     "metadata": {},
     "source": [
      "The entries for FT1 and FT2 can be <tt>None</tt>, meaning that the binned data and livetime cube files exist: Otherwise they may be used to create the secondary files. All such files have DSS keywords, as summarized, which are checked for consistency."
     ]
    },
    {
     "cell_type": "markdown",
     "metadata": {},
     "source": [
      "##input_model\n",
      "This optional entry is a dictionary. The key <tt>path</tt> points to a folder that must contain a file <tt>pickle.zip</tt>, with a full description of a model. If <tt>input_model</tt> is not specified, it is assumed that <tt>pickle.zip</tt> is in the same folder as <tt>config.txt</tt>\n",
      "<p>In this case the entry is used to point to the folder where the model was created.\n",
      "<p>The model described by <tt>pickle.zip</tt> represents a list of sources for the entire sky, including point, extended, and global sources. Positional information for the latter two are obtained from the extended catalog and the list of diffuse definitions."
     ]
    },
    {
     "cell_type": "markdown",
     "metadata": {},
     "source": [
      "##extended\n",
      "A string which is the path to the extended folder, which must be found under <tt>FERMI</tt>."
     ]
    },
    {
     "cell_type": "code",
     "collapsed": false,
     "input": [
      "print 'extended :', config.extended\n",
      "!ls -l $$FERMI/catalog/$config.extended"
     ],
     "language": "python",
     "metadata": {},
     "outputs": [
      {
       "output_type": "stream",
       "stream": "stdout",
       "text": [
        "extended : Extended_archive_v13\n",
        "total 36\r\n",
        "-rwxr--r-- 1 tburnett tburnett  4824 Mar 24  2013 LAT_extended_sources.csv\r\n",
        "-rwxr--r-- 1 tburnett tburnett 17280 Mar 24  2013 LAT_extended_sources_v13.fit\r\n",
        "drwxr-xr-x 2 tburnett tburnett  4096 Nov 29 10:09 Templates\r\n",
        "drwxr-xr-x 2 tburnett tburnett  4096 Nov 29 10:09 XML\r\n"
       ]
      }
     ],
     "prompt_number": 7
    },
    {
     "cell_type": "markdown",
     "metadata": {},
     "source": [
      "##diffuse\n",
      "This entry is dictionary defining the diffuse components of the model, with keys for source names, and values describing the list of diffuse, or global sources. The values are interpreted by the function <a href='http://glast.stanford.edu/cgi-bin/cvsweb-SLAC/pointlike/python/uw/like2/diffuse.py?view=markup'><tt>diffuse.diffuse_factory</tt></a>"
     ]
    },
    {
     "cell_type": "code",
     "collapsed": false,
     "input": [
      "from uw.like2 import diffuse\n",
      "for key in config.diffuse.keys():\n",
      "    print '%-7s: %s' % ( key, diffuse.diffuse_factory(config.diffuse[key]))"
     ],
     "language": "python",
     "metadata": {},
     "outputs": [
      {
       "output_type": "stream",
       "stream": "stdout",
       "text": [
        "limb   : uw.like2.diffuse.DiffuseList\n",
        "\tIsotropicSpectralFunction: PowerLaw(1e-11, 4.0)\n",
        "ring   : uw.like2.diffuse.DiffuseList\n",
        "\tuw.like2.diffuse.CachedMapCube: /phys/users/tburnett/fermi/diffuse/template_4years_P7_v15_repro_v3_4bpd.zip\n",
        "isotrop: uw.like2.diffuse.DiffuseList\n",
        "\tIsotropic: /phys/users/tburnett/fermi/diffuse/isotrop_4years_P7_V15_repro_v2_source_front.txt\n",
        "\tIsotropic: /phys/users/tburnett/fermi/diffuse/isotrop_4years_P7_V15_repro_v2_source_back.txt\n",
        "SunMoon: uw.like2.diffuse.DiffuseList\n",
        "\tMapCube: /phys/users/tburnett/fermi/diffuse/SunMoon_4years_zmax100.fits\n"
       ]
      }
     ],
     "prompt_number": 8
    },
    {
     "cell_type": "markdown",
     "metadata": {},
     "source": [
      "In this example the values except for ring are strings. ring is a dict to specify systematic diffuse corrections. \n",
      "The classes, <tt>MapCube, Isotropic</tt> etc., are subclasses of <a href=\"http://glast.stanford.edu/cgi-bin/cvsweb-SLAC/pointlike/python/uw/like2/diffuse.py?view=markup\"><tt>diffuse.DiffuseBase</tt></a>, and are explained in a separate document.\n",
      "\n",
      "<hr style=\"height:2px;\"/>\n",
      "<tt>$Header$</tt>"
     ]
    }
   ],
   "metadata": {}
  }
 ]
}