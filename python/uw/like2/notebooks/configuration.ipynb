{
 "metadata": {
  "name": "",
  "signature": "sha256:fe93c03c896f076613793fe4cf800811c7a7a774aee34229a6eed3d64266708b"
 },
 "nbformat": 3,
 "nbformat_minor": 0,
 "worksheets": [
  {
   "cells": [
    {
     "cell_type": "markdown",
     "metadata": {},
     "source": [
      "#Pointlike Configuration\n",
      "The configuration for pointlike/like2 analysis is defined by a text file config.txt, which is a Python dictionary. This notebook describes the items.\n",
      "<p>\n",
      "This cell defines our 3FGL-like example by setting up a special folder in <tt>/tmp</tt> and cd'ing to it."
     ]
    },
    {
     "cell_type": "code",
     "collapsed": false,
     "input": [
      "import os\n",
      "tmpdir = '/tmp/pointlike_demo'\n",
      "if not os.path.exists(tmpdir): os.makedirs(tmpdir)\n",
      "os.chdir(tmpdir)\n",
      "with open('config.txt', 'w') as f:\n",
      "    f.write(\n",
      "\"\"\"{\n",
      "    'datadict': {'dataname': 'P7_P202',},\n",
      "    'irf': 'P7REP_SOURCE_V15',\n",
      "    \n",
      "    'input_model' : dict(path='$FERMI/skymodels/P202/uw30'),\n",
      "\n",
      "    'diffuse': dict(\n",
      "        ring    =  dict(filename='template_4years_P7_v15_repro_v3_4bpd.zip',\n",
      "                    correction='galactic_correction_v3.csv', \n",
      "                    systematic=0.0316), \n",
      "        isotrop = '4Y_SOURCE_**_V9_EGBfree.txt', \n",
      "        SunMoon = 'SunMoon_4years_zmax100.fits', \n",
      "        limb    = 'AziLimb:azi_limb_P7_v0_*.txt',\n",
      "        ),\n",
      "    \n",
      "    'extended': 'Extended_archive_v13',\n",
      "}\"\"\"\n",
      ")\n",
      "%matplotlib inline\n",
      "%secnum"
     ],
     "language": "python",
     "metadata": {},
     "outputs": [
      {
       "output_type": "stream",
       "stream": "stderr",
       "text": [
        "ERROR: Line magic function `%secnum` not found.\n"
       ]
      }
     ],
     "prompt_number": 4
    },
    {
     "cell_type": "markdown",
     "metadata": {},
     "source": [
      "The keys in this dictionary are used to define the environment. "
     ]
    },
    {
     "cell_type": "heading",
     "level": 1,
     "metadata": {},
     "source": [
      "Setup and environment variables"
     ]
    },
    {
     "cell_type": "markdown",
     "metadata": {},
     "source": [
      "Now read it in with the <a href=\"http://glast.stanford.edu/cgi-bin/cvsweb-SLAC/pointlike/python/uw/like2/configuration.py?view=markup\"><tt>configuration.Configuration</tt></a> class:"
     ]
    },
    {
     "cell_type": "code",
     "collapsed": false,
     "input": [
      "from uw.like2 import configuration\n",
      "%time config = configuration.Configuration()"
     ],
     "language": "python",
     "metadata": {},
     "outputs": [
      {
       "output_type": "stream",
       "stream": "stdout",
       "text": [
        "Using configuration file \"config.txt\" in folder: /tmp/pointlike_demo/.\n",
        "Opening dataset P7_P202 from key in /afs/slac/g/glast/groups/catalog//pointlike/fermi/data/dataspec.py\n",
        "FT file(s) \"/afs/slac/g/glast/groups/catalog//pointlike/fermi/data/../../P7_P202/Source/*.fits\" not found: assume None to test for valid binfile\n",
        "Extracting DSS from existing binfile\n",
        "GTI from binfile"
       ]
      },
      {
       "output_type": "stream",
       "stream": "stdout",
       "text": [
        " Gti: 22858 intervals from 239557417 to 365467549, on time 102630509\n",
        "Verified binfile /afs/slac/g/glast/groups/catalog//pointlike/fermi/data/P7_P202/4years_4bpd.fits\n",
        "FT file(s) \"/afs/slac/g/glast/groups/catalog//pointlike/fermi/data/../../P7_P202/ft2_4years.fits\" not found: assume None to test for valid binfile\n",
        "no header info in ltcube?\n",
        "Accepting ltcube without DSS info since legacy specified\n",
        "Verified ltcube /afs/slac/g/glast/groups/catalog//pointlike/fermi/data/P7_P202/ltcube_4years_zmax100.fits"
       ]
      },
      {
       "output_type": "stream",
       "stream": "stdout",
       "text": [
        "\n",
        "loading binfile /afs/slac/g/glast/groups/catalog//pointlike/fermi/data/P7_P202/4years_4bpd.fits ..."
       ]
      },
      {
       "output_type": "stream",
       "stream": "stdout",
       "text": [
        " found 71168552 photons in 40 bands, energies 10-1000000 MeV\n",
        "dataset \"P7_P202\", found in /afs/slac/g/glast/groups/catalog//pointlike/fermi/data/dataspec.py:\n",
        "  Bins per decade: 4\n",
        "  FT1 files: \tNone\n",
        "  FT2 files: \tNone\n",
        "  Binned data: /afs/slac/g/glast/groups/catalog//pointlike/fermi/data/P7_P202/4years_4bpd.fits\n",
        "             :  71168552 photons, 40 energy bands from 10 to 1000000 MeV\n",
        "  Livetime cube: /afs/slac/g/glast/groups/catalog//pointlike/fermi/data/P7_P202/ltcube_4years_zmax100.fits\n",
        "  Gti: 22858 intervals from 239557417 to 365467549, on time 102630509\n",
        "  DSS: name             value     units     ref       \n",
        "       TIME             TABLE     s          :GTI\n",
        "       ENERGY           30:1000000MeV        None\n",
        "       ZENITH_ANGLE     0:100     deg        None\n",
        "       THETA            :66.4     deg        None\n",
        "       BIT_MASK(EVENT_CLASS,2)  1:1       DIMENSIONLESS None\n",
        "\n",
        "Will load healpix sources from /afs/slac/g/glast/groups/catalog//pointlike/fermi/skymodels/P202/uw30/pickle.zip"
       ]
      },
      {
       "output_type": "stream",
       "stream": "stdout",
       "text": [
        "\n",
        "CPU times: user 7.52 s, sys: 300 ms, total: 7.82 s"
       ]
      },
      {
       "output_type": "stream",
       "stream": "stdout",
       "text": [
        "\n",
        "Wall time: 7.96 s\n"
       ]
      }
     ],
     "prompt_number": 5
    },
    {
     "cell_type": "markdown",
     "metadata": {},
     "source": [
      "Now let's examine the individual entries, and the corresponding output from the setup.<br> First note important environment variables;"
     ]
    },
    {
     "cell_type": "heading",
     "level": 2,
     "metadata": {},
     "source": [
      "Environment variables"
     ]
    },
    {
     "cell_type": "code",
     "collapsed": false,
     "input": [
      "for key in 'GLAST_EXT INST_DIR BASE_DIR FERMI'.split():\n",
      "    print '%-15s : %s' % (key ,os.environ.get(key, None)) \n",
      "for p in ['PATH','PYTHONPATH']:\n",
      "    print '%-15s : %s:...' % (p, os.environ[p].split(':')[0])"
     ],
     "language": "python",
     "metadata": {},
     "outputs": [
      {
       "output_type": "stream",
       "stream": "stdout",
       "text": [
        "GLAST_EXT       : /afs/slac/g/glast/ground/GLAST_EXT/redhat6-x86_64-64bit-gcc44\n",
        "INST_DIR        : /nfs/farm/g/glast/u35/ReleaseManagerBuild/redhat6-x86_64-64bit-gcc44/Optimized/ScienceTools/09-31-01\n",
        "BASE_DIR        : /nfs/farm/g/glast/u35/ReleaseManagerBuild/redhat6-x86_64-64bit-gcc44/Optimized/ScienceTools/09-31-01\n",
        "FERMI           : /afs/slac/g/glast/groups/catalog//pointlike/fermi\n",
        "PATH            : /afs/slac/g/glast/groups/catalog//python/anaconda/bin:...\n",
        "PYTHONPATH      : /afs/slac/g/glast/groups/catalog//pointlike/python:...\n"
       ]
      }
     ],
     "prompt_number": 6
    },
    {
     "cell_type": "markdown",
     "metadata": {},
     "source": [
      "The environment variables PATH and PYTHONPATH have prepended entries for a local python installation, and perhaps local version of the uw python code. Otherwise the paths are as setup by the science tools."
     ]
    },
    {
     "cell_type": "markdown",
     "metadata": {},
     "source": [
      "The folder pointed to by <tt>FERMI</tt> has subfolders <tt>catalog, data, diffuse, custom_irfs</tt>, and <tt>skymodels</tt>:"
     ]
    },
    {
     "cell_type": "code",
     "collapsed": false,
     "input": [
      "!ls -l $FERMI"
     ],
     "language": "python",
     "metadata": {},
     "outputs": [
      {
       "output_type": "stream",
       "stream": "stdout",
       "text": [
        "total 82\r\n",
        "drwxrwsr-x 7 burnett glast-catalog 14 Feb 24 12:21 catalog\r\n",
        "drwxrwsr-x 3 burnett glast-catalog 45 Apr 28 13:06 custom_irfs\r\n",
        "drwxrwsr-x 8 burnett glast-catalog  9 Feb  4 12:54 data\r\n",
        "drwxrwsr-x 9 burnett glast-catalog 87 Feb 20 08:08 diffuse\r\n",
        "lrwxrwxrwx 1 burnett glast-catalog 12 May  8 15:29 skymodels -> ../skymodels\r\n"
       ]
      }
     ],
     "prompt_number": 7
    },
    {
     "cell_type": "code",
     "collapsed": false,
     "input": [],
     "language": "python",
     "metadata": {},
     "outputs": [],
     "prompt_number": 7
    },
    {
     "cell_type": "heading",
     "level": 1,
     "metadata": {},
     "source": [
      "datadict and irf"
     ]
    },
    {
     "cell_type": "markdown",
     "metadata": {},
     "source": [
      "The class <a href=\"http://glast.stanford.edu/cgi-bin/cvsweb-SLAC/pointlike/python/uw/like2/dataset.py?view=markup\"><tt>dataset.DataSet</tt></a> is initialized with the datadict['dataname'] and the value of <tt>irf</tt>.\n",
      "<p>The name is a key to a dictionary defined by the file <tt>$FERMI/data/dataspec.py</tt>"
     ]
    },
    {
     "cell_type": "markdown",
     "metadata": {},
     "source": [
      "It defines the dataset, with entries for FT1, FT2, binfile, and ltcube. A summary is printed with its <tt>\\_\\_repr\\_\\_</tt> function:  "
     ]
    },
    {
     "cell_type": "code",
     "collapsed": false,
     "input": [
      "print config.dataset"
     ],
     "language": "python",
     "metadata": {},
     "outputs": [
      {
       "output_type": "stream",
       "stream": "stdout",
       "text": [
        "dataset \"P7_P202\", found in /afs/slac/g/glast/groups/catalog//pointlike/fermi/data/dataspec.py:\n",
        "  Bins per decade: 4\n",
        "  FT1 files: \tNone\n",
        "  FT2 files: \tNone\n",
        "  Binned data: /afs/slac/g/glast/groups/catalog//pointlike/fermi/data/P7_P202/4years_4bpd.fits\n",
        "             :  71168552 photons, 40 energy bands from 10 to 1000000 MeV\n",
        "  Livetime cube: /afs/slac/g/glast/groups/catalog//pointlike/fermi/data/P7_P202/ltcube_4years_zmax100.fits\n",
        "  Gti: 22858 intervals from 239557417 to 365467549, on time 102630509\n",
        "  DSS: name             value     units     ref       \n",
        "       TIME             TABLE     s          :GTI\n",
        "       ENERGY           30:1000000MeV        None\n",
        "       ZENITH_ANGLE     0:100     deg        None\n",
        "       THETA            :66.4     deg        None\n",
        "       BIT_MASK(EVENT_CLASS,2)  1:1       DIMENSIONLESS None\n",
        "\n"
       ]
      }
     ],
     "prompt_number": 8
    },
    {
     "cell_type": "markdown",
     "metadata": {},
     "source": [
      "The entries for FT1 and FT2 can be <tt>None</tt>, meaning that the binned data and livetime cube files exist: Otherwise they may be used to create the secondary files. All such files have DSS keywords, as summarized, which are checked for consistency."
     ]
    },
    {
     "cell_type": "heading",
     "level": 1,
     "metadata": {},
     "source": [
      "input_model"
     ]
    },
    {
     "cell_type": "markdown",
     "metadata": {},
     "source": [
      "This optional entry is a dictionary. The key <tt>path</tt> points to a folder that must contain a file <tt>pickle.zip</tt>, with a full description of a model. If <tt>input_model</tt> is not specified, it is assumed that <tt>pickle.zip</tt> is in the same folder as <tt>config.txt</tt>\n",
      "<p>In this case the entry is used to point to the folder where the model was created.\n",
      "<p>The model described by <tt>pickle.zip</tt> represents a list of sources for the entire sky, including point, extended, and global sources. Positional information for the latter two are obtained from the extended catalog and the list of diffuse definitions."
     ]
    },
    {
     "cell_type": "heading",
     "level": 1,
     "metadata": {},
     "source": [
      "extended"
     ]
    },
    {
     "cell_type": "markdown",
     "metadata": {},
     "source": [
      "This is a string which is the path to the extended folder, which must be found under <tt>FERMI</tt>."
     ]
    },
    {
     "cell_type": "code",
     "collapsed": false,
     "input": [
      "print 'extended :', config.extended\n",
      "!ls -l $$FERMI/catalog/$config.extended"
     ],
     "language": "python",
     "metadata": {},
     "outputs": [
      {
       "output_type": "stream",
       "stream": "stdout",
       "text": [
        "extended : Extended_archive_v13\n",
        "total 17\r\n",
        "-rw-rw-r-- 1 burnett glast-catalog  4824 Mar 24  2013 LAT_extended_sources.csv\r\n",
        "-rw-rw-r-- 1 burnett glast-catalog 17280 Mar 24  2013 LAT_extended_sources_v13.fit\r\n",
        "drwxrwsr-x 2 burnett glast-catalog    28 Mar 25  2013 Templates\r\n",
        "drwxrwsr-x 2 burnett glast-catalog    29 Mar 25  2013 XML\r\n"
       ]
      }
     ],
     "prompt_number": 9
    },
    {
     "cell_type": "heading",
     "level": 1,
     "metadata": {},
     "source": [
      "diffuse"
     ]
    },
    {
     "cell_type": "markdown",
     "metadata": {},
     "source": [
      "This entry is dictionary defining the diffuse components of the model, with keys for source names, and values describing the list of diffuse, or global sources. The values are interpreted by the function <a href='http://glast.stanford.edu/cgi-bin/cvsweb-SLAC/pointlike/python/uw/like2/diffuse.py?view=markup'><tt>diffuse.diffuse_factory</tt></a>"
     ]
    },
    {
     "cell_type": "code",
     "collapsed": false,
     "input": [
      "from uw.like2 import diffuse; reload(diffuse)\n",
      "for key in config.diffuse.keys():\n",
      "    print '%-7s: %s' % ( key, diffuse.diffuse_factory(config.diffuse[key]))"
     ],
     "language": "python",
     "metadata": {},
     "outputs": [
      {
       "output_type": "stream",
       "stream": "stdout",
       "text": [
        "limb   : uw.like2.diffuse.DiffuseList\n",
        "\tAziLimb: PowerLaw(1e-11, 4.0), North,South=0.8,0.8\n",
        "\tAziLimb: PowerLaw(1e-11, 4.0), North,South=0.9,2.0\n",
        "ring   : uw.like2.diffuse.DiffuseList\n",
        "\tuw.like2.diffuse.CachedMapCube: /afs/slac/g/glast/groups/catalog//pointlike/fermi/diffuse/template_4years_P7_v15_repro_v3_4bpd.zip\n",
        "isotrop: uw.like2.diffuse.DiffuseList\n",
        "\tIsotropic: /afs/slac/g/glast/groups/catalog//pointlike/fermi/diffuse/4Y_SOURCE_FRONT_V9_EGBfree.txt\n",
        "\tIsotropic: /afs/slac/g/glast/groups/catalog//pointlike/fermi/diffuse/4Y_SOURCE_BACK_V9_EGBfree.txt"
       ]
      },
      {
       "output_type": "stream",
       "stream": "stdout",
       "text": [
        "\n",
        "SunMoon: uw.like2.diffuse.DiffuseList\n",
        "\tMapCube: /afs/slac/g/glast/groups/catalog//pointlike/fermi/diffuse/SunMoon_4years_zmax100.fits\n"
       ]
      }
     ],
     "prompt_number": 10
    },
    {
     "cell_type": "markdown",
     "metadata": {},
     "source": [
      "In this example the values except for <tt>ring</tt> are strings. <tt>ring</tt> is a dict to specify systematic diffuse corrections. \n",
      "The classes, <tt>MapCube, Isotropic</tt> etc., are subclasses of <a href=\"http://glast.stanford.edu/cgi-bin/cvsweb-SLAC/pointlike/python/uw/like2/diffuse.py?view=markup\"><tt>diffuse.DiffuseBase</tt></a>, and are explained in a separate document."
     ]
    },
    {
     "cell_type": "markdown",
     "metadata": {},
     "source": [
      "<hr style=\"height:2px;\"/>\n",
      "\\$Header: /nfs/slac/g/glast/ground/cvs/pointlike/python/uw/like2/notebooks/configuration.ipynb,v 1.9 2014/05/08 21:17:24 burnett Exp $"
     ]
    }
   ],
   "metadata": {}
  }
 ]
}