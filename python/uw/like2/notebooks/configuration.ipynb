{
 "metadata": {
  "name": "",
  "signature": "sha256:ce955357a508f5602ec585f5ec9c134fd918fe1561b9145d565b29ee91ac0bf9"
 },
 "nbformat": 3,
 "nbformat_minor": 0,
 "worksheets": [
  {
   "cells": [
    {
     "cell_type": "markdown",
     "metadata": {},
     "source": [
      "#Pointlike Configuration\n",
      "The configuration for pointlike/like2 analysis is defined by a text file config.txt, which is a Python dictionary. This notebook describes the items.\n",
      "<p>\n",
      "This cell defines our 3FGL-like example by setting up a special folder in <tt>/tmp</tt> and cd'ing to it."
     ]
    },
    {
     "cell_type": "code",
     "collapsed": false,
     "input": [
      "import os\n",
      "tmpdir = '/tmp/pointlike_demo'\n",
      "if not os.path.exists(tmpdir): os.makedirs(tmpdir)\n",
      "os.chdir(tmpdir)\n",
      "with open('config.txt', 'w') as f:\n",
      "    f.write(\n",
      "\"\"\"{\n",
      "    'datadict': {'dataname': 'P7_P202',},\n",
      "    'irf': 'P7REP_SOURCE_V15',\n",
      "    \n",
      "    'input_model' : dict(path='$FERMI/skymodels/P202/uw30'),\n",
      "\n",
      "    'diffuse': dict(\n",
      "        ring    =  dict(filename='template_4years_P7_v15_repro_v3_4bpd.zip',\n",
      "                    correction='galactic_correction_v3.csv', \n",
      "                    systematic=0.0316), \n",
      "        isotrop = '4Y_SOURCE_**_V9_EGBfree.txt', \n",
      "        SunMoon = 'SunMoon_4years_zmax100.fits', \n",
      "        limb    = 'AziLimb:azi_limb_P7_v0_*.txt',\n",
      "        ),\n",
      "    \n",
      "    'extended': 'Extended_archive_v13',\n",
      "}\"\"\"\n",
      ")\n",
      "%matplotlib inline\n",
      "%secnum"
     ],
     "language": "python",
     "metadata": {},
     "outputs": [
      {
       "javascript": [
        "console.log(\"Section numbering...\");\n",
        "\n",
        "function number_sections(threshold) {\n",
        "\n",
        "  var h1_number = 0;\n",
        "  var h2_number = 0;\n",
        "\n",
        "  if (threshold === undefined) {\n",
        "    threshold = 2;  // does nothing so far\n",
        "  }\n",
        "\n",
        "  var cells = IPython.notebook.get_cells();\n",
        "  \n",
        "  for (var i=0; i < cells.length; i++) {\n",
        "\n",
        "    var cell = cells[i];\n",
        "    if (cell.cell_type !== 'heading') continue;\n",
        "    \n",
        "    var level = cell.level;\n",
        "    if (level > threshold) continue;\n",
        "    \n",
        "    if (level === 1) {\n",
        "        \n",
        "        h1_number ++;\n",
        "        var h1_element = cell.element.find('h1');\n",
        "        var h1_html = h1_element.html();\n",
        "        \n",
        "        console.log(\"h1_html: \" + h1_html);\n",
        "\n",
        "        var patt = /^[0-9]+\\.\\s(.*)/;   // section number at start of string\n",
        "        var title = h1_html.match(patt);  // just the title\n",
        "\n",
        "        if (title != null) {  \n",
        "          h1_element.html(h1_number + \". \" + title[1]);\n",
        "        }\n",
        "        else {\n",
        "          h1_element.html(h1_number + \". \" + h1_html);\n",
        "        }\n",
        "        \n",
        "        h2_number = 0;\n",
        "        \n",
        "    }\n",
        "    \n",
        "    if (level === 2) {\n",
        "    \n",
        "        h2_number ++;\n",
        "        \n",
        "        var h2_element = cell.element.find('h2');\n",
        "        var h2_html = h2_element.html();\n",
        "\n",
        "        console.log(\"h2_html: \" + h2_html);\n",
        "\n",
        "        \n",
        "        var patt = /^[0-9]+\\.[0-9]+\\.\\s/;\n",
        "        var result = h2_html.match(patt);\n",
        "\n",
        "        if (result != null) {\n",
        "          h2_html = h2_html.replace(result, \"\");\n",
        "        }\n",
        "\n",
        "        h2_element.html(h1_number + \".\" + h2_number + \". \" + h2_html);\n",
        "        \n",
        "    }\n",
        "    \n",
        "  }\n",
        "  \n",
        "}\n",
        "\n",
        "number_sections();\n",
        "\n",
        "// $([IPython.evnts]).on('create.Cell', number_sections);\n",
        "\n",
        "$([IPython.events]).on('selected_cell_type_changed.Notebook', number_sections);\n",
        "\n"
       ],
       "metadata": {},
       "output_type": "display_data"
      }
     ],
     "prompt_number": 1
    },
    {
     "cell_type": "markdown",
     "metadata": {},
     "source": [
      "The keys in this dictionary are used to define the environment. "
     ]
    },
    {
     "cell_type": "heading",
     "level": 1,
     "metadata": {},
     "source": [
      "Setup and environment variables"
     ]
    },
    {
     "cell_type": "markdown",
     "metadata": {},
     "source": [
      "Now read it in with the <a href=\"http://glast.stanford.edu/cgi-bin/cvsweb-SLAC/pointlike/python/uw/like2/configuration.py?view=markup\"><tt>configuration.Configuration</tt></a> class:"
     ]
    },
    {
     "cell_type": "code",
     "collapsed": false,
     "input": [
      "from uw.like2 import configuration\n",
      "%time config = configuration.Configuration()"
     ],
     "language": "python",
     "metadata": {},
     "outputs": [
      {
       "output_type": "stream",
       "stream": "stdout",
       "text": [
        "Using configuration file \"config.txt\" in folder: /tmp/pointlike_demo/.\n",
        "Opening dataset P7_P202 from key in /phys/users/tburnett/fermi/data/dataspec.py\n",
        "Extracting DSS from existing binfile"
       ]
      },
      {
       "output_type": "stream",
       "stream": "stdout",
       "text": [
        "\n",
        "GTI from binfile"
       ]
      },
      {
       "output_type": "stream",
       "stream": "stdout",
       "text": [
        " Gti: 22858 intervals from 239557417 to 365467549, on time 102630509\n",
        "Verified binfile /phys/users/tburnett/fermi/data/P7_P202/4years_4bpd.fits\n",
        "no header info in ltcube?"
       ]
      },
      {
       "output_type": "stream",
       "stream": "stdout",
       "text": [
        "\n",
        "Accepting ltcube without DSS info since legacy specified\n",
        "Verified ltcube /phys/users/tburnett/fermi/data/P7_P202/ltcube_4years_zmax100.fits"
       ]
      },
      {
       "output_type": "stream",
       "stream": "stdout",
       "text": [
        "\n",
        "loading binfile /phys/users/tburnett/fermi/data/P7_P202/4years_4bpd.fits ..."
       ]
      },
      {
       "output_type": "stream",
       "stream": "stdout",
       "text": [
        " found 71168552 photons in 40 bands, energies 10-1000000 MeV\n",
        "dataset \"P7_P202\", found in /phys/users/tburnett/fermi/data/dataspec.py:\n",
        "  Bins per decade: 4\n",
        "  FT1 files: \tNone\n",
        "  FT2 files: \tNone\n",
        "  Binned data: /phys/users/tburnett/fermi/data/P7_P202/4years_4bpd.fits\n",
        "             :  71168552 photons, 40 energy bands from 10 to 1000000 MeV\n",
        "  Livetime cube: /phys/users/tburnett/fermi/data/P7_P202/ltcube_4years_zmax100.fits\n",
        "  Gti: 22858 intervals from 239557417 to 365467549, on time 102630509\n",
        "  DSS: name             value     units     ref       \n",
        "       TIME             TABLE     s          :GTI\n",
        "       ENERGY           30:1000000MeV        None\n",
        "       ZENITH_ANGLE     0:100     deg        None\n",
        "       THETA            :66.4     deg        None\n",
        "       BIT_MASK(EVENT_CLASS,2)  1:1       DIMENSIONLESS None\n",
        "\n",
        "Will load healpix sources from /phys/users/tburnett/fermi/skymodels/P202/uw30/pickle.zip"
       ]
      },
      {
       "output_type": "stream",
       "stream": "stdout",
       "text": [
        "\n",
        "CPU times: user 8.95 s, sys: 227 ms, total: 9.18 s\n",
        "Wall time: 9.61 s\n"
       ]
      }
     ],
     "prompt_number": 2
    },
    {
     "cell_type": "markdown",
     "metadata": {},
     "source": [
      "Now let's examine the individual entries, and the corresponding output from the setup.<br> First note important environment variables;"
     ]
    },
    {
     "cell_type": "heading",
     "level": 2,
     "metadata": {},
     "source": [
      "Environment variables"
     ]
    },
    {
     "cell_type": "code",
     "collapsed": false,
     "input": [
      "for key in 'GLAST_EXT INST_DIR BASE_DIR FERMI'.split():\n",
      "    print '%-15s : %s' % (key ,os.environ.get(key, None)) \n",
      "for p in ['PATH','PYTHONPATH']:\n",
      "    print '%-15s : %s:...' % (p, os.environ[p].split(':')[0])"
     ],
     "language": "python",
     "metadata": {},
     "outputs": [
      {
       "output_type": "stream",
       "stream": "stdout",
       "text": [
        "GLAST_EXT       : /phys/users/glast/extlib\n",
        "INST_DIR        : /phys/users/glast/packages/ScienceTools-09-33-00\n",
        "BASE_DIR        : /phys/users/glast/packages/ScienceTools-09-33-00\n",
        "FERMI           : /phys/users/tburnett/fermi\n",
        "PATH            : /phys/users/tburnett/anaconda/bin:...\n",
        "PYTHONPATH      : /phys/users/tburnett/python:...\n"
       ]
      }
     ],
     "prompt_number": 3
    },
    {
     "cell_type": "markdown",
     "metadata": {},
     "source": [
      "The environment variables PATH and PYTHONPATH have prepended entries for a local python installation, and perhaps local version of the uw python code. Otherwise the paths are as setup by the science tools."
     ]
    },
    {
     "cell_type": "markdown",
     "metadata": {},
     "source": [
      "The folder pointed to by <tt>FERMI</tt> has subfolders <tt>catalog, data, diffuse, custom_irfs</tt>, and <tt>skymodels</tt>:"
     ]
    },
    {
     "cell_type": "code",
     "collapsed": false,
     "input": [
      "!ls -l $FERMI"
     ],
     "language": "python",
     "metadata": {},
     "outputs": [
      {
       "output_type": "stream",
       "stream": "stdout",
       "text": [
        "total 12\r\n",
        "drwxr-xr-x 5 tburnett tburnett 4096 Feb 23 06:12 catalog\r\n",
        "drwxr-xr-x 3 tburnett tburnett 4096 Feb  7 06:39 custom_irfs\r\n",
        "drwxr-xr-x 7 tburnett tburnett  130 Feb 25 10:36 data\r\n",
        "drwxr-xr-x 2 tburnett tburnett 4096 Feb 20 10:35 diffuse\r\n",
        "drwxr-xr-x 2 tburnett tburnett   70 Apr 15 11:33 documents\r\n",
        "lrwxrwxrwx 1 tburnett tburnett   13 Dec  7 14:38 skymodels -> ../skymodels/\r\n",
        "drwxr-xr-x 2 tburnett tburnett   46 Feb 25 10:36 test_like2\r\n"
       ]
      }
     ],
     "prompt_number": 5
    },
    {
     "cell_type": "heading",
     "level": 1,
     "metadata": {},
     "source": [
      "datadict and irf"
     ]
    },
    {
     "cell_type": "markdown",
     "metadata": {},
     "source": [
      "The class <a href=\"http://glast.stanford.edu/cgi-bin/cvsweb-SLAC/pointlike/python/uw/like2/dataset.py?view=markup\"><tt>dataset.DataSet</tt></a> is initialized with the datadict['dataname'] and the value of <tt>irf</tt>.\n",
      "<p>The name is a key to a dictionary defined by the file <tt>$FERMI/data/dataspec.py</tt>"
     ]
    },
    {
     "cell_type": "markdown",
     "metadata": {},
     "source": [
      "It defines the dataset, with entries for FT1, FT2, binfile, and ltcube. A summary is printed with its <tt>\\_\\_repr\\_\\_</tt> function:  "
     ]
    },
    {
     "cell_type": "code",
     "collapsed": false,
     "input": [
      "print config.dataset"
     ],
     "language": "python",
     "metadata": {},
     "outputs": [
      {
       "output_type": "stream",
       "stream": "stdout",
       "text": [
        "dataset \"P7_P202\", found in /phys/users/tburnett/fermi/data/dataspec.py:\n",
        "  Bins per decade: 4\n",
        "  FT1 files: \tNone\n",
        "  FT2 files: \tNone\n",
        "  Binned data: /phys/users/tburnett/fermi/data/P7_P202/4years_4bpd.fits\n",
        "             :  71168552 photons, 40 energy bands from 10 to 1000000 MeV\n",
        "  Livetime cube: /phys/users/tburnett/fermi/data/P7_P202/ltcube_4years_zmax100.fits\n",
        "  Gti: 22858 intervals from 239557417 to 365467549, on time 102630509\n",
        "  DSS: name             value     units     ref       \n",
        "       TIME             TABLE     s          :GTI\n",
        "       ENERGY           30:1000000MeV        None\n",
        "       ZENITH_ANGLE     0:100     deg        None\n",
        "       THETA            :66.4     deg        None\n",
        "       BIT_MASK(EVENT_CLASS,2)  1:1       DIMENSIONLESS None\n",
        "\n"
       ]
      }
     ],
     "prompt_number": 6
    },
    {
     "cell_type": "markdown",
     "metadata": {},
     "source": [
      "The entries for FT1 and FT2 can be <tt>None</tt>, meaning that the binned data and livetime cube files exist: Otherwise they may be used to create the secondary files. All such files have DSS keywords, as summarized, which are checked for consistency."
     ]
    },
    {
     "cell_type": "heading",
     "level": 1,
     "metadata": {},
     "source": [
      "input_model"
     ]
    },
    {
     "cell_type": "markdown",
     "metadata": {},
     "source": [
      "This optional entry is a dictionary. The key <tt>path</tt> points to a folder that must contain a file <tt>pickle.zip</tt>, with a full description of a model. If <tt>input_model</tt> is not specified, it is assumed that <tt>pickle.zip</tt> is in the same folder as <tt>config.txt</tt>\n",
      "<p>In this case the entry is used to point to the folder where the model was created.\n",
      "<p>The model described by <tt>pickle.zip</tt> represents a list of sources for the entire sky, including point, extended, and global sources. Positional information for the latter two are obtained from the extended catalog and the list of diffuse definitions."
     ]
    },
    {
     "cell_type": "heading",
     "level": 1,
     "metadata": {},
     "source": [
      "extended"
     ]
    },
    {
     "cell_type": "markdown",
     "metadata": {},
     "source": [
      "This is a string which is the path to the extended folder, which must be found under <tt>FERMI</tt>."
     ]
    },
    {
     "cell_type": "code",
     "collapsed": false,
     "input": [
      "print 'extended :', config.extended\n",
      "!ls -l $$FERMI/catalog/$config.extended"
     ],
     "language": "python",
     "metadata": {},
     "outputs": [
      {
       "output_type": "stream",
       "stream": "stdout",
       "text": [
        "extended : Extended_archive_v13\n",
        "total 36\r\n",
        "-rwxr--r-- 1 tburnett tburnett  4824 Mar 24  2013 LAT_extended_sources.csv\r\n",
        "-rwxr--r-- 1 tburnett tburnett 17280 Mar 24  2013 LAT_extended_sources_v13.fit\r\n",
        "drwxr-xr-x 2 tburnett tburnett  4096 Nov 29 10:09 Templates\r\n",
        "drwxr-xr-x 2 tburnett tburnett  4096 Nov 29 10:09 XML\r\n"
       ]
      }
     ],
     "prompt_number": 7
    },
    {
     "cell_type": "heading",
     "level": 1,
     "metadata": {},
     "source": [
      "diffuse"
     ]
    },
    {
     "cell_type": "markdown",
     "metadata": {},
     "source": [
      "This entry is dictionary defining the diffuse components of the model, with keys for source names, and values describing the list of diffuse, or global sources. The values are interpreted by the function <a href='http://glast.stanford.edu/cgi-bin/cvsweb-SLAC/pointlike/python/uw/like2/diffuse.py?view=markup'><tt>diffuse.diffuse_factory</tt></a>"
     ]
    },
    {
     "cell_type": "code",
     "collapsed": false,
     "input": [
      "from uw.like2 import diffuse; reload(diffuse)\n",
      "for key in config.diffuse.keys():\n",
      "    print '%-7s: %s' % ( key, diffuse.diffuse_factory(config.diffuse[key]))"
     ],
     "language": "python",
     "metadata": {},
     "outputs": [
      {
       "output_type": "stream",
       "stream": "stdout",
       "text": [
        "limb   : uw.like2.diffuse.DiffuseList\n",
        "\tAziLimb: PowerLaw(1e-11, 4.0), North,South=0.8,0.8\n",
        "\tAziLimb: PowerLaw(1e-11, 4.0), North,South=0.9,2.0\n",
        "ring   : uw.like2.diffuse.DiffuseList\n",
        "\tuw.like2.diffuse.CachedMapCube: /phys/users/tburnett/fermi/diffuse/template_4years_P7_v15_repro_v3_4bpd.zip\n",
        "isotrop: uw.like2.diffuse.DiffuseList\n",
        "\tIsotropic: /phys/users/tburnett/fermi/diffuse/4Y_SOURCE_FRONT_V9_EGBfree.txt\n",
        "\tIsotropic: /phys/users/tburnett/fermi/diffuse/4Y_SOURCE_BACK_V9_EGBfree.txt\n",
        "SunMoon: uw.like2.diffuse.DiffuseList\n",
        "\tMapCube: /phys/users/tburnett/fermi/diffuse/SunMoon_4years_zmax100.fits\n"
       ]
      }
     ],
     "prompt_number": 8
    },
    {
     "cell_type": "markdown",
     "metadata": {},
     "source": [
      "In this example the values except for <tt>ring</tt> are strings. <tt>ring</tt> is a dict to specify systematic diffuse corrections. \n",
      "The classes, <tt>MapCube, Isotropic</tt> etc., are subclasses of <a href=\"http://glast.stanford.edu/cgi-bin/cvsweb-SLAC/pointlike/python/uw/like2/diffuse.py?view=markup\"><tt>diffuse.DiffuseBase</tt></a>, and are explained in a separate document."
     ]
    },
    {
     "cell_type": "markdown",
     "metadata": {},
     "source": [
      "<hr style=\"height:2px;\"/>\n",
      "\\$Header: /nfs/slac/g/glast/ground/cvs/pointlike/python/uw/like2/notebooks/configuration.ipynb,v 1.8 2014/04/09 22:36:16 burnett Exp $"
     ]
    }
   ],
   "metadata": {}
  }
 ]
}