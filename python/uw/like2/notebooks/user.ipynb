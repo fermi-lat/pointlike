{
 "metadata": {
  "name": "",
  "signature": "sha256:2b9158521424fd8b7a183255e6f97253235c30bbb41908ae1e26e53f2a1f9efc"
 },
 "nbformat": 3,
 "nbformat_minor": 0,
 "worksheets": [
  {
   "cells": [
    {
     "cell_type": "markdown",
     "metadata": {},
     "source": [
      "#The user interface\n",
      "The class <a href=\"http://glast.stanford.edu/cgi-bin/cvsweb-SLAC/pointlike/python/uw/like2/main.py?view=markup\"><tt>main.ROI</tt></a> is a subclass of the class <tt>views.LikelihoodViews</tt> described in the fitting notebook. It adds user-level capability, as described in this notebook. The following is copied from the docstring. This notebook will illustrate some of them, using our same ROI.\n",
      "\n",
      "### properties\n",
      "    all_energies -- list of all band energies\n",
      "    bands      -- BandSet object, a list of all thebands\n",
      "    emin, emax -- range of energies used by currently selected bands\n",
      "    energies   -- list of central energies\n",
      "    quiet      -- flag to suppress most output\n",
      "    roi_dir    -- center of the ROI\n",
      "    sources    -- ROImodel object, managing the source list\n",
      "    selected   -- list of selected bands\n",
      "\n",
      "### likelihood-related functions\n",
      "    fit        -- perform a fit\n",
      "    gradient   -- return the gradient\n",
      "    hessian    -- return the hessian, a n x n matrix\n",
      "    log_like   -- value of the log likelihood\n",
      "    delta_loglike -- estimate of possible improvement.\n",
      "    summarize  -- a table of free parameters, values, errors, gradient\n",
      "\n",
      "\n",
      "### source-related functions\n",
      "All of these but add_source take the name of a source, which is an optional parameter: if a source has \n",
      "      already been selected, it will be used\n",
      "    \n",
      "    TS         -- TS for current source\n",
      "    add_source -- add a new source\n",
      "    band_ts    -- band TS \n",
      "    del_source -- delete a source\n",
      "    find_associations -- find associations for current source\n",
      "    get_model  -- the model\n",
      "    get_sed    -- return SED information for the current source\n",
      "    get_source -- select and return a source\n",
      "    freeze     -- freeze a parameter\n",
      "    set_model  -- change the spectral model for a source\n",
      "    thaw -- thaw (unfreeze) a parameter\n",
      "\n",
      "### plot/print\n",
      "\n",
      "    plot_counts\n",
      "    plot_sed\n",
      "    plot_tsmap\n",
      "    plot_roi_position\n",
      "    print_summary\n",
      "    print_sed\n",
      "\n",
      "### change bands\n",
      "\n",
      "    select -- select a subset of the bands, which will be used subsequently to define likelihood functions\n"
     ]
    },
    {
     "cell_type": "heading",
     "level": 1,
     "metadata": {},
     "source": [
      "Creating an ROI object"
     ]
    },
    {
     "cell_type": "markdown",
     "metadata": {},
     "source": [
      "We use the same demo ROI as before, ROI #840. This assumes that the configuration notebook has set up the configuration file."
     ]
    },
    {
     "cell_type": "code",
     "collapsed": false,
     "input": [
      "import os; os.chdir('/tmp/pointlike_demo')\n",
      "%secnum\n",
      "from uw.like2 import main\n",
      "%time roi = main.ROI('.', 840)\n",
      "print roi\n",
      "roi.plot_roi_position()"
     ],
     "language": "python",
     "metadata": {},
     "outputs": [
      {
       "javascript": [
        "console.log(\"Section numbering...\");\n",
        "\n",
        "function number_sections(threshold) {\n",
        "\n",
        "  var h1_number = 0;\n",
        "  var h2_number = 0;\n",
        "\n",
        "  if (threshold === undefined) {\n",
        "    threshold = 2;  // does nothing so far\n",
        "  }\n",
        "\n",
        "  var cells = IPython.notebook.get_cells();\n",
        "  \n",
        "  for (var i=0; i < cells.length; i++) {\n",
        "\n",
        "    var cell = cells[i];\n",
        "    if (cell.cell_type !== 'heading') continue;\n",
        "    \n",
        "    var level = cell.level;\n",
        "    if (level > threshold) continue;\n",
        "    \n",
        "    if (level === 1) {\n",
        "        \n",
        "        h1_number ++;\n",
        "        var h1_element = cell.element.find('h1');\n",
        "        var h1_html = h1_element.html();\n",
        "        \n",
        "        console.log(\"h1_html: \" + h1_html);\n",
        "\n",
        "        var patt = /^[0-9]+\\.\\s(.*)/;   // section number at start of string\n",
        "        var title = h1_html.match(patt);  // just the title\n",
        "\n",
        "        if (title != null) {  \n",
        "          h1_element.html(h1_number + \". \" + title[1]);\n",
        "        }\n",
        "        else {\n",
        "          h1_element.html(h1_number + \". \" + h1_html);\n",
        "        }\n",
        "        \n",
        "        h2_number = 0;\n",
        "        \n",
        "    }\n",
        "    \n",
        "    if (level === 2) {\n",
        "    \n",
        "        h2_number ++;\n",
        "        \n",
        "        var h2_element = cell.element.find('h2');\n",
        "        var h2_html = h2_element.html();\n",
        "\n",
        "        console.log(\"h2_html: \" + h2_html);\n",
        "\n",
        "        \n",
        "        var patt = /^[0-9]+\\.[0-9]+\\.\\s/;\n",
        "        var result = h2_html.match(patt);\n",
        "\n",
        "        if (result != null) {\n",
        "          h2_html = h2_html.replace(result, \"\");\n",
        "        }\n",
        "\n",
        "        h2_element.html(h1_number + \".\" + h2_number + \". \" + h2_html);\n",
        "        \n",
        "    }\n",
        "    \n",
        "  }\n",
        "  \n",
        "}\n",
        "\n",
        "number_sections();\n",
        "\n",
        "// $([IPython.evnts]).on('create.Cell', number_sections);\n",
        "\n",
        "$([IPython.events]).on('selected_cell_type_changed.Notebook', number_sections);\n",
        "\n"
       ],
       "metadata": {},
       "output_type": "display_data"
      },
      {
       "output_type": "stream",
       "stream": "stdout",
       "text": [
        "finished adding sources\n",
        "CPU times: user 1min 29s, sys: 442 ms, total: 1min 29s"
       ]
      },
      {
       "output_type": "stream",
       "stream": "stdout",
       "text": [
        "\n",
        "Wall time: 1min 29s\n",
        "uw.like2.main.ROI :\n",
        "\tuw.like2.configuration.Configuration: /tmp/pointlike_demo/.\n",
        "\tuw.like2.from_healpix.ROImodelFromHealpix : 4 global, 13 local, 153 total sources for ROI 840\n"
       ]
      },
      {
       "metadata": {},
       "output_type": "pyout",
       "png": "[encoded data removed]",
       "prompt_number": 1,
       "text": [
        "<matplotlib.figure.Figure at 0x3b25150>"
       ]
      }
     ],
     "prompt_number": 1
    },
    {
     "cell_type": "markdown",
     "metadata": {},
     "source": [
      "Note the <tt>plot_roi_position</tt> call, showing the position of this ROI. All of the plot functions return the pylab <tt>Figure</tt> reference, which IPython will automatically render in the notebook."
     ]
    },
    {
     "cell_type": "heading",
     "level": 2,
     "metadata": {},
     "source": [
      "ROI summary"
     ]
    },
    {
     "cell_type": "markdown",
     "metadata": {},
     "source": [
      "The <tt>print_summary</tt> function generates a table of all sources within in a given radius"
     ]
    },
    {
     "cell_type": "code",
     "collapsed": false,
     "input": [
      "roi.print_summary()"
     ],
     "language": "python",
     "metadata": {},
     "outputs": [
      {
       "output_type": "stream",
       "stream": "stdout",
       "text": [
        "------------------------------------------------------------------------------------------ \n",
        "\t Nearby sources within 5.0 degrees HP12_0840\n",
        "name               dist        ra       dec        TS eflux(eV)    index   energy   beta/b\n",
        "P7R42747            0.1   268.508   -25.649       251      21.0*    1.90!    2640     0.54*"
       ]
      },
      {
       "output_type": "stream",
       "stream": "stdout",
       "text": [
        "\n",
        "P7R42730            1.7   267.009   -24.784       945      37.5!    1.99!    1464     0.41*"
       ]
      },
      {
       "output_type": "stream",
       "stream": "stdout",
       "text": [
        "\n",
        "PSR J1801-2451      1.8   270.396   -24.918        25       5.4*    1.32*   14737*    1"
       ]
      },
      {
       "output_type": "stream",
       "stream": "stdout",
       "text": [
        "\n",
        "P7R42760            2.0   269.705   -24.037        47      16.7*    2.07!    6998     0"
       ]
      },
      {
       "output_type": "stream",
       "stream": "stdout",
       "text": [
        "\n",
        "P7R42758            2.2   269.707   -23.783        79      22.6*    2.12!    6400     0"
       ]
      },
      {
       "output_type": "stream",
       "stream": "stdout",
       "text": [
        "\n",
        "P7R42767            2.2   270.216   -24.034       355      38.9*    2.37!    4914     0.23*"
       ]
      },
      {
       "output_type": "stream",
       "stream": "stdout",
       "text": [
        "\n",
        "P7R42712H           2.3   266.136   -25.100        61      21.6*    2.77!    1349     0"
       ]
      },
      {
       "output_type": "stream",
       "stream": "stdout",
       "text": [
        "\n",
        "P7R42712P           2.3   266.069   -26.367        20       7.1*    2.27*    3891     0"
       ]
      },
      {
       "output_type": "stream",
       "stream": "stdout",
       "text": [
        "\n",
        "P7R42773H           2.6   270.786   -27.467        37       8.6*    2.38!    2955     0"
       ]
      },
      {
       "output_type": "stream",
       "stream": "stdout",
       "text": [
        "\n",
        "W28                 2.8   270.335   -23.441      4978     280.3!    2.30!    1370     0.12*"
       ]
      },
      {
       "output_type": "stream",
       "stream": "stdout",
       "text": [
        "\n",
        "P7R42696A           2.8   265.476   -25.662                11.6     2.22     3601     0\n",
        "P7R42734            2.9   267.089   -28.262       271      26.9*    2.49!    4677     0.87*"
       ]
      },
      {
       "output_type": "stream",
       "stream": "stdout",
       "text": [
        "\n",
        "P7R42783G           2.9   271.681   -24.855                 7.9     2.36     2939     0\n",
        "P7R42728            3.2   266.785   -28.513       560      67.3*    2.33*    1397     0.51*"
       ]
      },
      {
       "output_type": "stream",
       "stream": "stdout",
       "text": [
        "\n",
        "P7R42693G           3.2   265.137   -26.711                16.2     2.45     2043     0\n",
        "P7R42741G           3.5   267.743   -22.345                 6.6     2.35     2841     0\n",
        "P7R42691            3.5   265.113   -27.437                16.9     2.79     1311     0.79 "
       ]
      },
      {
       "output_type": "stream",
       "stream": "stdout",
       "text": [
        "\n",
        "P7R42722            3.6   266.617   -28.851       713     110.8*    2.41!    2388     0.15*"
       ]
      },
      {
       "output_type": "stream",
       "stream": "stdout",
       "text": [
        "\n",
        "P7R42713            3.6   266.181   -22.870                18.6     2.81      903     0\n",
        "P7R42737A           3.7   266.943   -29.075                42.4     2.47     1150     0\n",
        "P7R42738G           3.7   267.284   -29.201                42.8     2.46     3138     0"
       ]
      },
      {
       "output_type": "stream",
       "stream": "stdout",
       "text": [
        "\n",
        "P7R42797P           3.8   272.315   -27.428                 6.6     2.44     2847     0\n",
        "P7R42706            3.8   264.431   -25.172                11.8     2.92     1071     0.80 \n",
        "P7R42746            3.8   268.500   -29.506                18.3     2.54     1160     0.69 "
       ]
      },
      {
       "output_type": "stream",
       "stream": "stdout",
       "text": [
        "\n",
        "P7R42735            3.8   266.420   -29.003               263.3     3.12    19125     0.18 \n",
        "P7R42768G           3.9   270.400   -22.220                11.9     2.01     8416     0\n",
        "P7R42717            4.0   266.295   -29.115                39.2     1.23      885     0.58 "
       ]
      },
      {
       "output_type": "stream",
       "stream": "stdout",
       "text": [
        "\n",
        "P7R42800G           4.0   272.715   -24.212                13.4     2.36     2552     0\n",
        "PSR J1809-2332      4.2   272.463   -23.544               283.6     1.66     3836     1\n",
        "P7R42761G           4.2   269.910   -21.692                14.2     2.33     3188     0"
       ]
      },
      {
       "output_type": "stream",
       "stream": "stdout",
       "text": [
        "\n",
        "P7R42681P           4.3   264.019   -27.020                17.6     2.56     1700     0\n",
        "P7R42693            4.3   265.125   -28.717                46.4     2.54     1248     0\n",
        "P7R42757            4.4   270.023   -29.926                10.7     2.67     1261     0"
       ]
      },
      {
       "output_type": "stream",
       "stream": "stdout",
       "text": [
        "\n",
        "PSR J1803-2149      4.4   270.783   -21.787                55.9     1.44     3550     1\n",
        "PSR J1747-2958      4.5   266.818   -29.977               122.0     1.79     2967     1"
       ]
      },
      {
       "output_type": "stream",
       "stream": "stdout",
       "text": [
        "\n",
        "P7R42798P           4.5   272.396   -28.738                 1.9     1.48    20000     0\n",
        "P7R42813G           4.6   273.617   -25.527                 4.3     2.19     3419     0\n",
        "P7R42673            4.7   263.393   -25.799                12.5     2.65     1172     0"
       ]
      },
      {
       "output_type": "stream",
       "stream": "stdout",
       "text": [
        "\n",
        "W30                 4.8   271.395   -21.632               108.0     1.94     1433     0.11 \n",
        "P7R42714A           4.9   266.297   -30.199                58.3     2.65     1418     0\n",
        "P7R42677            4.9   264.121   -28.627                11.4     2.29      933     1.59 "
       ]
      },
      {
       "output_type": "stream",
       "stream": "stdout",
       "text": [
        "\n",
        "------------------------------------------------------------------------------------------ \n",
        "\tDiffuse sources\n",
        "------------------------------------------------------------------------------------------\n",
        "limb                        0.04       0.00 \n",
        "ring                        1.00       0.00 \n",
        "isotrop                     1.64*\n",
        "SunMoon                     1.00 \n",
        "------------------------------------------------------------------------------------------\n"
       ]
      }
     ],
     "prompt_number": 2
    },
    {
     "cell_type": "markdown",
     "metadata": {},
     "source": [
      "Characters following varaible spectral function parameters indicate status, <tt>!</tt>: error<10%, <tt>*</tt>: error>10%, <tt>?</tt>:no error. TS is shown for sources with variable parameters. "
     ]
    },
    {
     "cell_type": "heading",
     "level": 2,
     "metadata": {},
     "source": [
      "Fitting"
     ]
    },
    {
     "cell_type": "markdown",
     "metadata": {},
     "source": [
      "The <tt>fit</tt> function uses the fitting view described in the fitting notebook."
     ]
    },
    {
     "cell_type": "code",
     "collapsed": false,
     "input": [
      "%time roi.fit()"
     ],
     "language": "python",
     "metadata": {},
     "outputs": [
      {
       "output_type": "stream",
       "stream": "stdout",
       "text": [
        "7 calls, function value, improvement, quality: 693119.6, 0.96, 0.68\n",
        "Name                  index     value  error(%)  gradient\n",
        "isotrop_Scale             0     1.647      12.5      -6.6\n",
        "P7R42722_Norm             1 3.892e-12       9.6      -9.0\n",
        "        _Index            2     2.415       4.1      -7.5\n",
        "        _beta             3    0.1434      49.0       7.5\n",
        "P7R42734_Norm             4  6.15e-13      13.8       7.6\n",
        "        _Index            5     2.494       8.6       2.0\n",
        "        _beta             6    0.8694      30.7      -0.8\n",
        "P7R42730_Norm             7 6.499e-12       7.2       3.1\n",
        "        _Index            8     1.992       6.5      -4.3\n",
        "        _beta             9     0.414      23.8       0.4\n",
        "P7R42773H_Norm           10 1.133e-13      30.0      -3.0\n",
        "         _Index          11      2.38       9.5      -1.7\n",
        "P7R42728_Norm            12 1.355e-11      11.4      10.3\n",
        "        _Index           13     2.336       9.6      -5.7\n",
        "        _beta            14    0.5128      37.5       1.9\n",
        "P7R42712H_Norm           15 1.266e-12      22.6      -1.5\n",
        "         _Index          16     2.767       6.5       1.1\n",
        "P7R42767_Norm            17 3.901e-13      12.1       5.3\n",
        "        _Index           18     2.375       6.4       0.5\n",
        "        _beta            19    0.2286      46.0       2.3\n",
        "PSR J1801-2451_Norm      20 4.781e-14      78.6      -0.2\n",
        "              _Index     21     1.323      50.8      -0.7\n",
        "              _Cutoff    22 1.475e+04     100.3      -0.1\n",
        "P7R42760_Norm            23 4.684e-14      28.5       0.9\n",
        "        _Index           24      2.07       8.5      -0.1\n",
        "P7R42747_Norm            25 1.262e-12      13.4       2.4\n",
        "        _Index           26     1.902      10.1      -1.5\n",
        "        _beta            27     0.535      31.8       0.4\n",
        "P7R42712P_Norm           28  5.69e-14      39.5      -1.9\n",
        "         _Index          29     2.271      12.0      -0.8\n",
        "P7R42758_Norm            30 7.266e-14      23.0       0.8\n",
        "        _Index           31     2.121       6.9       0.0\n",
        "W28_Norm                 32 3.263e-11       3.3     -15.0\n",
        "   _Index                33     2.298       1.4       6.7\n",
        "   _beta                 34    0.1241      17.0       5.9\n",
        "CPU times: user 7.42 s, sys: 0 ns, total: 7.42 s\n",
        "Wall time: 7.41 s\n"
       ]
      }
     ],
     "prompt_number": 3
    },
    {
     "cell_type": "markdown",
     "metadata": {},
     "source": [
      "Note the first line which shows the change in the log likelihood, which should be positive. The \"quality\" is an assessment, based on the gradient, of how close the likelihood is to the maximum. Its value is an estimate of the difference betweent the current value of the log likelihood and its maximum value.\n",
      "Let the log likelihood function be $w(p)$ where $p$ is the set of parameters. \n",
      "\n",
      "The gradient is  $g = \\frac{\\partial{w}}{\\partial{p}}$, and the Hessian matrix $H = \\frac{\\partial{g}}{\\partial{p}}$.\n",
      "\n",
      "Then the quality is $\\frac{1}{4} g\\ H^{-1}\\ g^T$. This is evaluated by the function <tt>delta_loglike</tt>.\n",
      "After a fit, a value greater than 1.0 may indicate that the log likelihood is not very consistent with a parabolic shape.\n",
      "\n",
      "###Band Subsets\n",
      "Recall that the log likelihood is the sum of the log likelihood for each band. The <tt>select</tt> function controls the list for this, so the sum can be restricted to an energy range, or specify just front or back for all bands or a single band. For example"
     ]
    },
    {
     "cell_type": "code",
     "collapsed": false,
     "input": [
      "for name in list(roi.config.event_type_names) +['all']:\n",
      "    roi.select(event_type=name)\n",
      "    print '%-6s %8.1f%8.1f' %(name, roi.log_like(), roi.delta_loglike())"
     ],
     "language": "python",
     "metadata": {},
     "outputs": [
      {
       "output_type": "stream",
       "stream": "stdout",
       "text": [
        "front  457877.7     7.4\n",
        "back   235241.9    18.7"
       ]
      },
      {
       "output_type": "stream",
       "stream": "stdout",
       "text": [
        "\n",
        "all    693119.6     0.7"
       ]
      },
      {
       "output_type": "stream",
       "stream": "stdout",
       "text": [
        "\n"
       ]
      }
     ],
     "prompt_number": 4
    },
    {
     "cell_type": "markdown",
     "metadata": {},
     "source": [
      "Note the difference in the quality as measured by the delta_loglike function for each subset.\n",
      "\n",
      "###Parameter subsets\n",
      "Using the views, it is possible to define the likelihood as function of a subset of the free parameters: either as a list of parameter indeces, or a source name. Selecting the same source:"
     ]
    },
    {
     "cell_type": "code",
     "collapsed": false,
     "input": [
      "roi.fit('P7R42722', tolerance=0)\n",
      "roi.fit([3], tolerance=0)"
     ],
     "language": "python",
     "metadata": {},
     "outputs": [
      {
       "output_type": "stream",
       "stream": "stdout",
       "text": [
        "6 calls, function value, improvement, quality: 693119.6, 0.02, 0.03\n",
        "Name                  index     value  error(%)  gradient\n",
        "P7R42722_Norm             1 3.923e-12       7.9       2.6\n",
        "        _Index            2     2.417       2.6      -4.6\n",
        "        _beta             3    0.1432      31.5       1.5\n",
        "4 calls, function value, improvement, quality: 693119.6, 0.00, 0.00"
       ]
      },
      {
       "output_type": "stream",
       "stream": "stdout",
       "text": [
        "\n",
        "Name                  index     value  error(%)  gradient\n",
        "P7R42722_beta             3    0.1425      23.9       0.1\n"
       ]
      }
     ],
     "prompt_number": 5
    },
    {
     "cell_type": "markdown",
     "metadata": {},
     "source": [
      "(The optional arg <tt>tolerance</tt> was set to zero to force a fit; for efficiency it the quality is already good, the fit will not proceed:"
     ]
    },
    {
     "cell_type": "code",
     "collapsed": false,
     "input": [
      "roi.fit([3])"
     ],
     "language": "python",
     "metadata": {},
     "outputs": [
      {
       "output_type": "stream",
       "stream": "stdout",
       "text": [
        "Not fitting, estimated improvement, 0.00, is less than tolerance= 0.2\n"
       ]
      }
     ],
     "prompt_number": 6
    },
    {
     "cell_type": "heading",
     "level": 2,
     "metadata": {},
     "source": [
      "SED"
     ]
    },
    {
     "cell_type": "markdown",
     "metadata": {},
     "source": [
      "The following examines the SED for the source we studied in the fitting notebook. First we select the source, using a convenient wild card format. Once selected, any function requiring a source specification will use it if none is specified."
     ]
    },
    {
     "cell_type": "code",
     "collapsed": false,
     "input": [
      "roi.get_source('*2722')\n",
      "roi.print_sed()\n",
      "roi.plot_sed()"
     ],
     "language": "python",
     "metadata": {},
     "outputs": [
      {
       "output_type": "stream",
       "stream": "stdout",
       "text": [
        "        flux  lflux  uflux  mflux    TS  pull\n",
        "energy                                       \n",
        "133     38.4   27.2   49.7   22.8  12.2   1.4\n",
        "237     29.2   21.4   36.9   27.4  14.7   0.2\n",
        "421     28.2   23.5   32.9   30.1  38.2  -0.4\n",
        "749     30.1   27.5   32.8   30.0 138.5   0.1\n",
        "1333    24.6   22.2   26.9   27.2 120.6  -1.1\n",
        "2371    23.9   21.7   26.2   22.4 140.4   0.7\n",
        "4216    18.2   16.3   20.2   16.9 116.9   0.7\n",
        "7498    11.7    9.9   13.6   11.5  64.8   0.1\n",
        "13335    6.6    5.2    8.3    7.2  35.4  -0.3\n",
        "23713    2.7    1.5    4.2    4.1   7.7  -0.9\n",
        "42169    0.0    0.0    4.7    2.1   0.0  -0.8\n",
        "74989    0.0    0.0    5.9    1.0   0.0  -0.1\n",
        "133352   1.9    0.3    4.8    0.4   2.1   0.9\n",
        "237137   0.0    0.0   10.9    0.2   0.0  -0.3\n"
       ]
      },
      {
       "metadata": {},
       "output_type": "pyout",
       "png": "[encoded data removed]",
       "prompt_number": 7,
       "text": [
        "<matplotlib.figure.Figure at 0x1ee954d0>"
       ]
      }
     ],
     "prompt_number": 7
    },
    {
     "cell_type": "markdown",
     "metadata": {},
     "source": [
      "For each of the energy bands the likelihood function for the energy flux in that band is characterized. The columns for flux are all in eV units\n",
      "\n",
      "* flux peak\n",
      "* lflux : -1 sigma value or zero \n",
      "* uflux : +1 sigma value or upper 95% limit\n",
      "* mflux : prediction of the model \n",
      "* TS : Test Statistic for that band. \n",
      "* pull : signed square root of twice the log likelihood difference between the prediction and the maximum value"
     ]
    },
    {
     "cell_type": "heading",
     "level": 2,
     "metadata": {},
     "source": [
      "Localization"
     ]
    },
    {
     "cell_type": "code",
     "collapsed": false,
     "input": [
      "roi.localize();"
     ],
     "language": "python",
     "metadata": {},
     "outputs": [
      {
       "output_type": "stream",
       "stream": "stdout",
       "text": [
        "Localizing source P7R42722, tolerance=1.0e-02...\n",
        "\t     moved     delta        ra       dec         a         b      qual\n",
        "\t    0.0000    0.0000  266.6167  -28.8511\n",
        "\t    0.0088    0.0088  266.6069  -28.8529    0.0022    0.0022   16.6194\n",
        "\t    0.0032    0.0059  266.6104  -28.8534    0.0096    0.0087    2.3651"
       ]
      },
      {
       "output_type": "stream",
       "stream": "stdout",
       "text": [
        "\n",
        "\t    0.0004    0.0056  266.6109  -28.8534    0.0102    0.0092    0.4063"
       ]
      },
      {
       "output_type": "stream",
       "stream": "stdout",
       "text": [
        "\n",
        "TS change: 0.29"
       ]
      },
      {
       "output_type": "stream",
       "stream": "stdout",
       "text": [
        "\n"
       ]
      }
     ],
     "prompt_number": 8
    },
    {
     "cell_type": "markdown",
     "metadata": {},
     "source": [
      "This shows the iterations of the non-linear fitter. The TS change is the predicted improvement if the source were moved. (An option <tt>update=True</tt> would do this.)"
     ]
    },
    {
     "cell_type": "code",
     "collapsed": false,
     "input": [
      "roi.plot_tsmap()"
     ],
     "language": "python",
     "metadata": {},
     "outputs": [
      {
       "output_type": "stream",
       "stream": "stdout",
       "text": [
        "TSplot: filling 225 pixels...\n"
       ]
      },
      {
       "metadata": {},
       "output_type": "pyout",
       "png": "[encoded data removed]",
       "prompt_number": 9,
       "text": [
        "<matplotlib.figure.Figure at 0x1f494bd0>"
       ]
      }
     ],
     "prompt_number": 9
    },
    {
     "cell_type": "heading",
     "level": 2,
     "metadata": {},
     "source": [
      "Freezing and thawing parameters"
     ]
    },
    {
     "cell_type": "markdown",
     "metadata": {},
     "source": [
      "The functions <tt>freeze</tt> and <tt>thaw</tt> change the number of free parameters."
     ]
    },
    {
     "cell_type": "code",
     "collapsed": true,
     "input": [
      "roi.freeze('beta')\n",
      "roi.summarize(roi.get_source().name)\n",
      "roi.thaw('beta')\n",
      "roi.summarize(roi.get_source().name)"
     ],
     "language": "python",
     "metadata": {},
     "outputs": [
      {
       "output_type": "stream",
       "stream": "stdout",
       "text": [
        "current likelihood, est. diff to peak: 693119.6, 0.02\n",
        "Name                  index     value  error(%)  gradient"
       ]
      },
      {
       "output_type": "stream",
       "stream": "stdout",
       "text": [
        "\n",
        "P7R42722_Norm             1 3.923e-12       7.9       3.8\n",
        "        _Index            2     2.417       2.6      -4.3\n",
        "current likelihood, est. diff to peak: 693119.6, 0.02"
       ]
      },
      {
       "output_type": "stream",
       "stream": "stdout",
       "text": [
        "\n",
        "Name                  index     value  error(%)  gradient"
       ]
      },
      {
       "output_type": "stream",
       "stream": "stdout",
       "text": [
        "\n",
        "P7R42722_Norm             1 3.923e-12       7.9       3.8\n",
        "        _Index            2     2.417       2.6      -4.3\n",
        "        _beta             3    0.1425      23.9       0.1\n"
       ]
      }
     ],
     "prompt_number": 10
    },
    {
     "cell_type": "heading",
     "level": 2,
     "metadata": {},
     "source": [
      "Finding associations"
     ]
    },
    {
     "cell_type": "markdown",
     "metadata": {},
     "source": [
      "The following applies the <tt>gtsrcid</tt> algorithm to the selected source, or 'all'."
     ]
    },
    {
     "cell_type": "code",
     "collapsed": false,
     "input": [
      "roi.find_associations('all')"
     ],
     "language": "python",
     "metadata": {},
     "outputs": [
      {
       "output_type": "stream",
       "stream": "stdout",
       "text": [
        " P7R42722 association(s)  "
       ]
      },
      {
       "output_type": "stream",
       "stream": "stdout",
       "text": [
        "...None  found\n",
        " P7R42734 association(s) "
       ]
      },
      {
       "output_type": "stream",
       "stream": "stdout",
       "text": [
        " ...None  found\n",
        " P7R42730 association(s) "
       ]
      },
      {
       "output_type": "stream",
       "stream": "stdout",
       "text": [
        " \n",
        "   cat         name                  ra        dec         ang     prob    Delta TS\n",
        "   pulsar_big  B1744-24A             267.0094  -24.7769    0.0098    0.99     0.8\n",
        "   lmxb        EXO 1745-248          267.0216  -24.7798    0.0112    0.88     1.3\n",
        "   globular    Terzan 5              267.0208  -24.8125    0.0273    0.77     7.1\n",
        " P7R42773H association(s) "
       ]
      },
      {
       "output_type": "stream",
       "stream": "stdout",
       "text": [
        " ...None  found\n",
        " P7R42728 association(s) "
       ]
      },
      {
       "output_type": "stream",
       "stream": "stdout",
       "text": [
        " ...None  found\n",
        " P7R42712H association(s) "
       ]
      },
      {
       "output_type": "stream",
       "stream": "stdout",
       "text": [
        " ...None  found\n",
        " P7R42767 association(s) "
       ]
      },
      {
       "output_type": "stream",
       "stream": "stdout",
       "text": [
        " ...None  found\n",
        " PSR J1801-2451 association(s) "
       ]
      },
      {
       "output_type": "stream",
       "stream": "stdout",
       "text": [
        " \n",
        "   cat         name                  ra        dec         ang     prob    Delta TS\n",
        "   snr_ext     G005.4-01.2           270.5394  -24.8975    0.1233    0.00    12.6\n",
        " P7R42760 association(s) "
       ]
      },
      {
       "output_type": "stream",
       "stream": "stdout",
       "text": [
        " ...None  found\n",
        " P7R42747 association(s) "
       ]
      },
      {
       "output_type": "stream",
       "stream": "stdout",
       "text": [
        " ...None  found\n",
        " P7R42712P association(s) "
       ]
      },
      {
       "output_type": "stream",
       "stream": "stdout",
       "text": [
        " ...None  found\n",
        " P7R42758 association(s) "
       ]
      },
      {
       "output_type": "stream",
       "stream": "stdout",
       "text": [
        " ...None  found\n"
       ]
      }
     ],
     "prompt_number": 11
    },
    {
     "cell_type": "heading",
     "level": 2,
     "metadata": {},
     "source": [
      "Adding and deleting sources"
     ]
    },
    {
     "cell_type": "markdown",
     "metadata": {},
     "source": [
      "The functions <tt>add_source</tt> and <tt>del_source</tt> change the number of sources.\n",
      "\n",
      "###Deleting a source\n",
      "This example shows that the source object can be saved, then restored after deletion."
     ]
    },
    {
     "cell_type": "code",
     "collapsed": false,
     "input": [
      "s = roi.del_source('P7R42722')\n",
      "print 'quality after deletion: %.1f' % roi.delta_loglike()\n",
      "roi.add_source(s)\n",
      "print 'quality after restoration: %.1f' % roi.delta_loglike()\n"
     ],
     "language": "python",
     "metadata": {},
     "outputs": [
      {
       "output_type": "stream",
       "stream": "stdout",
       "text": [
        "quality after deletion: 123.1\n",
        "quality after restoration: 0.6"
       ]
      },
      {
       "output_type": "stream",
       "stream": "stdout",
       "text": [
        "\n"
       ]
      }
     ],
     "prompt_number": 12
    },
    {
     "cell_type": "markdown",
     "metadata": {},
     "source": [
      "###Adding a source\n",
      "Sources must have a name, position (skydir argument) and a model. The latter, if not specified, is set to a default.\n",
      "The position is a (ra,dec) tuple that should be within the inner HEALPix pixel."
     ]
    },
    {
     "cell_type": "code",
     "collapsed": false,
     "input": [
      "snew = roi.add_source(name='test', skydir=(270,25))"
     ],
     "language": "python",
     "metadata": {},
     "outputs": [],
     "prompt_number": 13
    },
    {
     "cell_type": "code",
     "collapsed": false,
     "input": [
      "roi.summarize('test')\n",
      "roi.fit([35])"
     ],
     "language": "python",
     "metadata": {},
     "outputs": [
      {
       "output_type": "stream",
       "stream": "stdout",
       "text": [
        "current likelihood, est. diff to peak: 693119.6, 0.00\n",
        "Name                  index     value  error(%)  gradient"
       ]
      },
      {
       "output_type": "stream",
       "stream": "stdout",
       "text": [
        "\n",
        "test_Norm                35     1e-14       ***       0.0\n",
        "    _Index               36       2.2       ***      -0.0\n",
        "Not fitting, estimated improvement, 0.00, is less than tolerance= 0.2"
       ]
      },
      {
       "output_type": "stream",
       "stream": "stdout",
       "text": [
        "\n"
       ]
      }
     ],
     "prompt_number": 14
    },
    {
     "cell_type": "heading",
     "level": 2,
     "metadata": {},
     "source": [
      "Saving and restoring an ROI"
     ]
    },
    {
     "cell_type": "markdown",
     "metadata": {},
     "source": [
      "The current state of an ROI can be saved as an XML file, and read back."
     ]
    },
    {
     "cell_type": "code",
     "collapsed": false,
     "input": [
      "roi.to_xml('ROI0840.xml')"
     ],
     "language": "python",
     "metadata": {},
     "outputs": [],
     "prompt_number": 15
    },
    {
     "cell_type": "code",
     "collapsed": false,
     "input": [
      "roi2 = main.ROI('.', 'ROI0840.xml')\n",
      "print '%s\\ndelta loglike: %.1f' % (roi2, roi2.delta_loglike())"
     ],
     "language": "python",
     "metadata": {},
     "outputs": [
      {
       "output_type": "stream",
       "stream": "stdout",
       "text": [
        "finished adding sources\n",
        "uw.like2.main.ROI :\n",
        "\tuw.like2.configuration.Configuration: /tmp/pointlike_demo/.\n",
        "\tuw.like2.from_xml.ROImodelFromXML: file ROI0840.xml\n",
        "delta loglike: 0.6"
       ]
      },
      {
       "output_type": "stream",
       "stream": "stdout",
       "text": [
        "\n"
       ]
      }
     ],
     "prompt_number": 16
    },
    {
     "cell_type": "markdown",
     "metadata": {},
     "source": [
      "<hr style=\"height:2px;\"/>\n",
      "<pre>\n",
      "$Header: /nfs/slac/g/glast/ground/cvs/pointlike/python/uw/like2/notebooks/user.ipynb,v 1.6 2014/01/31 14:56:11 burnett Exp $\n",
      "</pre>"
     ]
    }
   ],
   "metadata": {}
  }
 ]
}