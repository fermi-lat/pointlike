{
 "metadata": {
  "name": ""
 },
 "nbformat": 3,
 "nbformat_minor": 0,
 "worksheets": [
  {
   "cells": [
    {
     "cell_type": "markdown",
     "metadata": {},
     "source": [
      "#The user interface\n",
      "The class <a href=\"http://glast.stanford.edu/cgi-bin/cvsweb-SLAC/pointlike/python/uw/like2/main.py?view=markup\"><tt>main.ROI</tt></a> is a subclass of the class <tt>views.LikelihoodViews</tt> described in the fitting notebook. It adds user-level capability, as described in this notebook. The following is copied from the docstring. This notebook will illustrate some of them, using our same ROI.\n",
      "\n",
      "### properties\n",
      "    all_energies -- list of all band energies\n",
      "    bands      -- BandSet object, a list of all thebands\n",
      "    emin, emax -- range of energies used by currently selected bands\n",
      "    energies   -- list of central energies\n",
      "    quiet      -- flag to suppress most output\n",
      "    roi_dir    -- center of the ROI\n",
      "    sources    -- ROImodel object, managing the source list\n",
      "    selected   -- list of selected bands\n",
      "\n",
      "### likelihood-related functions\n",
      "    fit        -- perform a fit\n",
      "    gradient   -- return the gradient\n",
      "    hessian    -- return the hessian, a n x n matrix\n",
      "    log_like   -- value of the log likelihood\n",
      "    delta_loglike -- estimate of possible improvement.\n",
      "    summarize  -- a table of free parameters, values, errors, gradient\n",
      "\n",
      "\n",
      "### source-related functions\n",
      "All of these but add_source take the name of a source, which is an optional parameter: if a source has \n",
      "      already been selected, it will be used\n",
      "    \n",
      "    TS         -- TS for current source\n",
      "    add_source -- add a new source\n",
      "    band_ts    -- band TS \n",
      "    del_source -- delete a source\n",
      "    find_associations -- find associations for current source\n",
      "    get_model  -- the model\n",
      "    get_sed    -- return SED information for the current source\n",
      "    get_source -- select and return a source\n",
      "    freeze     -- freeze a parameter\n",
      "    set_model  -- change the spectral model for a source\n",
      "    thaw -- thaw (unfreeze) a parameter\n",
      "\n",
      "### plot/print\n",
      "\n",
      "    plot_counts\n",
      "    plot_sed\n",
      "    plot_tsmap\n",
      "    plot_roi_position\n",
      "    print_summary\n",
      "    print_sed\n",
      "\n",
      "### change bands\n",
      "\n",
      "    select -- select a subset of the bands, which will be used subsequently to define likelihood functions\n"
     ]
    },
    {
     "cell_type": "markdown",
     "metadata": {},
     "source": [
      "##Creating an ROI object\n",
      "We use the same demo ROI as before, ROI #840. This assumes that the configuration notebook has set up the configuration file."
     ]
    },
    {
     "cell_type": "code",
     "collapsed": false,
     "input": [
      "import os; os.chdir('/tmp/pointlike_demo')\n",
      "from uw.like2 import main\n",
      "%time roi = main.ROI('.', 840)\n",
      "print roi\n",
      "roi.plot_roi_position()"
     ],
     "language": "python",
     "metadata": {},
     "outputs": [
      {
       "output_type": "stream",
       "stream": "stdout",
       "text": [
        "CPU times: user 1min 49s, sys: 566 ms, total: 1min 49s\n",
        "Wall time: 1min 49s\n",
        "uw.like2.main.ROI :\n",
        "\tuw.like2.configuration.Configuration: /tmp/pointlike_demo/.\n",
        "\tuw.like2.from_healpix.ROImodelFromHealpix : 4 global, 13 local, 153 total sources for ROI 840\n"
       ]
      },
      {
       "metadata": {},
       "output_type": "pyout",
       "png": "[encoded data removed]",
       "prompt_number": 1,
       "text": [
        "<matplotlib.figure.Figure at 0x1370d650>"
       ]
      }
     ],
     "prompt_number": 1
    },
    {
     "cell_type": "markdown",
     "metadata": {},
     "source": [
      "Note the <tt>plot_roi_position</tt> call, showing the position of this ROI. All of the plot functions return the pylab <tt>Figure</tt> reference, which IPython will automatically render in the notebook.\n",
      "\n",
      "##ROI summary\n",
      "The <tt>print_summary</tt> function generates a table of all sources within in a given radius"
     ]
    },
    {
     "cell_type": "code",
     "collapsed": false,
     "input": [
      "roi.print_summary()"
     ],
     "language": "python",
     "metadata": {},
     "outputs": [
      {
       "output_type": "stream",
       "stream": "stdout",
       "text": [
        "------------------------------------------------------------------------------------------ \n",
        "\t Nearby sources within 5.0 degrees HP12_0840\n",
        "name               dist        ra       dec        TS eflux(eV)    index   energy   beta/b\n",
        "P7R42747            0.1   268.508   -25.649       249      20.2!    1.79!    2640     0.63*"
       ]
      },
      {
       "output_type": "stream",
       "stream": "stdout",
       "text": [
        "\n",
        "P7R42730            1.7   267.009   -24.784       941      40.4!    2.05!    1464     0.36*"
       ]
      },
      {
       "output_type": "stream",
       "stream": "stdout",
       "text": [
        "\n",
        "PSR J1801-2451      1.8   270.396   -24.918        25       4.8*    1.20*   15485*    1"
       ]
      },
      {
       "output_type": "stream",
       "stream": "stdout",
       "text": [
        "\n",
        "P7R42760            2.0   269.705   -24.037        53      13.8*    1.92!    6998     0"
       ]
      },
      {
       "output_type": "stream",
       "stream": "stdout",
       "text": [
        "\n",
        "P7R42758            2.2   269.707   -23.783        77      16.3*    1.92!    6400     0"
       ]
      },
      {
       "output_type": "stream",
       "stream": "stdout",
       "text": [
        "\n",
        "P7R42767            2.2   270.216   -24.034       365      31.9!    2.53!    4914     0.45*"
       ]
      },
      {
       "output_type": "stream",
       "stream": "stdout",
       "text": [
        "\n",
        "P7R42712H           2.3   266.136   -25.100        67      23.3*    2.82!    1349     0"
       ]
      },
      {
       "output_type": "stream",
       "stream": "stdout",
       "text": [
        "\n",
        "P7R42712P           2.3   266.069   -26.367        19       4.7*    2.02!    3891     0"
       ]
      },
      {
       "output_type": "stream",
       "stream": "stdout",
       "text": [
        "\n",
        "P7R42773H           2.6   270.786   -27.467        34       6.8*    2.29!    2955     0"
       ]
      },
      {
       "output_type": "stream",
       "stream": "stdout",
       "text": [
        "\n",
        "W28                 2.8   270.335   -23.441      5230     298.7!    2.28!    1370     0.08*"
       ]
      },
      {
       "output_type": "stream",
       "stream": "stdout",
       "text": [
        "\n",
        "P7R42696A           2.8   265.476   -25.662                 8.5     2.04     3601     0\n",
        "P7R42734            2.9   267.089   -28.262       311      29.3!    2.60!    4677     0.88*"
       ]
      },
      {
       "output_type": "stream",
       "stream": "stdout",
       "text": [
        "\n",
        "P7R42783G           2.9   271.681   -24.855                 7.7     2.36     2939     0\n",
        "P7R42728            3.2   266.785   -28.513       897     118.4!    2.65!    1397     0.14*"
       ]
      },
      {
       "output_type": "stream",
       "stream": "stdout",
       "text": [
        "\n",
        "P7R42693G           3.2   265.137   -26.711                12.3     2.30     2043     0\n",
        "P7R42741G           3.5   267.743   -22.345                 6.1     2.32     2841     0\n",
        "P7R42691            3.5   265.113   -27.437                18.7     2.85     1311     0.83 "
       ]
      },
      {
       "output_type": "stream",
       "stream": "stdout",
       "text": [
        "\n",
        "P7R42722            3.6   266.617   -28.851       566      54.3!    1.87!    2388     0.65*"
       ]
      },
      {
       "output_type": "stream",
       "stream": "stdout",
       "text": [
        "\n",
        "P7R42713            3.6   266.181   -22.870                15.6     2.78      903     0\n",
        "P7R42737A           3.7   266.943   -29.075                44.6     2.44     1150     0\n",
        "P7R42738G           3.7   267.284   -29.201                38.7     2.40     3138     0"
       ]
      },
      {
       "output_type": "stream",
       "stream": "stdout",
       "text": [
        "\n",
        "P7R42797P           3.8   272.315   -27.428                 4.0     2.17     2847     0\n",
        "P7R42706            3.8   264.431   -25.172                13.5     2.99     1071     0.74 \n",
        "P7R42746            3.8   268.500   -29.506                19.0     2.55     1160     0.69 "
       ]
      },
      {
       "output_type": "stream",
       "stream": "stdout",
       "text": [
        "\n",
        "P7R42735            3.8   266.420   -29.003               254.9     3.16    19125     0.19 \n",
        "P7R42768G           3.9   270.400   -22.220                10.2     1.97     8416     0\n",
        "P7R42717            4.0   266.295   -29.115                37.6     0.65      885     0.93 "
       ]
      },
      {
       "output_type": "stream",
       "stream": "stdout",
       "text": [
        "\n",
        "P7R42800G           4.0   272.715   -24.212                13.2     2.36     2552     0\n",
        "PSR J1809-2332      4.2   272.463   -23.544               287.2     1.66     3855     1"
       ]
      },
      {
       "output_type": "stream",
       "stream": "stdout",
       "text": [
        "\n",
        "P7R42761G           4.2   269.910   -21.692                12.6     2.30     3188     0\n",
        "P7R42681P           4.3   264.019   -27.020                13.2     2.38     1700     0\n",
        "P7R42693            4.3   265.125   -28.717                49.7     2.54     1248     0"
       ]
      },
      {
       "output_type": "stream",
       "stream": "stdout",
       "text": [
        "\n",
        "P7R42757            4.4   270.023   -29.926                 9.6     2.64     1261     0\n",
        "PSR J1803-2149      4.4   270.783   -21.787                37.6     0.55     2003     1"
       ]
      },
      {
       "output_type": "stream",
       "stream": "stdout",
       "text": [
        "\n",
        "PSR J1747-2958      4.5   266.818   -29.977               123.3     1.77     2873     1\n",
        "P7R42798P           4.5   272.396   -28.738                 1.8     1.44    20000     0"
       ]
      },
      {
       "output_type": "stream",
       "stream": "stdout",
       "text": [
        "\n",
        "P7R42813G           4.6   273.617   -25.527                 4.3     2.18     3419     0\n",
        "P7R42673            4.7   263.393   -25.799                 9.4     2.47     1172     0\n",
        "W30                 4.8   271.395   -21.632               148.0     2.13     1433     0.04 "
       ]
      },
      {
       "output_type": "stream",
       "stream": "stdout",
       "text": [
        "\n",
        "P7R42714A           4.9   266.297   -30.199                53.5     2.58     1418     0\n",
        "P7R42677            4.9   264.121   -28.627                12.9     2.40      933     1.52 \n",
        "------------------------------------------------------------------------------------------ \n",
        "\tDiffuse sources\n",
        "------------------------------------------------------------------------------------------\n",
        "limb                        0.04       0.00 \n",
        "ring                        1.00       0.00 \n",
        "isotrop                     1.57!\n",
        "SunMoon                     1.00 \n",
        "------------------------------------------------------------------------------------------\n"
       ]
      }
     ],
     "prompt_number": 2
    },
    {
     "cell_type": "markdown",
     "metadata": {},
     "source": [
      "Characters following varaible spectral function parameters indicate status, <tt>!</tt>: error<10%, <tt>*</tt>: error>10%, <tt>?</tt>:no error. TS is shown for sources with variable parameters. \n",
      "\n",
      "##Fitting\n",
      "The <tt>fit</tt> function uses the fitting view described in the fitting notebook."
     ]
    },
    {
     "cell_type": "code",
     "collapsed": false,
     "input": [
      "%time roi.fit()"
     ],
     "language": "python",
     "metadata": {},
     "outputs": [
      {
       "output_type": "stream",
       "stream": "stdout",
       "text": [
        "34 calls, function value, improvement, quality: 693149.2, 67.81, 0.87\n",
        "Name                  index     value  error(%)  gradient\n",
        "isotrop_Scale             0     1.682      10.9      -3.4\n",
        "P7R42722_Norm             1 3.578e-12       9.3       0.3\n",
        "        _Index            2     2.474       2.7      -6.6\n",
        "        _beta             3   0.07127      55.0      -6.8\n",
        "P7R42734_Norm             4 6.018e-13      14.0      -5.1\n",
        "        _Index            5      2.53       9.1       1.3\n",
        "        _beta             6    0.8933      31.0       2.0\n",
        "P7R42730_Norm             7 6.402e-12       7.3       8.8\n",
        "        _Index            8     1.961       6.6      -3.7\n",
        "        _beta             9    0.4234      23.6      -4.6\n",
        "P7R42773H_Norm           10 1.139e-13      29.1       1.1\n",
        "         _Index          11     2.397       9.4       0.5\n",
        "P7R42728_Norm            12 1.295e-11      11.9      -0.8\n",
        "        _Index           13     2.312       7.1       1.2\n",
        "        _beta            14    0.4948      29.8      -4.2\n",
        "P7R42712H_Norm           15 1.333e-12      21.4       1.8\n",
        "         _Index          16     2.841       6.3       1.1\n",
        "P7R42767_Norm            17 3.868e-13      12.3       2.1\n",
        "        _Index           18     2.279       5.8      -8.2\n",
        "        _beta            19    0.1956      48.6       1.8\n",
        "PSR J1801-2451_Norm      20 4.862e-14      80.0       0.4\n",
        "              _Index     21     1.301      51.6      -0.5\n",
        "              _Cutoff    22 1.446e+04     100.7       0.1\n",
        "P7R42760_Norm            23  4.69e-14      28.5       0.8\n",
        "        _Index           24     2.079       8.6       0.0\n",
        "P7R42747_Norm            25 1.241e-12      13.6       0.5\n",
        "        _Index           26     1.917       9.6       0.9\n",
        "        _beta            27    0.5238      31.2      -0.7\n",
        "P7R42712P_Norm           28 6.548e-14      33.6       2.7\n",
        "         _Index          29     2.318      10.7       0.3\n",
        "P7R42758_Norm            30 7.313e-14      22.8       1.2\n",
        "        _Index           31     2.128       7.0      -0.0\n",
        "W28_Norm                 32 3.275e-11       3.3     -29.7\n",
        "   _Index                33     2.291       1.4       5.5\n",
        "   _beta                 34    0.1321      16.6      33.1\n",
        "CPU times: user 18 s, sys: 1 ms, total: 18 s"
       ]
      },
      {
       "output_type": "stream",
       "stream": "stdout",
       "text": [
        "\n",
        "Wall time: 18 s\n"
       ]
      }
     ],
     "prompt_number": 3
    },
    {
     "cell_type": "markdown",
     "metadata": {},
     "source": [
      "Note the first line which shows the change in the log likelihood, which should be positive. The \"quality\" is an assessment, based on the gradient, of how close the likelihood is to the maximum. Its value is an estimate of the difference betweent the current value of the log likelihood and its maximum value.\n",
      "Let the log likelihood function be $w(p)$ where $p$ is the set of parameters. \n",
      "\n",
      "The gradient is  $g = \\frac{\\partial{w}}{\\partial{p}}$, and the Hessian matrix $H = \\frac{\\partial{g}}{\\partial{p}}$.\n",
      "\n",
      "Then the quality is $\\frac{1}{4} g\\ H^{-1}\\ g^T$. This is evaluated by the function <tt>delta_loglike</tt>.\n",
      "After a fit, a value greater than 1.0 may indicate that the log likelihood is not very consistent with a parabolic shape.\n",
      "\n",
      "###Band Subsets\n",
      "Recall that the log likelihood is the sum of the log likelihood for each band. The <tt>select</tt> function controls the list for this, so the sum can be restricted to an energy range, or specify just front or back for all bands or a single band. For example"
     ]
    },
    {
     "cell_type": "code",
     "collapsed": false,
     "input": [
      "for name in list(roi.config.event_type_names) +['all']:\n",
      "    roi.select(event_type=name)\n",
      "    print '%-6s %8.1f%8.1f' %(name, roi.log_like(), roi.delta_loglike())"
     ],
     "language": "python",
     "metadata": {},
     "outputs": [
      {
       "output_type": "stream",
       "stream": "stdout",
       "text": [
        "front  457904.7     8.0\n",
        "back   235244.5    16.2"
       ]
      },
      {
       "output_type": "stream",
       "stream": "stdout",
       "text": [
        "\n",
        "all    693149.2     0.9"
       ]
      },
      {
       "output_type": "stream",
       "stream": "stdout",
       "text": [
        "\n"
       ]
      }
     ],
     "prompt_number": 4
    },
    {
     "cell_type": "markdown",
     "metadata": {},
     "source": [
      "Note the difference in the quality as measured by the delta_loglike function for each subset.\n",
      "\n",
      "###Parameter subsets\n",
      "Using the views, it is possible to define the likelihood as function of a subset of the free parameters: either as a list of parameter indeces, or a source name. Selecting the same source:"
     ]
    },
    {
     "cell_type": "code",
     "collapsed": false,
     "input": [
      "roi.fit('P7R42722', tolerance=0)\n",
      "roi.fit([3], tolerance=0)"
     ],
     "language": "python",
     "metadata": {},
     "outputs": [
      {
       "output_type": "stream",
       "stream": "stdout",
       "text": [
        "4 calls, function value, improvement, quality: 693149.2, 0.02, 0.04\n",
        "Name                  index     value  error(%)  gradient\n",
        "P7R42722_Norm             1 3.576e-12       7.9      -7.7\n",
        "        _Index            2     2.476       2.3      -8.4\n",
        "        _beta             3   0.07549      45.5       5.8\n",
        "4 calls, function value, improvement, quality: 693149.2, 0.01, 0.00"
       ]
      },
      {
       "output_type": "stream",
       "stream": "stdout",
       "text": [
        "\n",
        "Name                  index     value  error(%)  gradient\n",
        "P7R42722_beta             3   0.07375      33.3       0.2\n"
       ]
      }
     ],
     "prompt_number": 5
    },
    {
     "cell_type": "markdown",
     "metadata": {},
     "source": [
      "(The optional arg <tt>tolerance</tt> was set to zero to force a fit; for efficiency it the quality is already good, the fit will not proceed:"
     ]
    },
    {
     "cell_type": "code",
     "collapsed": false,
     "input": [
      "roi.fit([3])"
     ],
     "language": "python",
     "metadata": {},
     "outputs": [
      {
       "output_type": "stream",
       "stream": "stdout",
       "text": [
        "Not fitting, estimated improvement, 0.00, is less than tolerance= 0.1\n"
       ]
      }
     ],
     "prompt_number": 6
    },
    {
     "cell_type": "markdown",
     "metadata": {},
     "source": [
      "##SED\n",
      "The following examines the SED for the source we studied in the fitting notebook. First we select the source, using a convenient wild card format. Once selected, any function requiring a source specification will use it if none is specified."
     ]
    },
    {
     "cell_type": "code",
     "collapsed": false,
     "input": [
      "roi.get_source('*2722')\n",
      "roi.print_sed()\n",
      "roi.plot_sed()"
     ],
     "language": "python",
     "metadata": {},
     "outputs": [
      {
       "output_type": "stream",
       "stream": "stdout",
       "text": [
        "        flux  lflux  uflux  mflux    TS  pull\n",
        "energy                                       \n",
        "133      9.4    6.5   12.3    0.1  10.7   3.2\n",
        "237      3.7    1.1    6.2    0.6   2.0   1.2\n",
        "421      0.0    0.0    2.4    2.8   0.0  -2.5\n",
        "749      6.5    4.3    8.8    8.9   8.4  -1.1\n",
        "1333    21.6   19.3   23.9   18.3  94.9   1.5\n",
        "2371    23.9   21.7   26.2   24.4 137.0  -0.2\n",
        "4216    18.1   16.2   20.2   21.3 113.3  -1.5\n",
        "7498    11.5    9.7   13.4   12.1  63.0  -0.3\n",
        "13335    6.7    5.2    8.3    4.5  38.4   1.5\n",
        "23713    2.7    1.4    4.2    1.1   7.6   1.3\n",
        "42169    0.0    0.0    4.9    0.2   0.0  -0.7\n",
        "74989    0.0    0.0    6.2    0.0   0.0  -0.7\n",
        "133352   2.0    0.4    5.2    0.0   2.1   1.5\n",
        "237137   0.0    0.0   11.2    0.0   0.0  -0.0\n"
       ]
      },
      {
       "metadata": {},
       "output_type": "pyout",
       "png": "[encoded data removed]",
       "prompt_number": 7,
       "text": [
        "<matplotlib.figure.Figure at 0x1466ef10>"
       ]
      }
     ],
     "prompt_number": 7
    },
    {
     "cell_type": "markdown",
     "metadata": {},
     "source": [
      "For each of the energy bands the likelihood function for the energy flux in that band is characterized. The columns for flux are all in eV units\n",
      "\n",
      "* flux peak\n",
      "* lflux : -1 sigma value or zero \n",
      "* uflux : +1 sigma value or upper 95% limit\n",
      "* mflux : prediction of the model \n",
      "* TS : Test Statistic for that band. \n",
      "* pull : signed square root of twice the log likelihood difference between the prediction and the maximum value"
     ]
    },
    {
     "cell_type": "markdown",
     "metadata": {},
     "source": [
      "##Localization\n"
     ]
    },
    {
     "cell_type": "code",
     "collapsed": false,
     "input": [
      "roi.localize();"
     ],
     "language": "python",
     "metadata": {},
     "outputs": [
      {
       "output_type": "stream",
       "stream": "stdout",
       "text": [
        "Localizing source P7R42722, tolerance=1.0e-02...\n",
        "\t     moved     delta        ra       dec         a         b      qual\n",
        "\t    0.0000    0.0000  266.6167  -28.8511\n",
        "\t    0.0073    0.0073  266.6095  -28.8476    0.0023    0.0022   16.9820\n",
        "\t    0.0037    0.0053  266.6135  -28.8466    0.0096    0.0086    2.5961"
       ]
      },
      {
       "output_type": "stream",
       "stream": "stdout",
       "text": [
        "\n",
        "\t    0.0005    0.0051  266.6141  -28.8466    0.0103    0.0091    0.3555"
       ]
      },
      {
       "output_type": "stream",
       "stream": "stdout",
       "text": [
        "\n",
        "TS change: 0.28"
       ]
      },
      {
       "output_type": "stream",
       "stream": "stdout",
       "text": [
        "\n"
       ]
      }
     ],
     "prompt_number": 8
    },
    {
     "cell_type": "markdown",
     "metadata": {},
     "source": [
      "This shows the iterations of the non-linear fitter. The TS change is the predicted improvement if the source were moved. (An option <tt>update=True</tt> would do this.)"
     ]
    },
    {
     "cell_type": "code",
     "collapsed": false,
     "input": [
      "roi.plot_tsmap()"
     ],
     "language": "python",
     "metadata": {},
     "outputs": [
      {
       "output_type": "stream",
       "stream": "stdout",
       "text": [
        "TSplot: filling 225 pixels...\n"
       ]
      },
      {
       "metadata": {},
       "output_type": "pyout",
       "png": "[encoded data removed]",
       "prompt_number": 9,
       "text": [
        "<matplotlib.figure.Figure at 0x2aaaad7a2250>"
       ]
      }
     ],
     "prompt_number": 9
    },
    {
     "cell_type": "markdown",
     "metadata": {},
     "source": [
      "##Freezing and thawing parameters\n",
      "The functions <tt>freeze</tt> and <tt>thaw</tt> change the number of free parameters."
     ]
    },
    {
     "cell_type": "code",
     "collapsed": true,
     "input": [
      "roi.freeze('beta')\n",
      "roi.summarize(roi.get_source().name)\n",
      "roi.thaw('beta')\n",
      "roi.summarize(roi.get_source().name)"
     ],
     "language": "python",
     "metadata": {},
     "outputs": [
      {
       "output_type": "stream",
       "stream": "stdout",
       "text": [
        "current likelihood, est. diff to peak: 693149.2, 0.03\n",
        "Name                  index     value  error(%)  gradient"
       ]
      },
      {
       "output_type": "stream",
       "stream": "stdout",
       "text": [
        "\n",
        "P7R42722_Norm             1 3.576e-12       7.9      -4.0\n",
        "        _Index            2     2.476       2.3      -7.0\n",
        "current likelihood, est. diff to peak: 693149.2, 0.04"
       ]
      },
      {
       "output_type": "stream",
       "stream": "stdout",
       "text": [
        "\n",
        "Name                  index     value  error(%)  gradient"
       ]
      },
      {
       "output_type": "stream",
       "stream": "stdout",
       "text": [
        "\n",
        "P7R42722_Norm             1 3.576e-12       7.9      -4.0\n",
        "        _Index            2     2.476       2.3      -7.0\n",
        "        _beta             3   0.07375      33.3       0.2\n"
       ]
      }
     ],
     "prompt_number": 10
    },
    {
     "cell_type": "markdown",
     "metadata": {},
     "source": [
      "##Finding associations\n",
      "The following applies the <tt>gtsrcid</tt> algorithm to the selected source, or 'all'.\n"
     ]
    },
    {
     "cell_type": "code",
     "collapsed": false,
     "input": [
      "roi.find_associations('all')"
     ],
     "language": "python",
     "metadata": {},
     "outputs": [
      {
       "output_type": "stream",
       "stream": "stdout",
       "text": [
        " P7R42722 association(s)  "
       ]
      },
      {
       "output_type": "stream",
       "stream": "stdout",
       "text": [
        "...None  found\n",
        " P7R42734 association(s) "
       ]
      },
      {
       "output_type": "stream",
       "stream": "stdout",
       "text": [
        " ...None  found\n",
        " P7R42730 association(s) "
       ]
      },
      {
       "output_type": "stream",
       "stream": "stdout",
       "text": [
        " \n",
        "   cat         name                  ra        dec         ang     prob    Delta TS\n",
        "   pulsar_big  B1744-24A             267.0094  -24.7769    0.0068    0.99     0.8\n",
        "   lmxb        EXO 1745-248          267.0216  -24.7798    0.0120    0.87     1.1\n",
        "   globular    Terzan 5              267.0208  -24.8125    0.0307    0.60     6.8\n",
        " P7R42773H association(s) "
       ]
      },
      {
       "output_type": "stream",
       "stream": "stdout",
       "text": [
        " ...None  found\n",
        " P7R42728 association(s) "
       ]
      },
      {
       "output_type": "stream",
       "stream": "stdout",
       "text": [
        " ...None  found\n",
        " P7R42712H association(s) "
       ]
      },
      {
       "output_type": "stream",
       "stream": "stdout",
       "text": [
        " ...None  found\n",
        " P7R42767 association(s) "
       ]
      },
      {
       "output_type": "stream",
       "stream": "stdout",
       "text": [
        " ...None  found\n",
        " PSR J1801-2451 association(s) "
       ]
      },
      {
       "output_type": "stream",
       "stream": "stdout",
       "text": [
        " \n",
        "   cat         name                  ra        dec         ang     prob    Delta TS\n",
        "   snr_ext     G005.4-01.2           270.5394  -24.8975    0.1267    0.00    12.9\n",
        " P7R42760 association(s) "
       ]
      },
      {
       "output_type": "stream",
       "stream": "stdout",
       "text": [
        " ...None  found\n",
        " P7R42747 association(s) "
       ]
      },
      {
       "output_type": "stream",
       "stream": "stdout",
       "text": [
        " ...None  found\n",
        " P7R42712P association(s) "
       ]
      },
      {
       "output_type": "stream",
       "stream": "stdout",
       "text": [
        " ...None  found\n",
        " P7R42758 association(s) "
       ]
      },
      {
       "output_type": "stream",
       "stream": "stdout",
       "text": [
        " ...None  found\n"
       ]
      }
     ],
     "prompt_number": 11
    },
    {
     "cell_type": "markdown",
     "metadata": {},
     "source": [
      "##Adding and deleting sources\n",
      "The functions <tt>add_source</tt> and <tt>del_source</tt> change the number of sources.\n",
      "###Deleting a source\n",
      "This example shows that the source object can be saved, then restored after deletion."
     ]
    },
    {
     "cell_type": "code",
     "collapsed": false,
     "input": [
      "s = roi.del_source('P7R42722')\n",
      "print 'quality after deletion: %.1f' % roi.delta_loglike()\n",
      "roi.add_source(s)\n",
      "print 'quality after restoration: %.1f' % roi.delta_loglike()\n"
     ],
     "language": "python",
     "metadata": {},
     "outputs": [
      {
       "output_type": "stream",
       "stream": "stdout",
       "text": [
        "quality after deletion: 178.3\n",
        "quality after restoration: 0.9"
       ]
      },
      {
       "output_type": "stream",
       "stream": "stdout",
       "text": [
        "\n"
       ]
      }
     ],
     "prompt_number": 12
    },
    {
     "cell_type": "markdown",
     "metadata": {},
     "source": [
      "###Adding a source\n",
      "Sources must have a name, position (skydir argument) and a model. The latter, if not specified, is set to a default.\n",
      "The position is a (ra,dec) tuple that should be within the inner HEALPix pixel."
     ]
    },
    {
     "cell_type": "code",
     "collapsed": false,
     "input": [
      "snew = roi.add_source(name='test', skydir=(270,25))"
     ],
     "language": "python",
     "metadata": {},
     "outputs": [],
     "prompt_number": 13
    },
    {
     "cell_type": "code",
     "collapsed": false,
     "input": [
      "roi.summarize('test')\n",
      "roi.fit([35])"
     ],
     "language": "python",
     "metadata": {},
     "outputs": [
      {
       "output_type": "stream",
       "stream": "stdout",
       "text": [
        "current likelihood, est. diff to peak: 693149.2, -0.00\n",
        "Name                  index     value  error(%)  gradient"
       ]
      },
      {
       "output_type": "stream",
       "stream": "stdout",
       "text": [
        "\n",
        "test_Norm                35     1e-14       ***      -0.0\n",
        "    _Index               36       2.2       ***      -0.0\n",
        "Minimizer warning: bad errors for values ['test_Norm']"
       ]
      },
      {
       "output_type": "stream",
       "stream": "stdout",
       "text": [
        "\n",
        "1 calls, function value, improvement, quality: 693149.2, 0.00, -0.00"
       ]
      },
      {
       "output_type": "stream",
       "stream": "stdout",
       "text": [
        "\n",
        "Name                  index     value  error(%)  gradient"
       ]
      },
      {
       "output_type": "stream",
       "stream": "stdout",
       "text": [
        "\n",
        "test_Norm                35     1e-14       ***      -0.0\n"
       ]
      }
     ],
     "prompt_number": 14
    },
    {
     "cell_type": "markdown",
     "metadata": {},
     "source": [
      "##Saving and restoring an ROI\n",
      "The current state of an ROI can be saved as an XML file, and read back."
     ]
    },
    {
     "cell_type": "code",
     "collapsed": false,
     "input": [
      "roi.to_xml('ROI0840.xml')"
     ],
     "language": "python",
     "metadata": {},
     "outputs": [],
     "prompt_number": 15
    },
    {
     "cell_type": "code",
     "collapsed": false,
     "input": [
      "roi2 = main.ROI('.', 'ROI0840.xml')\n",
      "print '%s\\ndelta loglike: %.1f' % (roi2, roi2.delta_loglike())"
     ],
     "language": "python",
     "metadata": {},
     "outputs": []
    },
    {
     "cell_type": "markdown",
     "metadata": {},
     "source": [
      "<hr style=\"height:2px;\"/>\n",
      "<pre>\n",
      "$Header$\n",
      "</pre>"
     ]
    }
   ],
   "metadata": {}
  }
 ]
}