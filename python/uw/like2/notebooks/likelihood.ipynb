{
 "metadata": {
  "name": "",
  "signature": "sha256:fe278bd075a6150a4a157cb950615692354dfecb5d1496e8ac7dd4c047b98cc3"
 },
 "nbformat": 3,
 "nbformat_minor": 0,
 "worksheets": [
  {
   "cells": [
    {
     "cell_type": "markdown",
     "metadata": {},
     "source": [
      "#Evaluating the likelihood for an ROI\n",
      "This notebook describes the pointlike/like2 all-sky model and how is it used to evaluate the likelihood function. There are three inputs to determine the model, as defined in the <tt>config.txt</tt> file:\n",
      "\n",
      "* the file <tt>pickle.zip</tt> or an XML file, described below\n",
      "* a set of diffuse definitions\n",
      "* the extended catalog\n",
      "\n",
      "After setting up the configuration, a model for a particular ROI is defined by the class <a href=\"http://glast.stanford.edu/cgi-bin/cvsweb-SLAC/pointlike/python/uw/like2/roimodel.py?view=markup\"> <tt>roimodel.ROImodel</tt></a>. It must be initialized by invoking a subclass, either <tt>from_healpix.ROImodelFromHealpix</tt> or <tt>from_xml.ROImodelFromXML</tt>.\n",
      "<br>For the former, an ROI location must be specified, either the HEALPix nside=12 index, a number from 0 to 1727, or an (RA,Dec) pair.\n",
      "##Create the list of sources\n",
      "This first cell queries the all-sky model for sources in the HEALPix pixel, and surrounding pixels to two rings."
     ]
    },
    {
     "cell_type": "code",
     "collapsed": false,
     "input": [
      "from uw.like2 import (configuration, from_healpix, bands, bandlike)\n",
      "%cd /tmp/pointlike_demo\n",
      "roi_index = 840\n",
      "config=configuration.Configuration(quiet=True)\n",
      "%time roi_sources = from_healpix.ROImodelFromHealpix(config, roi_index,load_kw=dict(rings=2))\n",
      "print roi_sources"
     ],
     "language": "python",
     "metadata": {},
     "outputs": [
      {
       "output_type": "stream",
       "stream": "stdout",
       "text": [
        "/tmp/pointlike_demo\n",
        "finished adding sources"
       ]
      },
      {
       "output_type": "stream",
       "stream": "stdout",
       "text": [
        "\n",
        "CPU times: user 2.42 s, sys: 50 ms, total: 2.47 s\n",
        "Wall time: 3.68 s\n",
        "uw.like2.from_healpix.ROImodelFromHealpix : 4 global, 13 local, 153 total sources for ROI 840\n"
       ]
      }
     ],
     "prompt_number": 1
    },
    {
     "cell_type": "markdown",
     "metadata": {},
     "source": [
      "Local sources are those within the central pixel, which are variable.\n",
      "\n",
      "##Generate the list of bands\n",
      "The next cell uses <a href=\"http://glast.stanford.edu/cgi-bin/cvsweb-SLAC/pointlike/python/uw/like2/bands.py?view=markup\"><tt>bands.BandSet</tt></a> to create a set of <tt>EnergyBand</tt> objects, one for each energy range and event type as defined by the dataset, and for the direction defined by  <tt>roi_index</tt>. For each band's energy and event type there are functions to evaluate the exposure and the PSF, as demonstrated here.   "
     ]
    },
    {
     "cell_type": "code",
     "collapsed": false,
     "input": [
      "%time roi_bands = bands.BandSet(config, roi_index)\n",
      "%time roi_bands.load_data() # fills pixels\n",
      "\n",
      "print roi_bands\n",
      "b =roi_bands[0]\n",
      "print 'For band %s:' %b\n",
      "print '  Exposure at ROI center: %.2e s*cm**2' %b.exposure(b.skydir)\n",
      "print '  PSF, 68%% containment: %.2f deg' %b.psf.inverse_integral(68)"
     ],
     "language": "python",
     "metadata": {},
     "outputs": [
      {
       "output_type": "stream",
       "stream": "stdout",
       "text": [
        "CPU times: user 32 ms, sys: 5 ms, total: 37 ms\n",
        "Wall time: 35.6 ms\n",
        "CPU times: user 1.49 s, sys: 13 ms, total: 1.51 s"
       ]
      },
      {
       "output_type": "stream",
       "stream": "stdout",
       "text": [
        "\n",
        "Wall time: 1.5 s\n",
        "uw.like2.bands.BandSet : 28 bands 100-316227 MeV for ROI 840, 88484 pixels, 1006086 events"
       ]
      },
      {
       "output_type": "stream",
       "stream": "stdout",
       "text": [
        "\n",
        "For band uw.like2.bands.EnergyBand: 100-178 MeV event_type 0, 173 pixels, 87285 events:\n",
        "  Exposure at ROI center: 1.84e+10 s*cm**2\n",
        "  PSF, 68% containment: 3.05 deg\n"
       ]
      }
     ],
     "prompt_number": 2
    },
    {
     "cell_type": "markdown",
     "metadata": {},
     "source": [
      "##Combine bands and sources\n",
      "We need the response of each source for each band. This is done by he class <a href=\"http://glast.stanford.edu/cgi-bin/cvsweb-SLAC/pointlike/python/uw/like2/bandlike.py?view=markup\"><tt>bandlike.BandLikeList</tt></a>, which is given the sources and bands."
     ]
    },
    {
     "cell_type": "code",
     "collapsed": false,
     "input": [
      "%time blike = bandlike.BandLikeList(roi_bands, roi_sources)\n",
      "print blike"
     ],
     "language": "python",
     "metadata": {},
     "outputs": [
      {
       "output_type": "stream",
       "stream": "stdout",
       "text": [
        "CPU times: user 1min 24s, sys: 1.02 s, total: 1min 25s\n",
        "Wall time: 1min 27s\n",
        "uw.like2.bandlike.BandLikeList: \n",
        "\tuw.like2.from_healpix.ROImodelFromHealpix : 4 global, 13 local, 153 total sources for ROI 840\n",
        "\t28 bands\n",
        "\tParameters: 35 in 14/153 free sources\n"
       ]
      }
     ],
     "prompt_number": 3
    },
    {
     "cell_type": "markdown",
     "metadata": {},
     "source": [
      "We measure the response, or number of counts, predicted by the model each source, in the circular ROI, 5 degrees radius by default.\n",
      "The plots show, for a low and moderate energy, the contributions from sources according to their \"ring\" number: 0 for the inner pixel that is completely enclosed by the ROI, 1 for the 7 or 8 pixels surrounding it, and 2 for the outer ring."
     ]
    },
    {
     "cell_type": "code",
     "collapsed": false,
     "input": [
      "%matplotlib inline\n",
      "def plot_counts(b, ax):\n",
      "    c = np.array([x.counts for x in b])\n",
      "    r = np.array([x.source.index[1] for x in b])\n",
      "    x = [c[r==i].clip(None,1e5) for i in range(3)]\n",
      "    labels = ['ring %d'%i for i in range(3)]\n",
      "    ax.hist(x, np.logspace(0,5, 21), stacked=True ,label=labels)\n",
      "    plt.setp(ax, xscale='log', xlabel='counts in ROI', xlim=(1,1e5),\n",
      "        title='e=%0.f %s' % (b.band.energy, ['front','back'][b.band.event_type]) )\n",
      "    ax.legend(prop=dict(size=10)); ax.grid()\n",
      "fig, axx = plt.subplots(1,3, figsize=(15,4))\n",
      "map( plot_counts, (blike[1],blike[5], blike[8]), axx);"
     ],
     "language": "python",
     "metadata": {},
     "outputs": [
      {
       "metadata": {},
       "output_type": "display_data",
       "png": "[encoded data removed]",
       "text": [
        "<matplotlib.figure.Figure at 0x2cf7610>"
       ]
      }
     ],
     "prompt_number": 4
    },
    {
     "cell_type": "markdown",
     "metadata": {},
     "source": [
      "So, due to the large PSF at low energies, sources in the outer ring are necessary for low energies, but do not contribute beyond a few hundred MeV.\n",
      "##Evaluating the likelihood\n",
      "The <tt>BandLikeList</tt> class defines the likelihood function, its gradient with respect to the parameters, and a Hessian matrix estimated from the variation of the gradient. These are described in detail in the notebook on fitting."
     ]
    },
    {
     "cell_type": "code",
     "collapsed": false,
     "input": [
      "blike.parameter_summary()"
     ],
     "language": "python",
     "metadata": {},
     "outputs": [
      {
       "output_type": "stream",
       "stream": "stdout",
       "text": [
        "log likelihood: 693118.6\n",
        "\n",
        "parameter                value gradient\n",
        "---------                ----- --------\n",
        "isotrop_Scale             0.21    -16.4\n",
        "P7R42722_Norm           -11.42    -57.4\n",
        "P7R42722_Index            2.41    -21.1\n",
        "P7R42722_beta             0.15     34.7\n",
        "P7R42734_Norm           -12.22     -5.2\n",
        "P7R42734_Index            2.49     -0.8\n",
        "P7R42734_beta             0.87      3.2\n",
        "P7R42730_Norm           -11.19    -18.2\n",
        "P7R42730_Index            1.99     -4.1\n",
        "P7R42730_beta             0.41      4.8\n",
        "P7R42773H_Norm          -12.95     -4.2\n",
        "P7R42773H_Index           2.38     -2.1\n",
        "P7R42728_Norm           -10.87    -30.0\n",
        "P7R42728_Index            2.33     -9.1\n",
        "P7R42728_beta             0.51     10.2\n",
        "P7R42712H_Norm          -11.91     -5.8\n",
        "P7R42712H_Index           2.77      0.0\n",
        "P7R42767_Norm           -12.42    -10.4\n",
        "P7R42767_Index            2.37     -5.4\n",
        "P7R42767_beta             0.23     11.8\n",
        "PSR J1801-2451_Norm     -13.32     -0.6\n",
        "PSR J1801-2451_Index      1.32     -0.9\n",
        "PSR J1801-2451_Cutoff     4.17     -0.2\n",
        "P7R42760_Norm           -13.33     -2.1\n",
        "P7R42760_Index            2.07     -2.0\n",
        "P7R42747_Norm           -11.91     -4.4\n",
        "P7R42747_Index            1.90     -1.3\n",
        "P7R42747_beta             0.54      2.1\n",
        "P7R42712P_Norm          -13.25     -2.8\n",
        "P7R42712P_Index           2.27     -1.4\n",
        "P7R42758_Norm           -13.14     -3.6\n",
        "P7R42758_Index            2.12     -2.6\n",
        "W28_Norm                -10.49    -61.6\n",
        "W28_Index                 2.30     -0.5\n",
        "W28_beta                  0.12     -1.6\n"
       ]
      }
     ],
     "prompt_number": 5
    },
    {
     "cell_type": "markdown",
     "metadata": {},
     "source": [
      "Note the parameter name convention: the name of the source followed by an underscore, then the spectral model parameter name. (All normalization factors are in log10 units.) If the likelihood is maximized, each gradient should be zero."
     ]
    },
    {
     "cell_type": "markdown",
     "metadata": {},
     "source": [
      "<hr style=\"height:2px\"/>\n",
      "\\$Header: /nfs/slac/g/glast/ground/cvs/pointlike/python/uw/like2/notebooks/likelihood.ipynb,v 1.2 2014/01/28 19:14:13 burnett Exp $"
     ]
    }
   ],
   "metadata": {}
  }
 ]
}