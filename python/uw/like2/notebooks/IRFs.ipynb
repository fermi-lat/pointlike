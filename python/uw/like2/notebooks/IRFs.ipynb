{
 "cells": [
  {
   "cell_type": "markdown",
   "metadata": {},
   "source": [
    "# IRF Handling\n",
    "\n",
    "This notebook describes the handling of the uw.irfs module for loading IRF information. \n"
   ]
  },
  {
   "cell_type": "markdown",
   "metadata": {},
   "source": [
    "## Setup\n"
   ]
  },
  {
   "cell_type": "code",
   "execution_count": 89,
   "metadata": {
    "collapsed": false
   },
   "outputs": [],
   "source": [
    "import os\n",
    "import pprint\n",
    "\n",
    "import numpy as np\n",
    "import pylab as plt\n",
    "from astropy.io import fits\n",
    "\n",
    "import skymaps\n",
    "from uw.like2 import configuration, bands, dataset\n",
    "from uw.irfs import caldb,psf,effective_area,exposure, irfman\n",
    "\n",
    "map(reload,(configuration,bands,dataset,caldb,\n",
    "            psf,effective_area,exposure,irfman))\n",
    "os.environ['CALDB'] = os.path.expandvars('${BASE_DIR}/irfs/caldb/CALDB')\n",
    "os.environ['TIMING_DIR'] = os.path.expandvars('${GLAST_EXT}/extFiles/v0r9/jplephem')\n",
    "cwd = \"/tmp/wallacee/response\"\n",
    "if not os.path.exists(cwd):\n",
    "    if not os.path.exists(os.path.dirname(cwd)):\n",
    "        os.mkdir(os.path.dirname(cwd))\n",
    "    os.mkdir(cwd)\n",
    "os.chdir(cwd)\n",
    "\n"
   ]
  },
  {
   "cell_type": "markdown",
   "metadata": {},
   "source": [
    "## CALDB\n",
    "\n",
    "The CALDB class manages reading in info from a CALDB database. It takes one optional argument, CALDB_dir, specifying the path to the base of the CALDB directory structure. If not given, it is read from the $CALDB environment variable. "
   ]
  },
  {
   "cell_type": "code",
   "execution_count": 90,
   "metadata": {
    "collapsed": true
   },
   "outputs": [],
   "source": [
    "cdb = caldb.CALDB()"
   ]
  },
  {
   "cell_type": "markdown",
   "metadata": {},
   "source": [
    "A CALDB object can be called with a specific irf ('psf','aeff', or 'edisp'), version, event class, and event type. The return value is a dictionary containing the filenames and irf extensions for each event type matching the given version selection. If multiple event types are requested, the return value is a dict in which the keys are the (integer) event types and the values are dicts of the same form as would be returned for a single type. "
   ]
  },
  {
   "cell_type": "markdown",
   "metadata": {},
   "source": [
    "### A note about event type specifications\n",
    "\n",
    "In the CALDB class, and elsewhere in the uw.irfs module, any function that takes an argument specifying an event type will (or at least should) accept either an integer from 0-9, a string, or a sequence of either. Integer event types correspond to the  appropriate bit in the collaboration-standard event type bitmask: (0=back, 1=front, 2=psf0, ..., 5=psf3, 6=edisp0,...). Strings can be either \"front\", \"back\", \"psf#\", or \"edisp#\", and are case-insensitive. Additionally, the strings \"fb\", \"psf\", and \"edisp\" can be used to indicate all types from the given partition (i.e., \"fb\" is equivalent to (\"front\",\"back\"), and so on). \n",
    "\n",
    "Where event type specifications are stored internally or returned from functions, the integer form is generally (hopefully consistently). \n",
    "\n",
    "TODO: encapsulate the event type handling in a more transparent and less error-prone form."
   ]
  },
  {
   "cell_type": "code",
   "execution_count": 91,
   "metadata": {
    "collapsed": false
   },
   "outputs": [
    {
     "name": "stdout",
     "output_type": "stream",
     "text": [
      "PSF files for P8R2_SOURCE_V6::PSF3 :\n",
      "\n",
      "{'extensions': {'FISHEYE_CORR': 12, 'PSF_SCALING': 11, 'RPSF': 10},\n",
      " 'filename': '/nfs/farm/g/glast/u35/ReleaseManagerBuild/redhat6-x86_64-64bit-gcc44/Optimized/ScienceTools/11-01-01/irfs/caldb/CALDB/data/glast/lat/bcf/psf/psf_P8R2_SOURCE_V6_PSF.fits'}\n",
      "PSF files for P8R2_SOURCE_V6::PSF :\n",
      "\n",
      "{2: {'extensions': {'FISHEYE_CORR': 3, 'PSF_SCALING': 2, 'RPSF': 1},\n",
      "     'filename': '/nfs/farm/g/glast/u35/ReleaseManagerBuild/redhat6-x86_64-64bit-gcc44/Optimized/ScienceTools/11-01-01/irfs/caldb/CALDB/data/glast/lat/bcf/psf/psf_P8R2_SOURCE_V6_PSF.fits'},\n",
      " 3: {'extensions': {'FISHEYE_CORR': 6, 'PSF_SCALING': 5, 'RPSF': 4},\n",
      "     'filename': '/nfs/farm/g/glast/u35/ReleaseManagerBuild/redhat6-x86_64-64bit-gcc44/Optimized/ScienceTools/11-01-01/irfs/caldb/CALDB/data/glast/lat/bcf/psf/psf_P8R2_SOURCE_V6_PSF.fits'},\n",
      " 4: {'extensions': {'FISHEYE_CORR': 9, 'PSF_SCALING': 8, 'RPSF': 7},\n",
      "     'filename': '/nfs/farm/g/glast/u35/ReleaseManagerBuild/redhat6-x86_64-64bit-gcc44/Optimized/ScienceTools/11-01-01/irfs/caldb/CALDB/data/glast/lat/bcf/psf/psf_P8R2_SOURCE_V6_PSF.fits'},\n",
      " 5: {'extensions': {'FISHEYE_CORR': 12, 'PSF_SCALING': 11, 'RPSF': 10},\n",
      "     'filename': '/nfs/farm/g/glast/u35/ReleaseManagerBuild/redhat6-x86_64-64bit-gcc44/Optimized/ScienceTools/11-01-01/irfs/caldb/CALDB/data/glast/lat/bcf/psf/psf_P8R2_SOURCE_V6_PSF.fits'}}\n"
     ]
    }
   ],
   "source": [
    "psf3 = cdb('psf',version='P8R2_V6',event_class='source',event_type='psf3')\n",
    "print(\"PSF files for P8R2_SOURCE_V6::PSF3 :\\n\")\n",
    "pprint.pprint(psf3)\n",
    "\n",
    "psf_all = cdb('psf',version='P8R2_V6',event_class='source',event_type='psf')\n",
    "print(\"PSF files for P8R2_SOURCE_V6::PSF :\\n\")\n",
    "pprint.pprint(psf_all)\n"
   ]
  },
  {
   "cell_type": "markdown",
   "metadata": {},
   "source": [
    "## Effective Area\n",
    "\n",
    "The effective_area module provides the EffectiveArea class, which is currently a simple wrapper around skymaps.EffectiveArea. "
   ]
  },
  {
   "cell_type": "code",
   "execution_count": 92,
   "metadata": {
    "collapsed": false
   },
   "outputs": [
    {
     "name": "stdout",
     "output_type": "stream",
     "text": [
      "Effective area files for P8R2_SOURCE_V6::PSF :\n",
      "\n",
      "{2: {'extensions': {'EFFICIENCY_PARS': 3, 'EFF_AREA': 1, 'PHI_DEP': 2},\n",
      "     'filename': '/nfs/farm/g/glast/u35/ReleaseManagerBuild/redhat6-x86_64-64bit-gcc44/Optimized/ScienceTools/11-01-01/irfs/caldb/CALDB/data/glast/lat/bcf/ea/aeff_P8R2_SOURCE_V6_PSF.fits'},\n",
      " 3: {'extensions': {'EFFICIENCY_PARS': 6, 'EFF_AREA': 4, 'PHI_DEP': 5},\n",
      "     'filename': '/nfs/farm/g/glast/u35/ReleaseManagerBuild/redhat6-x86_64-64bit-gcc44/Optimized/ScienceTools/11-01-01/irfs/caldb/CALDB/data/glast/lat/bcf/ea/aeff_P8R2_SOURCE_V6_PSF.fits'},\n",
      " 4: {'extensions': {'EFFICIENCY_PARS': 9, 'EFF_AREA': 7, 'PHI_DEP': 8},\n",
      "     'filename': '/nfs/farm/g/glast/u35/ReleaseManagerBuild/redhat6-x86_64-64bit-gcc44/Optimized/ScienceTools/11-01-01/irfs/caldb/CALDB/data/glast/lat/bcf/ea/aeff_P8R2_SOURCE_V6_PSF.fits'},\n",
      " 5: {'extensions': {'EFFICIENCY_PARS': 12, 'EFF_AREA': 10, 'PHI_DEP': 11},\n",
      "     'filename': '/nfs/farm/g/glast/u35/ReleaseManagerBuild/redhat6-x86_64-64bit-gcc44/Optimized/ScienceTools/11-01-01/irfs/caldb/CALDB/data/glast/lat/bcf/ea/aeff_P8R2_SOURCE_V6_PSF.fits'}}\n"
     ]
    }
   ],
   "source": [
    "aeff_info = cdb('aeff',version='P8R2_V6',event_class='source',event_type='psf')\n",
    "print(\"Effective area files for P8R2_SOURCE_V6::PSF :\\n\")\n",
    "pprint.pprint(aeff_info)\n",
    "aeff_psf3 = aeff_info[5]\n",
    "aeff = effective_area.EffectiveArea(aeff_psf3['filename'],\n",
    "             aeff_extension = aeff_psf3['extensions']['EFF_AREA'],\n",
    "             eff_params_extension=aeff_psf3['extensions']['EFFICIENCY_PARS'])"
   ]
  },
  {
   "cell_type": "markdown",
   "metadata": {},
   "source": [
    "## Exposure\n",
    "\n",
    "The exposure.Exposure class handles the combination of the effective area and the livetime. Currently a wrapper around the C++ implementation, mostly just copied from like2.exposure. "
   ]
  },
  {
   "cell_type": "code",
   "execution_count": 93,
   "metadata": {
    "collapsed": false
   },
   "outputs": [
    {
     "name": "stdout",
     "output_type": "stream",
     "text": [
      "Warning: PROC_VER not found in /afs/slac/g/glast/groups/catalog/pointlike/fermi/data/P8_P302/zmax105/P302_Source_001_zmax105.fits header\n",
      "processing cuts:  ZENITH_ANGLE zenith_cut\n",
      "ft1_cut DSTYP4: ZENITH_ANGLE\n",
      "DSUNI4: deg\n",
      "DSVAL4: 0:105\n",
      "DSREF4: None\n",
      "processing cuts:  THETA theta_cut\n",
      "ft1_cut None\n",
      "processing cuts:  EVENT_CLASS event_class_cut\n",
      "ft1_cut DSTYP1: BIT_MASK(EVENT_CLASS,128,P8R2)\n",
      "DSUNI1: DIMENSIONLESS\n",
      "DSVAL1: 1:1\n",
      "DSREF1: None\n",
      "File /tmp/wallacee/response/P302_4bpd_psf.fits not found\n",
      "using Gti for creating binned photon file Gti: 416 intervals from 239557417 to 241960000, on time 1975018\n",
      "Creating binfile from 1 FT1 files\n"
     ]
    },
    {
     "name": "stderr",
     "output_type": "stream",
     "text": [
      "/afs/slac/g/glast/groups/catalog/python/anaconda/lib/python2.7/site-packages/pyfits/file.py:339: UserWarning: Overwriting existing file '/tmp/wallacee/response/P302_4bpd_psf.fits'.\n",
      "  warnings.warn(\"Overwriting existing file %r.\" % self.name)\n"
     ]
    },
    {
     "name": "stdout",
     "output_type": "stream",
     "text": [
      "checking ltcube: failed clobber on /tmp/wallacee/response/ltcube.fits\n",
      "on iteration 0\n"
     ]
    },
    {
     "name": "stderr",
     "output_type": "stream",
     "text": [
      "/afs/slac/g/glast/groups/catalog/python/anaconda/lib/python2.7/site-packages/pyfits/file.py:339: UserWarning: Overwriting existing file '/tmp/wallacee/response/ltcube.fits'.\n",
      "  warnings.warn(\"Overwriting existing file %r.\" % self.name)\n"
     ]
    },
    {
     "name": "stdout",
     "output_type": "stream",
     "text": [
      "Exposure at ra,dec = (0,0), energy=100.0: 250049787.292\n",
      "Exposure at ra,dec = (0,0), energy=177.827941004: 426361955.44\n",
      "Exposure at ra,dec = (0,0), energy=316.227766017: 589017690.83\n",
      "Exposure at ra,dec = (0,0), energy=562.34132519: 755780395.253\n",
      "Exposure at ra,dec = (0,0), energy=1000.0: 874579141.366\n",
      "Exposure at ra,dec = (0,0), energy=1778.27941004: 950489217.356\n",
      "Exposure at ra,dec = (0,0), energy=3162.27766017: 963590645.189\n",
      "Exposure at ra,dec = (0,0), energy=5623.4132519: 927717503.094\n",
      "Exposure at ra,dec = (0,0), energy=10000.0: 930566521.764\n",
      "Exposure at ra,dec = (0,0), energy=17782.7941004: 933555352.031\n",
      "Exposure at ra,dec = (0,0), energy=31622.7766017: 972056190.086\n",
      "Exposure at ra,dec = (0,0), energy=56234.132519: 1008206856.48\n",
      "Exposure at ra,dec = (0,0), energy=100000.0: 987718147.403\n"
     ]
    }
   ],
   "source": [
    "#DataSet for access to the livetime\n",
    "dataspec=dict(\n",
    "    ft1files=os.path.expandvars('$FERMI/data/P8_P302/zmax105/P302_Source_001_zmax105.fits'),\n",
    "    ft2files=os.path.expandvars('/afs/slac/g/glast/groups/catalog/P8_P302/ft2_2008.fits'),\n",
    "    binfile=os.path.join(cwd,'P302_4bpd_psf.fits'),\n",
    "    ltcube=os.path.join(cwd,'ltcube.fits'),\n",
    "    binsperdec=4,\n",
    "    psf_event_types=True\n",
    ")\n",
    "dset = dataset.DataSet(dataspec,irf='P8R2_SOURCE_V6')\n",
    "\n",
    "exp = exposure.Exposure(dset.lt,aeff,cthetamin=np.cos(np.radians(dset.theta_cut.get_bounds()[1])))\n",
    "\n",
    "ens = np.logspace(2,5,13)\n",
    "st = \"Exposure at ra,dec = (0,0), energy={}: {}\"\n",
    "sd = skymaps.SkyDir(0,0)\n",
    "for e in ens:\n",
    "    print(st.format(e,exp(sd,e)))"
   ]
  },
  {
   "cell_type": "markdown",
   "metadata": {},
   "source": [
    "The exposure.BandExposure class provides a representation of the exposure at a specific energy."
   ]
  },
  {
   "cell_type": "code",
   "execution_count": 94,
   "metadata": {
    "collapsed": false
   },
   "outputs": [],
   "source": [
    "assert(np.all([exposure.BandExposure(exp,e)(sd)==exp(sd,e) for e in ens]))"
   ]
  },
  {
   "cell_type": "markdown",
   "metadata": {},
   "source": [
    "## PSF\n",
    "\n",
    "The psf.PSF class provides a representation of the PSF. The PSF class is callable, with an angular deviation and energy. If exposure weights have been calculated (see below), the returned value is the exposure-weighted average of the PSF over inclination angles. If no exposure has been provided, the returned value is just the on-axis PSF density. \n",
    "\n",
    "NOTE: I'm not sure that the PSF normalization is being correctly calculated from the CALDB values.   "
   ]
  },
  {
   "cell_type": "code",
   "execution_count": 95,
   "metadata": {
    "collapsed": false
   },
   "outputs": [
    {
     "name": "stdout",
     "output_type": "stream",
     "text": [
      "On-axis PSF density at delta=0.0 degrees, e=100: = 188.235603849\n",
      "On-axis PSF density at delta=0.25 degrees, e=100: = 0.0221948017143\n",
      "On-axis PSF density at delta=0.5 degrees, e=100: = 0.000392083899762\n",
      "On-axis PSF density at delta=0.75 degrees, e=100: = 4.35369395109e-05\n",
      "On-axis PSF density at delta=1.0 degrees, e=100: = 9.62450301971e-06\n"
     ]
    }
   ],
   "source": [
    "mypsf = psf.PSF(psf3['filename'],rpsf_extension = psf3['extensions']['RPSF'],\n",
    "                psf_scaling_extension = psf3['extensions']['PSF_SCALING'])\n",
    "\n",
    "st = \"On-axis PSF density at delta={} degrees, e=100: = {}\"\n",
    "deltas = np.linspace(0,1,5)\n",
    "for d in deltas:\n",
    "    print(st.format(d,mypsf(d,100)))"
   ]
  },
  {
   "cell_type": "markdown",
   "metadata": {},
   "source": [
    "A PSF can be initialized with an optional exposure argument. If provided, the given exposure will be used to calculate weights for averaging over inclination angles.\n",
    "\n",
    "NOTE: The averaging over inclination angles is not implemented yet. Should be there soon! "
   ]
  },
  {
   "cell_type": "code",
   "execution_count": 96,
   "metadata": {
    "collapsed": false
   },
   "outputs": [
    {
     "name": "stdout",
     "output_type": "stream",
     "text": [
      "Theta-averaged PSF density at delta=0.0 degrees, e=100: = 188.235603849\n",
      "Theta-averaged PSF density at delta=0.25 degrees, e=100: = 0.0221948017143\n",
      "Theta-averaged PSF density at delta=0.5 degrees, e=100: = 0.000392083899762\n",
      "Theta-averaged PSF density at delta=0.75 degrees, e=100: = 4.35369395109e-05\n",
      "Theta-averaged PSF density at delta=1.0 degrees, e=100: = 9.62450301971e-06\n"
     ]
    }
   ],
   "source": [
    "mypsf = psf.PSF(psf3['filename'],rpsf_extension = psf3['extensions']['RPSF'],\n",
    "                psf_scaling_extension = psf3['extensions']['PSF_SCALING'],exposure=exp)\n",
    "\n",
    "st = \"Theta-averaged PSF density at delta={} degrees, e=100: = {}\"\n",
    "deltas = np.linspace(0,1,5)\n",
    "for d in deltas:\n",
    "    print(st.format(d,mypsf(d,100)))"
   ]
  },
  {
   "cell_type": "markdown",
   "metadata": {},
   "source": [
    "psf.BandPSF provides a PSF representation for a specific energy. A BandPSF for energy e can be produced from a PSF object via the PSF.band_psf method."
   ]
  },
  {
   "cell_type": "code",
   "execution_count": 97,
   "metadata": {
    "collapsed": false
   },
   "outputs": [],
   "source": [
    "bandpsf = mypsf.band_psf(100)\n",
    "\n",
    "assert(np.all(mypsf(d,100)==bandpsf(d) for d in deltas))"
   ]
  },
  {
   "cell_type": "markdown",
   "metadata": {},
   "source": [
    "## IrfManager\n",
    "\n",
    "The uw.irfman module provides the IrfManager class to manage a set of PSF and Exposure objects for a given IRF selection. It is initialized from a dataset, assumed to be specified as a like2.dataset.DataSet. It must at least have attributes \"irf_version\" (the IRF version, specified with the event class included, e.g. \"P8R2_SOURCE_V6\"), \"lt\" (a LivetimeCube object), \"psf_event_types\" (a boolean indicating whether psf or front/back event types should be used), and \"theta_cut\" (a uw.data.DSSSimpleRange specifying the theta cut). \n",
    "\n",
    "The methods psf(event_type,energy) and exposure(event_type,energy) will return BandPSF and BandExposure objects, respectively, for the given event type and energy. The PSF representations are initialized with the corresponding exposures to ensure appropriate weighting for the averages over theta. "
   ]
  },
  {
   "cell_type": "code",
   "execution_count": 98,
   "metadata": {
    "collapsed": false
   },
   "outputs": [
    {
     "name": "stdout",
     "output_type": "stream",
     "text": [
      "(<uw.irfs.psf.BandPSF object at 0x7ff470733890>, <uw.irfs.exposure.BandExposure object at 0x7ff4b1248250>)\n"
     ]
    }
   ],
   "source": [
    "iman = irfman.IrfManager(dset)\n",
    "psf = iman.psf(2,100)\n",
    "exp = iman.exposure(2,100)\n",
    "print(psf,exp)"
   ]
  },
  {
   "cell_type": "markdown",
   "metadata": {},
   "source": [
    "A configuration.Configuration initializes an IrfManager to provide the appropriate PSF and Exposure objects. The user interface *should* be compatible with the versions from like2.  "
   ]
  },
  {
   "cell_type": "code",
   "execution_count": 99,
   "metadata": {
    "collapsed": false
   },
   "outputs": [],
   "source": [
    "\n",
    "cfg = dict(\n",
    "    dataspec=dict(\n",
    "        ft1files=os.path.expandvars('$FERMI/data/P8_P302/zmax105/P302_Source_001_zmax105.fits'),\n",
    "        ft2files=os.path.expandvars('/afs/slac/g/glast/groups/catalog/P8_P302/ft2_2008.fits'),\n",
    "        binfile=os.path.join(cwd,'P302_4bpd_fb.fits'),\n",
    "        ltcube=os.path.join(cwd,'ltcube.fits'),\n",
    "        binsperdec=4,\n",
    "    ),\n",
    "    irf= 'P8R2_SOURCE_V6',\n",
    "    \n",
    "    input_model = dict(path='$FERMI/skymodels/P302_7years/uw1002'),\n",
    "\n",
    "    diffuse = dict(\n",
    "    ring    = dict(type='HealpixCube', \n",
    "            filename='/nfs/slac/g/ki/ki20/elliott/Pass8_GC/gcfit/results/P8_P302_ultraclean_veto_z90/galprop/models/'\\\n",
    "                'diffuse_model_flux_P8_P302_ultraclean_veto_z90_umap_ifilter_Galprop_5rings_IC123_geomLoopI_PS_P8uw963_adaptive_ps_mask_P8uw963_DM_Cusp_n2p5_ISO_plaw_pnorm_psfall.fits',\n",
    "            correction='galactic_correction_uw1002A.csv', \n",
    "            systematic=0.0316), \n",
    "    isotrop = dict(type='IsotropicList', filename='isotropic_source_*_4years_P8V3.txt',\n",
    "            correction='isotropic_correction_*_uw965.csv'),\n",
    "    limb    = None, \n",
    "    SunMoon = 'template_SunMoon_6years_zmax100.fits', \n",
    "    ),\n",
    "    \n",
    "    extended= 'Extended_archive_v14',\n",
    ")\n",
    "with open('config.txt','w') as f:\n",
    "\n",
    "    f.write(str(cfg))"
   ]
  },
  {
   "cell_type": "code",
   "execution_count": 100,
   "metadata": {
    "collapsed": false,
    "scrolled": false
   },
   "outputs": [
    {
     "name": "stdout",
     "output_type": "stream",
     "text": [
      "Warning: PROC_VER not found in /afs/slac/g/glast/groups/catalog/pointlike/fermi/data/P8_P302/zmax105/P302_Source_001_zmax105.fits header\n",
      "processing cuts:  ZENITH_ANGLE zenith_cut\n",
      "ft1_cut DSTYP4: ZENITH_ANGLE\n",
      "DSUNI4: deg\n",
      "DSVAL4: 0:105\n",
      "DSREF4: None\n",
      "processing cuts:  THETA theta_cut\n",
      "ft1_cut None\n",
      "processing cuts:  EVENT_CLASS event_class_cut\n",
      "ft1_cut DSTYP1: BIT_MASK(EVENT_CLASS,128,P8R2)\n",
      "DSUNI1: DIMENSIONLESS\n",
      "DSVAL1: 1:1\n",
      "DSREF1: None\n"
     ]
    }
   ],
   "source": [
    "import os\n",
    "cwd = os.path.expandvars('/tmp/test_psf_binning')\n",
    "if not os.path.exists(cwd):\n",
    "    os.mkdir(cwd)\n",
    "os.chdir(cwd)\n",
    "if not os.path.basename(os.getcwd())=='P302_4bpd_fb':\n",
    "    os.chdir(os.path.join(cwd,'P302_4bpd_fb'))\n",
    "config = configuration.Configuration(quiet=True)\n"
   ]
  }
 ],
 "metadata": {
  "kernelspec": {
   "display_name": "Python 2",
   "language": "python",
   "name": "python2"
  },
  "language_info": {
   "codemirror_mode": {
    "name": "ipython",
    "version": 2
   },
   "file_extension": ".py",
   "mimetype": "text/x-python",
   "name": "python",
   "nbconvert_exporter": "python",
   "pygments_lexer": "ipython2",
   "version": "2.7.11"
  }
 },
 "nbformat": 4,
 "nbformat_minor": 0
}
