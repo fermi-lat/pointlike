{
 "cells": [
  {
   "cell_type": "markdown",
   "metadata": {},
   "source": [
    "# Test code to exercise dataset handling with PSF event types.\n"
   ]
  },
  {
   "cell_type": "code",
   "execution_count": 602,
   "metadata": {
    "collapsed": true
   },
   "outputs": [],
   "source": [
    "import os\n",
    "os.environ['CALDB'] = os.path.expandvars('${BASE_DIR}/irfs/caldb/CALDB')\n",
    "os.environ['TIMING_DIR'] = os.path.expandvars('${GLAST_EXT}/extFiles/v0r9/jplephem')\n"
   ]
  },
  {
   "cell_type": "code",
   "execution_count": null,
   "metadata": {
    "collapsed": false
   },
   "outputs": [],
   "source": []
  },
  {
   "cell_type": "code",
   "execution_count": 603,
   "metadata": {
    "collapsed": false
   },
   "outputs": [
    {
     "data": {
      "text/plain": [
       "[<module 'uw.irfs.caldb' from '/nfs/farm/g/glast/u/wallacee/pointlike-dev/python/uw/irfs/caldb.pyc'>,\n",
       " <module 'uw.irfs.irfman' from '/nfs/farm/g/glast/u/wallacee/pointlike-dev/python/uw/irfs/irfman.pyc'>,\n",
       " <module 'uw.irfs.psf' from '/nfs/farm/g/glast/u/wallacee/pointlike-dev/python/uw/irfs/psf.pyc'>,\n",
       " <module 'uw.irfs.effective_area' from '/nfs/farm/g/glast/u/wallacee/pointlike-dev/python/uw/irfs/effective_area.pyc'>,\n",
       " <module 'uw.irfs.exposure' from '/nfs/farm/g/glast/u/wallacee/pointlike-dev/python/uw/irfs/exposure.pyc'>]"
      ]
     },
     "execution_count": 603,
     "metadata": {},
     "output_type": "execute_result"
    }
   ],
   "source": [
    "import numpy as np\n",
    "from uw.like2 import configuration, bands, dataset, from_healpix\n",
    "map(reload,(configuration,bands,dataset, from_healpix))\n",
    "from uw.irfs import (caldb,irfman,psf,effective_area,exposure)\n",
    "map(reload,(caldb,irfman,psf,effective_area,exposure))"
   ]
  },
  {
   "cell_type": "markdown",
   "metadata": {},
   "source": [
    "## Specify a working directory and create it if needed"
   ]
  },
  {
   "cell_type": "code",
   "execution_count": 604,
   "metadata": {
    "collapsed": false
   },
   "outputs": [],
   "source": [
    "cwd = os.path.expandvars('/tmp/test_psf_binning')\n",
    "if not os.path.exists(cwd):\n",
    "    os.mkdir(cwd)\n",
    "os.chdir(cwd)"
   ]
  },
  {
   "cell_type": "markdown",
   "metadata": {},
   "source": [
    "## Create configuration files\n",
    "\n",
    "Write out config.txt files in individual subdirectories. Configurations are set up to test:\n",
    "\n",
    "  * Loading a pass 7 dataset\n",
    "  * Loading a pass 8 dataset with front/back binning\n",
    "  * Loading a pass 8 dataset with PSF binning using the 'dataspec' config key \n",
    "  * Loading a pass 8 dataset with PSF binning using the 'datadict' config key \n",
    "    \n",
    "All configurations use a single month of data. Paths to data files "
   ]
  },
  {
   "cell_type": "code",
   "execution_count": 605,
   "metadata": {
    "collapsed": false,
    "scrolled": true
   },
   "outputs": [],
   "source": [
    "cfg7 = dict(\n",
    "    dataspec=dict(\n",
    "        ft1files=os.path.expandvars('/afs/slac/g/glast/groups/catalog/P7_P202/Source/P7_P202_BASE_Source_001_zmax100.fits'),\n",
    "        ft2files=os.path.expandvars('/afs/slac/g/glast/groups/catalog/P7_P202/ft2_4years.fits'),\n",
    "        binfile=os.path.join(cwd,'P202_4bpd_fb.fits'),\n",
    "        ltcube=os.path.join(cwd,'ltcube.fits'),\n",
    "        binsperdec=4,\n",
    "        \n",
    "    ),\n",
    "    irf= 'P7REP_SOURCE_V15',\n",
    "    \n",
    "    input_model = dict(path='$FERMI/skymodels/P202/uw30'),\n",
    "\n",
    "    diffuse= dict(\n",
    "        ring    =  dict(filename='template_4years_P7_v15_repro_v3_4bpd.zip',\n",
    "                    correction='galactic_correction_v3.csv', \n",
    "                    systematic=0.0316), \n",
    "        isotrop = '4Y_SOURCE_**_V9_EGBfree.txt', \n",
    "        SunMoon = 'SunMoon_4years_zmax100.fits', \n",
    "        limb    = 'AziLimb:azi_limb_P7_v0_*.txt',\n",
    "        ),\n",
    "    \n",
    "    extended= 'Extended_archive_v13',\n",
    ")\n",
    "\n",
    "cfg8_fb = dict(\n",
    "    dataspec=dict(\n",
    "        ft1files=os.path.expandvars('$FERMI/data/P8_P302/zmax105/P302_Source_001_zmax105.fits'),\n",
    "        ft2files=os.path.expandvars('/afs/slac/g/glast/groups/catalog/P8_P302/ft2_2008.fits'),\n",
    "        binfile=os.path.join(cwd,'P302_4bpd_fb.fits'),\n",
    "        ltcube=os.path.join(cwd,'ltcube.fits'),\n",
    "        binsperdec=4,\n",
    "    ),\n",
    "    irf= 'P8R2_SOURCE_V6',\n",
    "    \n",
    "    input_model = dict(path='$FERMI/skymodels/P302_7years/uw993'),\n",
    "\n",
    "    diffuse = dict(\n",
    "    ring    = dict(type='HealpixCube', \n",
    "            filename='/nfs/slac/g/ki/ki20/elliott/Pass8_GC/gcfit/results/P8_P302_ultraclean_veto_z90/galprop/models/'\\\n",
    "                'diffuse_model_flux_P8_P302_ultraclean_veto_z90_umap_ifilter_Galprop_5rings_IC123_geomLoopI_PS_P8uw963_adaptive_ps_mask_P8uw963_DM_Cusp_n2p5_ISO_plaw_pnorm_psfall.fits',\n",
    "            correction='galactic_correction_uw1002A.csv', \n",
    "            systematic=0.0316), \n",
    "    isotrop = dict(type='IsotropicList', filename='isotropic_source_*_4years_P8V3.txt',\n",
    "                   correction=None,\n",
    "    ),\n",
    "    limb    = None, \n",
    "    SunMoon = 'template_SunMoon_6years_zmax100.fits', \n",
    "    ),\n",
    "    \n",
    "    extended= 'Extended_archive_v14',\n",
    ")\n",
    "\n",
    "cfg8_psf = dict(\n",
    "    dataspec=dict(\n",
    "        ft1files=[os.path.expandvars('$FERMI/data/P8_P302/zmax105/P302_Source_001_zmax105.fits')],\n",
    "        ft2files=[os.path.expandvars('/afs/slac/g/glast/groups/catalog/P8_P302/ft2_2008.fits')],\n",
    "        binfile=os.path.join(cwd,'P302_4bpd_psf.fits'),\n",
    "        ltcube=os.path.join(cwd,'ltcube.fits'),\n",
    "        binsperdec=4,\n",
    "        psf_event_types=True,\n",
    "    ),\n",
    "    irf= 'P8R2_SOURCE_V6',\n",
    "    \n",
    "    input_model = dict(path='$FERMI/skymodels/P302_7years/uw993'),\n",
    "\n",
    "    diffuse = dict(\n",
    "    ring    = dict(type='HealpixCube', \n",
    "            filename='/nfs/slac/g/ki/ki20/elliott/Pass8_GC/gcfit/results/P8_P302_ultraclean_veto_z90/galprop/models/'\\\n",
    "                'diffuse_model_flux_P8_P302_ultraclean_veto_z90_umap_ifilter_Galprop_5rings_IC123_geomLoopI_PS_P8uw963_adaptive_ps_mask_P8uw963_DM_Cusp_n2p5_ISO_plaw_pnorm_psfall.fits',\n",
    "            correction='galactic_correction_uw1002A.csv', \n",
    "            systematic=0.0316), \n",
    "    isotrop = dict(type='IsotropicList', filename='isotropic_source_*_4years_P8V3.txt',\n",
    "                   correction=None,\n",
    "    #correction='isotropic_correction_*_uw965.csv'),\n",
    "                   ),\n",
    "    limb    = None, \n",
    "    SunMoon = 'template_SunMoon_6years_zmax100.fits', \n",
    "    ),\n",
    "    \n",
    "    extended= 'Extended_archive_v14',\n",
    ")\n",
    "dataspec_dict = dict(P302_psf_test=dict(data_name=\"Pass8, P302, 1 month, PSF event types\",\n",
    "                 ft1files = '$FERMI/data/P8_P302/zmax105/P302_Source_001_zmax105.fits',\n",
    "                 ft2files = '/afs/slac/g/glast/groups/catalog/P8_P302/ft2_2008.fits',\n",
    "                 binsperdec=4,\n",
    "                 binfile = 'P302_4bpd_psf.fits',\n",
    "                 ltcube =  'ltcube.fits', \n",
    "                 psf_event_types = True,\n",
    "                 legacy = True,))\n",
    "cfg8_psf_datadict = dict(\n",
    "    datadict=dict(\n",
    "        dataname='P302_psf_test',\n",
    "        ft1files=[os.path.expandvars('$FERMI/data/P8_P302/zmax105/P302_Source_001_zmax105.fits')],\n",
    "        ft2files=[os.path.expandvars('/afs/slac/g/glast/groups/catalog/P8_P302/ft2_2008.fits')],\n",
    "        binfile=os.path.join(cwd,'P302_4bpd_psf.fits'),\n",
    "        ltcube=os.path.join(cwd,'ltcube.fits'),\n",
    "        binsperdec=4,\n",
    "        psf_event_types=True,\n",
    "    ),\n",
    "    irf= 'P8R2_SOURCE_V6',\n",
    "    \n",
    "    input_model = dict(path='$FERMI/skymodels/P302_7years/uw993'),\n",
    "\n",
    "    diffuse = dict(\n",
    "    ring    = dict(type='HealpixCube', \n",
    "            filename='/nfs/slac/g/ki/ki20/elliott/Pass8_GC/gcfit/results/P8_P302_ultraclean_veto_z90/galprop/models/'\\\n",
    "                'diffuse_model_flux_P8_P302_ultraclean_veto_z90_umap_ifilter_Galprop_5rings_IC123_geomLoopI_PS_P8uw963_adaptive_ps_mask_P8uw963_DM_Cusp_n2p5_ISO_plaw_pnorm_psfall.fits',\n",
    "            correction='galactic_correction_uw1002A.csv', \n",
    "            systematic=0.0316), \n",
    "    isotrop = dict(type='IsotropicList', filename='isotropic_source_*_4years_P8V3.txt',\n",
    "                   correction=None,\n",
    "    ),\n",
    "                   #correction='isotropic_correction_*_uw965.csv'),\n",
    "    limb    = None, \n",
    "    SunMoon = 'template_SunMoon_6years_zmax100.fits', \n",
    "    ),\n",
    "    \n",
    "    extended= 'Extended_archive_v14',\n",
    ")\n",
    "\n",
    "\n",
    "for cfg,cfgdir in zip([cfg7,cfg8_fb,cfg8_psf],\n",
    "                      ['P202_4bpd_fb','P302_4bpd_fb','P302_4bpd_psf']):\n",
    "    if not os.path.exists(cfgdir):\n",
    "        os.mkdir(cfgdir)\n",
    "    with open(os.path.join(cfgdir,'config.txt'),'w') as f:\n",
    "        f.write(str(cfg))\n",
    "cfg,cfgdir = cfg8_psf_datadict,'P302_4bpd_psf_datadict'\n",
    "if not os.path.exists(cfgdir):\n",
    "    os.mkdir(cfgdir)\n",
    "with open(os.path.join(cfgdir,'config.txt'),'w') as f:\n",
    "    f.write(str(cfg))\n",
    "with open(os.path.join(cfgdir,'dataspec.py'),'w') as f:\n",
    "    f.write(str(dataspec_dict))\n",
    "    "
   ]
  },
  {
   "cell_type": "code",
   "execution_count": 606,
   "metadata": {
    "collapsed": false,
    "scrolled": false
   },
   "outputs": [
    {
     "name": "stdout",
     "output_type": "stream",
     "text": [
      "Warning: PROC_VER not found in /afs/slac/g/glast/groups/catalog/P7_P202/Source/P7_P202_BASE_Source_001_zmax100.fits header\n",
      "processing cuts:  ZENITH_ANGLE zenith_cut\n",
      "ft1_cut DSTYP3: ZENITH_ANGLE\n",
      "DSUNI3: deg\n",
      "DSVAL3: 0:100\n",
      "DSREF3: None\n",
      "processing cuts:  THETA theta_cut\n",
      "ft1_cut None\n",
      "processing cuts:  EVENT_CLASS event_class_cut\n",
      "ft1_cut None\n",
      "Failed dss comparison:\n",
      " ltcube DSTYP1: BIT_MASK(EVENT_CLASS,128,P8R2)\n",
      "DSUNI1: DIMENSIONLESS\n",
      "DSVAL1: 1:1\n",
      "DSREF1: None\n",
      "DSTYP2: TIME\n",
      "DSUNI2: s\n",
      "DSVAL2: TABLE\n",
      "DSREF2: :GTI\n",
      "DSTYP3: ENERGY\n",
      "DSUNI3: MeV\n",
      "DSVAL3: 10:1000000\n",
      "DSREF3: None\n",
      "DSTYP4: ZENITH_ANGLE\n",
      "DSUNI4: deg\n",
      "DSVAL4: 0:105\n",
      "DSREF4: None\n",
      "DSTYP5: THETA\n",
      "DSUNI5: deg\n",
      "DSVAL5: :66.4\n",
      "DSREF5: None,\n",
      " FT1 DSTYP1: TIME\n",
      "DSUNI1: s\n",
      "DSVAL1: TABLE\n",
      "DSREF1: :GTI\n",
      "DSTYP2: ENERGY\n",
      "DSUNI2: MeV\n",
      "DSVAL2: 30:1000000\n",
      "DSREF2: None\n",
      "DSTYP3: ZENITH_ANGLE\n",
      "DSUNI3: deg\n",
      "DSVAL3: 0:100\n",
      "DSREF3: None\n",
      "DSTYP4: THETA\n",
      "DSUNI4: deg\n",
      "DSVAL4: :66.4\n",
      "DSREF4: None\n",
      "DSTYP5: BIT_MASK(EVENT_CLASS,2)\n",
      "DSUNI5: DIMENSIONLESS\n",
      "DSVAL5: 1:1\n",
      "DSREF5: None\n",
      "on iteration 0\n",
      "Warning: PROC_VER not found in /afs/slac/g/glast/groups/catalog/pointlike/fermi/data/P8_P302/zmax105/P302_Source_001_zmax105.fits header\n",
      "processing cuts:  ZENITH_ANGLE zenith_cut\n",
      "ft1_cut DSTYP4: ZENITH_ANGLE\n",
      "DSUNI4: deg\n",
      "DSVAL4: 0:105\n",
      "DSREF4: None\n",
      "processing cuts:  THETA theta_cut\n",
      "ft1_cut None\n",
      "processing cuts:  EVENT_CLASS event_class_cut\n",
      "ft1_cut DSTYP1: BIT_MASK(EVENT_CLASS,128,P8R2)\n",
      "DSUNI1: DIMENSIONLESS\n",
      "DSVAL1: 1:1\n",
      "DSREF1: None\n",
      "Failed dss comparison:\n",
      " ltcube DSTYP1: TIME\n",
      "DSUNI1: s\n",
      "DSVAL1: TABLE\n",
      "DSREF1: :GTI\n",
      "DSTYP2: ENERGY\n",
      "DSUNI2: MeV\n",
      "DSVAL2: 30:1000000\n",
      "DSREF2: None\n",
      "DSTYP3: ZENITH_ANGLE\n",
      "DSUNI3: deg\n",
      "DSVAL3: 0:100\n",
      "DSREF3: None\n",
      "DSTYP4: THETA\n",
      "DSUNI4: deg\n",
      "DSVAL4: :66.4\n",
      "DSREF4: None\n",
      "DSTYP5: BIT_MASK(EVENT_CLASS,2)\n",
      "DSUNI5: DIMENSIONLESS\n",
      "DSVAL5: 1:1\n",
      "DSREF5: None,\n",
      " FT1 DSTYP1: BIT_MASK(EVENT_CLASS,128,P8R2)\n",
      "DSUNI1: DIMENSIONLESS\n",
      "DSVAL1: 1:1\n",
      "DSREF1: None\n",
      "DSTYP2: TIME\n",
      "DSUNI2: s\n",
      "DSVAL2: TABLE\n",
      "DSREF2: :GTI\n",
      "DSTYP3: ENERGY\n",
      "DSUNI3: MeV\n",
      "DSVAL3: 10:1000000\n",
      "DSREF3: None\n",
      "DSTYP4: ZENITH_ANGLE\n",
      "DSUNI4: deg\n",
      "DSVAL4: 0:105\n",
      "DSREF4: None\n",
      "DSTYP5: THETA\n",
      "DSUNI5: deg\n",
      "DSVAL5: :66.4\n",
      "DSREF5: None\n",
      "on iteration 0\n",
      "Warning: PROC_VER not found in /afs/slac/g/glast/groups/catalog/pointlike/fermi/data/P8_P302/zmax105/P302_Source_001_zmax105.fits header\n",
      "processing cuts:  ZENITH_ANGLE zenith_cut\n",
      "ft1_cut DSTYP4: ZENITH_ANGLE\n",
      "DSUNI4: deg\n",
      "DSVAL4: 0:105\n",
      "DSREF4: None\n",
      "processing cuts:  THETA theta_cut\n",
      "ft1_cut None\n",
      "processing cuts:  EVENT_CLASS event_class_cut\n",
      "ft1_cut DSTYP1: BIT_MASK(EVENT_CLASS,128,P8R2)\n",
      "DSUNI1: DIMENSIONLESS\n",
      "DSVAL1: 1:1\n",
      "DSREF1: None\n",
      "Warning: PROC_VER not found in /afs/slac/g/glast/groups/catalog/pointlike/fermi/data/P8_P302/zmax105/P302_Source_001_zmax105.fits header\n",
      "processing cuts:  ZENITH_ANGLE zenith_cut\n",
      "ft1_cut DSTYP4: ZENITH_ANGLE\n",
      "DSUNI4: deg\n",
      "DSVAL4: 0:105\n",
      "DSREF4: None\n",
      "processing cuts:  THETA theta_cut\n",
      "ft1_cut None\n",
      "processing cuts:  EVENT_CLASS event_class_cut\n",
      "ft1_cut DSTYP1: BIT_MASK(EVENT_CLASS,128,P8R2)\n",
      "DSUNI1: DIMENSIONLESS\n",
      "DSVAL1: 1:1\n",
      "DSREF1: None\n"
     ]
    }
   ],
   "source": [
    "if not os.path.basename(os.getcwd())=='P202_4bpd_fb':\n",
    "    os.chdir(os.path.join(cwd,'P202_4bpd_fb'))\n",
    "config_p7 = configuration.Configuration(quiet=True)\n",
    "\n",
    "if not os.path.basename(os.getcwd())=='P302_4bpd_fb':\n",
    "    os.chdir(os.path.join(cwd,'P302_4bpd_fb'))\n",
    "\n",
    "config_fb = configuration.Configuration(quiet=True)\n",
    "\n",
    "if not os.path.basename(os.getcwd())=='P302_4bpd_psf':\n",
    "    os.chdir(os.path.join(cwd,'P302_4bpd_psf'))\n",
    "\n",
    "config_spec = configuration.Configuration(quiet=True)\n",
    "\n",
    "if not os.path.basename(os.getcwd())=='P302_4bpd_psf_datadict':\n",
    "    os.chdir(os.path.join(cwd,'P302_4bpd_psf_datadict'))\n",
    "config_dict = configuration.Configuration(quiet=True)\n"
   ]
  },
  {
   "cell_type": "markdown",
   "metadata": {
    "collapsed": false
   },
   "source": [
    "## Test loading data\n",
    "\n",
    "Create a BandSet for each Configuration, and load the data. \n"
   ]
  },
  {
   "cell_type": "code",
   "execution_count": 607,
   "metadata": {
    "collapsed": false
   },
   "outputs": [],
   "source": [
    "from uw.like2 import from_healpix, bands\n",
    "roi_index = 840\n",
    "bandsets = []\n",
    "for config in (config_p7, config_fb, config_spec,config_dict):\n",
    "    bandsets += [bands.BandSet(config,roi_index,load=True)]"
   ]
  },
  {
   "cell_type": "code",
   "execution_count": 608,
   "metadata": {
    "collapsed": false
   },
   "outputs": [
    {
     "data": {
      "text/plain": [
       "(2, 3, 4, 5)"
      ]
     },
     "execution_count": 608,
     "metadata": {},
     "output_type": "execute_result"
    }
   ],
   "source": [
    "#psf_info = config_p7.irfs.caldb('psf',version = config_p7.irfs.irf_version,\n",
    "#                        event_class=config_p7.irfs.event_class,\n",
    "#                       event_type = config_p7.irfs.event_types)\n",
    "iman = config.irfs\n",
    "iman.event_types"
   ]
  },
  {
   "cell_type": "code",
   "execution_count": null,
   "metadata": {
    "collapsed": true
   },
   "outputs": [],
   "source": []
  },
  {
   "cell_type": "code",
   "execution_count": 609,
   "metadata": {
    "collapsed": false
   },
   "outputs": [
    {
     "ename": "DiffuseException",
     "evalue": "not all diffuse files ['/afs/slac/g/glast/groups/catalog/pointlike/fermi/diffuse/isotropic_source_PSF0_4years_P8V3.txt'] found",
     "output_type": "error",
     "traceback": [
      "\u001b[1;31m\u001b[0m",
      "\u001b[1;31mDiffuseException\u001b[0mTraceback (most recent call last)",
      "\u001b[1;32m<ipython-input-609-ecec04220222>\u001b[0m in \u001b[0;36m<module>\u001b[1;34m()\u001b[0m\n\u001b[0;32m      1\u001b[0m roi_sources = from_healpix.ROImodelFromHealpix(config_spec,\n\u001b[0;32m      2\u001b[0m                                                 \u001b[0mroi_index\u001b[0m\u001b[1;33m,\u001b[0m\u001b[1;33m\u001b[0m\u001b[0m\n\u001b[1;32m----> 3\u001b[1;33m                                                 load_kw=dict(rings=2))\n\u001b[0m",
      "\u001b[1;32m/nfs/farm/g/glast/u/wallacee/pointlike-dev/python/uw/like2/roimodel.pyc\u001b[0m in \u001b[0;36m__init__\u001b[1;34m(self, config, roi_spec, **kwargs)\u001b[0m\n\u001b[0;32m     52\u001b[0m \u001b[1;33m\u001b[0m\u001b[0m\n\u001b[0;32m     53\u001b[0m         \u001b[1;31m# sources loaded by a subclass that must implement this function\u001b[0m\u001b[1;33m\u001b[0m\u001b[1;33m\u001b[0m\u001b[0m\n\u001b[1;32m---> 54\u001b[1;33m         \u001b[0mself\u001b[0m\u001b[1;33m.\u001b[0m\u001b[0mload_sources\u001b[0m\u001b[1;33m(\u001b[0m\u001b[0mroi_spec\u001b[0m\u001b[1;33m,\u001b[0m \u001b[1;33m**\u001b[0m\u001b[0mself\u001b[0m\u001b[1;33m.\u001b[0m\u001b[0mload_kw\u001b[0m\u001b[1;33m)\u001b[0m\u001b[1;33m\u001b[0m\u001b[0m\n\u001b[0m\u001b[0;32m     55\u001b[0m \u001b[1;33m\u001b[0m\u001b[0m\n\u001b[0;32m     56\u001b[0m         \u001b[1;32mif\u001b[0m \u001b[0mconfig\u001b[0m\u001b[1;33m.\u001b[0m\u001b[0mauxcat\u001b[0m \u001b[1;32mis\u001b[0m \u001b[1;32mnot\u001b[0m \u001b[0mNone\u001b[0m\u001b[1;33m:\u001b[0m\u001b[1;33m\u001b[0m\u001b[0m\n",
      "\u001b[1;32m/nfs/farm/g/glast/u/wallacee/pointlike-dev/python/uw/like2/from_healpix.pyc\u001b[0m in \u001b[0;36mload_sources\u001b[1;34m(self, roi_index, rings)\u001b[0m\n\u001b[0;32m     57\u001b[0m         \u001b[0mself\u001b[0m\u001b[1;33m.\u001b[0m\u001b[0m_z\u001b[0m \u001b[1;33m=\u001b[0m \u001b[0mzipfile\u001b[0m\u001b[1;33m.\u001b[0m\u001b[0mZipFile\u001b[0m\u001b[1;33m(\u001b[0m\u001b[0mos\u001b[0m\u001b[1;33m.\u001b[0m\u001b[0mpath\u001b[0m\u001b[1;33m.\u001b[0m\u001b[0mexpandvars\u001b[0m\u001b[1;33m(\u001b[0m\u001b[0mself\u001b[0m\u001b[1;33m.\u001b[0m\u001b[0mpickle_file\u001b[0m\u001b[1;33m)\u001b[0m\u001b[1;33m)\u001b[0m\u001b[1;33m\u001b[0m\u001b[0m\n\u001b[0;32m     58\u001b[0m         \u001b[0mglobal_only\u001b[0m \u001b[1;33m=\u001b[0m \u001b[0mrings\u001b[0m\u001b[1;33m==\u001b[0m\u001b[1;33m-\u001b[0m\u001b[1;36m1\u001b[0m\u001b[1;33m\u001b[0m\u001b[0m\n\u001b[1;32m---> 59\u001b[1;33m         \u001b[0mself\u001b[0m\u001b[1;33m.\u001b[0m\u001b[0mload_sources_from_healpix\u001b[0m\u001b[1;33m(\u001b[0m\u001b[1;33m(\u001b[0m\u001b[0mroi_index\u001b[0m\u001b[1;33m,\u001b[0m\u001b[1;36m0\u001b[0m\u001b[1;33m)\u001b[0m\u001b[1;33m,\u001b[0m \u001b[0mglobal_only\u001b[0m\u001b[1;33m=\u001b[0m\u001b[0mglobal_only\u001b[0m\u001b[1;33m)\u001b[0m\u001b[1;33m\u001b[0m\u001b[0m\n\u001b[0m\u001b[0;32m     60\u001b[0m         \u001b[1;32mif\u001b[0m \u001b[0mglobal_only\u001b[0m\u001b[1;33m:\u001b[0m \u001b[1;32mreturn\u001b[0m\u001b[1;33m\u001b[0m\u001b[0m\n\u001b[0;32m     61\u001b[0m         \u001b[1;32mfor\u001b[0m \u001b[0mneighbor_index\u001b[0m \u001b[1;32min\u001b[0m \u001b[0mneighbors\u001b[0m\u001b[1;33m(\u001b[0m\u001b[0mroi_index\u001b[0m\u001b[1;33m,\u001b[0m \u001b[0mrings\u001b[0m\u001b[1;33m=\u001b[0m\u001b[0mrings\u001b[0m\u001b[1;33m)\u001b[0m\u001b[1;33m:\u001b[0m\u001b[1;33m\u001b[0m\u001b[0m\n",
      "\u001b[1;32m/nfs/farm/g/glast/u/wallacee/pointlike-dev/python/uw/like2/from_healpix.pyc\u001b[0m in \u001b[0;36mload_sources_from_healpix\u001b[1;34m(self, index, neighbors, global_only)\u001b[0m\n\u001b[0;32m    137\u001b[0m \u001b[1;33m\u001b[0m\u001b[0m\n\u001b[0;32m    138\u001b[0m             global_sources = [load_global_source(name, rec) for name, rec \\\n\u001b[1;32m--> 139\u001b[1;33m                 in zip(p['diffuse_names'], p['diffuse']) if name not in self.ecat.names]\n\u001b[0m\u001b[0;32m    140\u001b[0m             \u001b[0mself\u001b[0m\u001b[1;33m.\u001b[0m\u001b[0mglobal_count\u001b[0m \u001b[1;33m=\u001b[0m \u001b[0mlen\u001b[0m\u001b[1;33m(\u001b[0m\u001b[0mglobal_sources\u001b[0m\u001b[1;33m)\u001b[0m\u001b[1;33m\u001b[0m\u001b[0m\n\u001b[0;32m    141\u001b[0m             \u001b[1;32mfor\u001b[0m \u001b[0ms\u001b[0m \u001b[1;32min\u001b[0m \u001b[0mglobal_sources\u001b[0m\u001b[1;33m:\u001b[0m\u001b[1;33m\u001b[0m\u001b[0m\n",
      "\u001b[1;32m/nfs/farm/g/glast/u/wallacee/pointlike-dev/python/uw/like2/from_healpix.pyc\u001b[0m in \u001b[0;36mload_global_source\u001b[1;34m(name, rec)\u001b[0m\n\u001b[0;32m    123\u001b[0m                 dmodel = diffuse.diffuse_factory( df, \n\u001b[0;32m    124\u001b[0m                 \u001b[0mevent_type_names\u001b[0m\u001b[1;33m=\u001b[0m\u001b[0mself\u001b[0m\u001b[1;33m.\u001b[0m\u001b[0mconfig\u001b[0m\u001b[1;33m.\u001b[0m\u001b[0mevent_type_names\u001b[0m\u001b[1;33m,\u001b[0m\u001b[1;33m\u001b[0m\u001b[0m\n\u001b[1;32m--> 125\u001b[1;33m                 diffuse_normalization = self.diffuse_normalization))\n\u001b[0m\u001b[0;32m    126\u001b[0m             \u001b[0mgsrc\u001b[0m\u001b[1;33m.\u001b[0m\u001b[0mindex\u001b[0m \u001b[1;33m=\u001b[0m\u001b[0mindex\u001b[0m\u001b[1;33m\u001b[0m\u001b[0m\n\u001b[0;32m    127\u001b[0m             \u001b[1;32mreturn\u001b[0m \u001b[0mgsrc\u001b[0m\u001b[1;33m\u001b[0m\u001b[0m\n",
      "\u001b[1;32m/nfs/farm/g/glast/u/wallacee/pointlike-dev/python/uw/like2/diffuse.py\u001b[0m in \u001b[0;36mdiffuse_factory\u001b[1;34m(value, diffuse_normalization, event_type_names)\u001b[0m\n\u001b[0;32m    543\u001b[0m         \u001b[1;31m# special code to handle Isotropic list in a dict with wild cards\u001b[0m\u001b[1;33m\u001b[0m\u001b[1;33m\u001b[0m\u001b[0m\n\u001b[0;32m    544\u001b[0m         return IsotropicList(value[0], event_type_names=event_type_names, \n\u001b[1;32m--> 545\u001b[1;33m             diffuse_normalization=diffuse_normalization)\n\u001b[0m\u001b[0;32m    546\u001b[0m     \u001b[1;32melse\u001b[0m\u001b[1;33m:\u001b[0m\u001b[1;33m\u001b[0m\u001b[0m\n\u001b[0;32m    547\u001b[0m         \u001b[0mfile_check\u001b[0m\u001b[1;33m(\u001b[0m\u001b[0mfiles\u001b[0m\u001b[1;33m)\u001b[0m\u001b[1;33m\u001b[0m\u001b[0m\n",
      "\u001b[1;32m/nfs/farm/g/glast/u/wallacee/pointlike-dev/python/uw/like2/diffuse.py\u001b[0m in \u001b[0;36m__init__\u001b[1;34m(self, adict, event_type_names, diffuse_normalization)\u001b[0m\n\u001b[0;32m    464\u001b[0m                     \u001b[0mfile_check\u001b[0m\u001b[1;33m(\u001b[0m\u001b[1;33m[\u001b[0m\u001b[0mfilename\u001b[0m\u001b[1;33m,\u001b[0m \u001b[0mcorrection\u001b[0m\u001b[1;33m]\u001b[0m\u001b[1;33m)\u001b[0m\u001b[1;33m\u001b[0m\u001b[0m\n\u001b[0;32m    465\u001b[0m             \u001b[1;32melse\u001b[0m\u001b[1;33m:\u001b[0m\u001b[1;33m\u001b[0m\u001b[0m\n\u001b[1;32m--> 466\u001b[1;33m                 \u001b[0mfile_check\u001b[0m\u001b[1;33m(\u001b[0m\u001b[1;33m[\u001b[0m\u001b[0mfilename\u001b[0m\u001b[1;33m]\u001b[0m\u001b[1;33m)\u001b[0m\u001b[1;33m\u001b[0m\u001b[0m\n\u001b[0m\u001b[0;32m    467\u001b[0m                 \u001b[0mcorrection\u001b[0m\u001b[1;33m=\u001b[0m\u001b[0mNone\u001b[0m\u001b[1;33m\u001b[0m\u001b[0m\n\u001b[0;32m    468\u001b[0m             \u001b[0miso\u001b[0m \u001b[1;33m=\u001b[0m \u001b[0mIsotropic\u001b[0m\u001b[1;33m(\u001b[0m\u001b[0mfilename\u001b[0m\u001b[1;33m)\u001b[0m\u001b[1;33m\u001b[0m\u001b[0m\n",
      "\u001b[1;32m/nfs/farm/g/glast/u/wallacee/pointlike-dev/python/uw/like2/diffuse.py\u001b[0m in \u001b[0;36mfile_check\u001b[1;34m(files)\u001b[0m\n\u001b[0;32m    474\u001b[0m     \u001b[0mcheck\u001b[0m \u001b[1;33m=\u001b[0m \u001b[0mmap\u001b[0m\u001b[1;33m(\u001b[0m\u001b[1;32mlambda\u001b[0m \u001b[0mf\u001b[0m\u001b[1;33m:\u001b[0m \u001b[0mos\u001b[0m\u001b[1;33m.\u001b[0m\u001b[0mpath\u001b[0m\u001b[1;33m.\u001b[0m\u001b[0mlexists\u001b[0m\u001b[1;33m(\u001b[0m\u001b[0mf\u001b[0m\u001b[1;33m)\u001b[0m \u001b[1;32mor\u001b[0m \u001b[0mf\u001b[0m\u001b[1;33m[\u001b[0m\u001b[1;33m-\u001b[0m\u001b[1;36m1\u001b[0m\u001b[1;33m]\u001b[0m\u001b[1;33m==\u001b[0m\u001b[1;34m')'\u001b[0m\u001b[1;33m,\u001b[0m \u001b[0mfull_files\u001b[0m\u001b[1;33m)\u001b[0m\u001b[1;33m\u001b[0m\u001b[0m\n\u001b[0;32m    475\u001b[0m     \u001b[1;32mif\u001b[0m \u001b[1;32mnot\u001b[0m \u001b[0mall\u001b[0m\u001b[1;33m(\u001b[0m\u001b[0mcheck\u001b[0m\u001b[1;33m)\u001b[0m\u001b[1;33m:\u001b[0m\u001b[1;33m\u001b[0m\u001b[0m\n\u001b[1;32m--> 476\u001b[1;33m         \u001b[1;32mraise\u001b[0m \u001b[0mDiffuseException\u001b[0m\u001b[1;33m(\u001b[0m\u001b[1;34m'not all diffuse files %s found'\u001b[0m \u001b[1;33m%\u001b[0m \u001b[0mfull_files\u001b[0m\u001b[1;33m)\u001b[0m\u001b[1;33m\u001b[0m\u001b[0m\n\u001b[0m\u001b[0;32m    477\u001b[0m \u001b[1;33m\u001b[0m\u001b[0m\n\u001b[0;32m    478\u001b[0m \u001b[1;33m\u001b[0m\u001b[0m\n",
      "\u001b[1;31mDiffuseException\u001b[0m: not all diffuse files ['/afs/slac/g/glast/groups/catalog/pointlike/fermi/diffuse/isotropic_source_PSF0_4years_P8V3.txt'] found"
     ]
    }
   ],
   "source": [
    "roi_sources = from_healpix.ROImodelFromHealpix(config_spec,\n",
    "                                                roi_index,\n",
    "                                                load_kw=dict(rings=2))\n"
   ]
  },
  {
   "cell_type": "code",
   "execution_count": null,
   "metadata": {
    "collapsed": false
   },
   "outputs": [],
   "source": [
    "from uw.like2 import bandlike\n",
    "for roi_bands in bandsets:\n",
    "    blikes = bandlike.BandLikeList(roi_bands,roi_sources)\n",
    "    print(blikes)"
   ]
  }
 ],
 "metadata": {
  "kernelspec": {
   "display_name": "Python 2",
   "language": "python",
   "name": "python2"
  },
  "language_info": {
   "codemirror_mode": {
    "name": "ipython",
    "version": 2
   },
   "file_extension": ".py",
   "mimetype": "text/x-python",
   "name": "python",
   "nbconvert_exporter": "python",
   "pygments_lexer": "ipython2",
   "version": "2.7.11"
  }
 },
 "nbformat": 4,
 "nbformat_minor": 0
}
