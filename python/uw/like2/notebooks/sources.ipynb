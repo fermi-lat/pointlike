{
 "metadata": {
  "name": "",
  "signature": "sha256:957c99250afb858a0af355b2264c5075930e5e3f5725d986f85589acc07b8598"
 },
 "nbformat": 3,
 "nbformat_minor": 0,
 "worksheets": [
  {
   "cells": [
    {
     "cell_type": "markdown",
     "metadata": {},
     "source": [
      "#Sources and responses\n",
      "\n",
      "Pointlike supports three basic source types, distinguished by the angular dependence \n",
      "\n",
      "* point\n",
      "* extended\n",
      "* global, or diffuse\n",
      "\n",
      "All are represented by classes that are subclasses of <a href=\"http://glast.stanford.edu/cgi-bin/cvsweb-SLAC/pointlike/python/uw/like2/sources.py?view=markup\"><tt>sources.Source</tt></a>\n",
      "\n",
      "Each of the classes implements a <tt>response</tt> function that, given an EnergyBand object with information about the PSF and exposure for the given energy and event type, allow computation of the predicted count distribution. These functions return an appropriate instance of a subclass of <a href=\"http://glast.stanford.edu/cgi-bin/cvsweb-SLAC/pointlike/python/uw/like2/response.py?view=markup\"><tt>response.Response</tt></a> which is used by <a href=\"http://glast.stanford.edu/cgi-bin/cvsweb-SLAC/pointlike/python/uw/like2/bandlike.py?view=markup\"><tt>bandlike.BandLike</tt></a> to compute the likelihood.\n",
      "\n",
      "This notebook explains each, with examples."
     ]
    },
    {
     "cell_type": "heading",
     "level": 1,
     "metadata": {},
     "source": [
      "point"
     ]
    },
    {
     "cell_type": "markdown",
     "metadata": {},
     "source": [
      "A point source has a name, position, and spectral model. The constructor requires \"name\" and \"skydir\". If \"model\" is not specified, a standard LogParabola is inserted."
     ]
    },
    {
     "cell_type": "code",
     "collapsed": false,
     "input": [
      "from uw.like2 import sources\n",
      "sources.PointSource(name='a point', skydir=(0,0))"
     ],
     "language": "python",
     "metadata": {},
     "outputs": [
      {
       "metadata": {},
       "output_type": "pyout",
       "prompt_number": 16,
       "text": [
        "uw.like2.sources.PointSource: \n",
        "\tname  : a point\n",
        "\tskydir: SkyDir(0.000,0.000)\n",
        "\tmodel : LogParabola\n",
        "\t\tNorm      : 1e-14 \n",
        "\t\tIndex     : 2.2 \n",
        "\t\tbeta      : 0 (FROZEN)\n",
        "\t\tE_break   : 1e+03 (FROZEN)\n",
        "\t\tPh. Flux  : 1.32e-10 (DERIVED)\n",
        "\t\tEn. Flux  : 9.51e-14 (DERIVED)"
       ]
      }
     ],
     "prompt_number": 16
    },
    {
     "cell_type": "markdown",
     "metadata": {},
     "source": [
      "The next example creates a point source with a exponential cutoff spectral function. Since models are expected to be either LogParabola or PLSuperExpCutoff, PowerLaw or ExpCutoff will be replaced with the equivalent model with the beta or b parameters frozen. "
     ]
    },
    {
     "cell_type": "code",
     "collapsed": false,
     "input": [
      "sources.PointSource(name='PSRxxx', skydir=(0,0), model='ExpCutoff(1e-11, 2.0, 2000)')"
     ],
     "language": "python",
     "metadata": {},
     "outputs": [
      {
       "output_type": "stream",
       "stream": "stdout",
       "text": [
        "converting PSRxxx to PLSuperExpCutoff\n"
       ]
      },
      {
       "metadata": {},
       "output_type": "pyout",
       "prompt_number": 17,
       "text": [
        "uw.like2.sources.PointSource: \n",
        "\tname  : PSRxxx\n",
        "\tskydir: SkyDir(0.000,0.000)\n",
        "\tmodel : PLSuperExpCutoff\n",
        "\t\tNorm      : 1e-11 \n",
        "\t\tIndex     : 2 \n",
        "\t\tCutoff    : 2e+03 \n",
        "\t\tb         : 1 (FROZEN)\n",
        "\t\tPh. Flux  : 8.28e-08 (DERIVED)\n",
        "\t\tEn. Flux  : 3.95e-11 (DERIVED)"
       ]
      }
     ],
     "prompt_number": 17
    },
    {
     "cell_type": "heading",
     "level": 1,
     "metadata": {},
     "source": [
      "extended"
     ]
    },
    {
     "cell_type": "markdown",
     "metadata": {},
     "source": [
      "Extended sources must be described in an extended library. In the following we load such a catalog, examine the source names it contains, and create an ExtendedSource object."
     ]
    },
    {
     "cell_type": "code",
     "collapsed": false,
     "input": [
      "from uw.like2 import extended; reload(extended); reload(sources)\n",
      "ecat = extended.ExtendedCatalog(os.path.expandvars('$FERMI')+'/catalog/Extended_archive_v14')\n",
      "print ecat.names\n",
      "ecat['SMC']"
     ],
     "language": "python",
     "metadata": {},
     "outputs": [
      {
       "output_type": "stream",
       "stream": "stdout",
       "text": [
        "['SMC' 'LMC' 'S 147' 'IC443' 'Puppis A' 'Vela X' 'Vela Jr' 'HESS J1303-631'\n",
        " 'CenA Lobes' 'MSH 15-52' 'HESS J1614-518' 'HESS J1616-508'\n",
        " 'HESS J1632-478' 'RX J1713.7-3946' 'W28' 'W30' 'HESS J1825-137'\n",
        " 'HESS J1837-069' 'HESS J1841-055' 'W44' 'W51C' 'gamma Cygni'\n",
        " 'Cygnus Cocoon' 'HB21' 'Cygnus Loop']\n"
       ]
      },
      {
       "metadata": {},
       "output_type": "pyout",
       "prompt_number": 42,
       "text": [
        "uw.like2.sources.ExtendedSource: \n",
        "\tname  : SMC\n",
        "\tskydir: SkyDir(14.689,-72.700)\n",
        "\tfile  : $(LATEXTDIR)/Templates/SMC.fits\n",
        "\tmodel : LogParabola\n",
        "\t\tNorm      : 1.62e-11 \n",
        "\t\tIndex     : 2.22 \n",
        "\t\tbeta      : 0 (FROZEN)\n",
        "\t\tE_break   : 1e+03 (FROZEN)\n",
        "\t\tPh. Flux  : 2.21e-07 (DERIVED)\n",
        "\t\tEn. Flux  : 1.53e-10 (DERIVED)"
       ]
      }
     ],
     "prompt_number": 42
    },
    {
     "cell_type": "markdown",
     "metadata": {},
     "source": [
      "Note that the extent is described by a FITS image."
     ]
    },
    {
     "cell_type": "heading",
     "level": 1,
     "metadata": {},
     "source": [
      "diffuse"
     ]
    },
    {
     "cell_type": "markdown",
     "metadata": {},
     "source": [
      "Finally, diffuse sources are global, defined everywhere in the sky. The <tt>skydir</tt> property is set to <tt>None</tt>. See the <a href=\"http://nbviewer.ipython.org/url/slac.stanford.edu/~burnett/notebooks/diffuse.ipynb\">diffuse notebook</a>."
     ]
    },
    {
     "cell_type": "markdown",
     "metadata": {},
     "source": [
      "<hr style=\"height:2px\"/>\n",
      "\\$Header: /nfs/slac/g/glast/ground/cvs/pointlike/python/uw/like2/notebooks/sources.ipynb,v 1.2 2014/04/09 22:36:16 burnett Exp $"
     ]
    },
    {
     "cell_type": "code",
     "collapsed": false,
     "input": [
      "import time; print time.asctime()"
     ],
     "language": "python",
     "metadata": {},
     "outputs": [
      {
       "output_type": "stream",
       "stream": "stdout",
       "text": [
        "Wed Apr  9 15:19:57 2014\n"
       ]
      }
     ],
     "prompt_number": 2
    }
   ],
   "metadata": {}
  }
 ]
}