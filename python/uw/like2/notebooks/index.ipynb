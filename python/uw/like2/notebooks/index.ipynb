{
 "metadata": {
  "name": ""
 },
 "nbformat": 3,
 "nbformat_minor": 0,
 "worksheets": [
  {
   "cells": [
    {
     "cell_type": "markdown",
     "metadata": {},
     "source": [
      "#Pointlike &ndash; the like2 version\n",
      "These notebooks document the design and usage of the <i>like2</i> version of pointlike. This is an extensive redesign of an earlier version derived from the original <i>like</i> code. It was used to detetect and localize the sources released in 2FGL, and now 3FGL catalogs. The code is all in the Fermi-LAT CVS repository, under <a href=\"http://glast.stanford.edu/cgi-bin/cvsweb-SLAC/pointlike/python/uw/like2/\"><tt>pointlike/python/uw/like2</tt></a>, version <tt>pointlike-09-00-00</tt> and above.\n",
      "\n",
      "There are three basic objectives:\n",
      "\n",
      "* <b>Extensible and flexible coding</b></br>\n",
      "The primary reason for the redesign, to allow easy modification and additions to the basic components, especially the diffuse.\n",
      "\n",
      "* <b>interactive and fast</b><br>\n",
      "<tt>like2</tt> is at least a factor of two faster then <tt>like</tt>. A lot of attention was paid to being interactive.\n",
      "* <b>built to support the all-sky fitting mode.</b><br>\n",
      "Managing the entire sky is obviously only feasable in batch mode; but since iteration is an inherent part of that, speed does matter, allowing examination of many models. Since tweaking of individual regions is often necessary, the interactive nature is very useful.\n",
      "\n",
      "An important feature of the new design is allowing for easy change of the event types beyond the current front/back. This would be very difficult to patch into <tt>like</tt>, which will probably never support it.\n",
      "\n",
      "##Notebooks\n",
      "These documents, including this one, are <a href=\"http://ipython.org/\">IPython</a> notebooks.\n",
      "\n",
      "* <a href=\"http://nbviewer.ipython.org/url/slac.stanford.edu/~burnett/notebooks/configuration.ipynb\"><b>configuration</b></a><br>Description of how to set up the configuration: IRF, data, model\n",
      "\n",
      "* <a href=\"http://nbviewer.ipython.org/url/slac.stanford.edu/~burnett/notebooks/likelihood.ipynb\"><b>likelihood</b></a><br>Somewhat technical details of how the likelihood function is evaluated.\n",
      "\n",
      "* <a href=\"http://nbviewer.ipython.org/url/slac.stanford.edu/~burnett/notebooks/fitting.ipynb\"><b>fitting</b></a><br>Description of how views of the likelihood engine are used for fitting.\n",
      "\n",
      "* <a href=\"http://nbviewer.ipython.org/url/slac.stanford.edu/~burnett/notebooks/user.ipynb\"><b>user</b></a><br>The user interface. Essentially a user tutorial for analyzing an ROI.\n",
      "\n",
      "Coming<br>\n",
      "\n",
      "* <b>diffuse</b><br>The various supported forms of diffuse emission.\n",
      "* <b>pipeline</b><br>The pipeline for all sky-analysis.\n",
      "\n",
      "<hr style=\"height:2px;\" />"
     ]
    }
   ],
   "metadata": {}
  }
 ]
}