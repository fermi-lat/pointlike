{
 "metadata": {
  "name": ""
 },
 "nbformat": 3,
 "nbformat_minor": 0,
 "worksheets": [
  {
   "cells": [
    {
     "cell_type": "markdown",
     "metadata": {},
     "source": [
      "#Pointlike &ndash; the like2 version\n",
      "These notebooks document the design and usage of the <i>like2</i> version of pointlike. This is actually an extensive redesign of the version, originally derived from the original <i>like</i> version, which was used to detetect and localize the sources released in 2FGL, and now 3FGL catalogs. There are three basic objectives:\n",
      "\n",
      "* <b>Extensible and flexible coding</b></br>\n",
      "The primary reason for the redesign, to allow easy modification and additions to the basic components, especially the diffuse. An important feature of the new design is allowing for easy change of the event types beyond the current front/back. This would be very difficult to patch into <tt>like</tt>, which will probably never support it.\n",
      "\n",
      "* <b>interactive and fast</b><br>\n",
      "<tt>like2</tt> is at least a factor of two faster then <tt>like</tt>. A lot of attention was paid to being interactive.\n",
      "\n",
      "* <b>built to support the all-sky model</b><br>\n",
      "Managing the entire sky is obviously only feasable in batch mode; but since iteration is an inherent part of that, speed does matter, allowing examination of many models. Since tweaking of individual regions us usually necessary, the interactive nature is very useful.\n",
      "\n",
      "\n",
      "\n",
      "##Notebooks\n",
      "These documents, including this one, are <a href=\"http://ipython.org/\">IPython</a> notebooks.\n",
      "\n",
      "* <a href=\"http://nbviewer.ipython.org/url/slac.stanford.edu/~burnett/notebooks/configuration.ipynb\"><b>configuration</b></a><br>Description of how to set up the configuration: IRF, data, model\n",
      "\n",
      "* <a href=\"http://nbviewer.ipython.org/url/slac.stanford.edu/~burnett/notebooks/likelihood.ipynb\"><b>likelihood</b></a><br>Somewhat technical details of how the likelihood function is evaluated.\n",
      "\n",
      "* <a href=\"http://nbviewer.ipython.org/url/slac.stanford.edu/~burnett/notebooks/fitting.ipynb\"><b>fitting</b></a><br>Description of how views of the likelihood engine are used for fitting.\n",
      "\n",
      "* <a href=\"http://nbviewer.ipython.org/url/slac.stanford.edu/~burnett/notebooks/user.ipynb\"><b>user</b></a><br>The user interface. Essentially a user tutorial for analyzing an ROI.\n",
      "\n",
      "* <a href=\"http://nbviewer.ipython.org/url/slac.stanford.edu/~burnett/notebooks/diffuse.ipynb\"><b>diffuse</b></a><br>The various supported forms of diffuse emission.\n",
      "\n",
      "Very preliminary<br>\n",
      "\n",
      "*  <a href=\"http://nbviewer.ipython.org/url/slac.stanford.edu/~burnett/notebooks/sources.ipynb\"><b>sources</b></a><br>Sources and response functions.\n",
      "*  <a href=\"http://nbviewer.ipython.org/url/slac.stanford.edu/~burnett/notebooks/pipeline.ipynb\"><b>pipeline</b></a><br>The pipeline for all sky-analysis.\n"
     ]
    },
    {
     "cell_type": "markdown",
     "metadata": {},
     "source": [
      "<hr style=\"height:2px\"/> \n",
      "\\$Header: /nfs/slac/g/glast/ground/cvs/pointlike/python/uw/like2/notebooks/index.ipynb,v 1.8 2014/01/30 15:08:18 burnett Exp $"
     ]
    }
   ],
   "metadata": {}
  }
 ]
}