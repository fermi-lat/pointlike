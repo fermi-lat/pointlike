{
 "metadata": {
  "name": ""
 },
 "nbformat": 3,
 "nbformat_minor": 0,
 "worksheets": [
  {
   "cells": [
    {
     "cell_type": "markdown",
     "metadata": {},
     "source": [
      "#Diffuse Models in pointlike/like2\n",
      "This notebook details the design for diffuse, or all-sky models for galactic, isotropic, limb, and sun/moon.\n",
      "\n",
      "\n",
      "##Setup for 3FGL\n",
      "we start with the setup for 3FGL, which includes two models not compatible with <tt>gtlike</tt>.\n",
      "\n",
      "Here is a look at the <tt>config.txt</tt> file, a dictionary processed by the <tt>Configuration</tt> class."
     ]
    },
    {
     "cell_type": "code",
     "collapsed": false,
     "input": [
      "import os\n",
      "configdir = '/tmp/pointlike_demo'\n",
      "os.chdir(configdir)\n",
      "!cat config.txt"
     ],
     "language": "python",
     "metadata": {},
     "outputs": [
      {
       "output_type": "stream",
       "stream": "stdout",
       "text": [
        "{\r\n",
        "    'datadict': {'dataname': 'P7_P202',},\r\n",
        "    'irf': 'P7REP_SOURCE_V15',\r\n",
        "    \r\n",
        "    'input_model' : dict(path='$FERMI/skymodels/P202/uw30'),\r\n",
        "\r\n",
        "    'diffuse': dict(\r\n",
        "        ring    =  dict(filename='template_4years_P7_v15_repro_v3_4bpd.zip',\r\n",
        "                    correction='galactic_correction_v3.csv', \r\n",
        "                    systematic=0.0316), \r\n",
        "        isotrop = 'isotrop_4years_P7_V15_repro_v2_source_*.txt',\r\n",
        "        SunMoon = 'SunMoon_4years_zmax100.fits', \r\n",
        "        limb    = 'limb_PowerLaw(1e-11, 4.0)',\r\n",
        "        ),\r\n",
        "    \r\n",
        "    'extended': 'Extended_archive_v13',\r\n",
        "}"
       ]
      }
     ],
     "prompt_number": 4
    },
    {
     "cell_type": "markdown",
     "metadata": {},
     "source": [
      "Now set up the <tt>Configuration</tt> object and look at its <tt>diffuse</tt> property, comparing with the <tt>diffuse</tt> key in the config dictionary:"
     ]
    },
    {
     "cell_type": "code",
     "collapsed": false,
     "input": [
      "from uw.like2 import configuration, diffuse\n",
      "config = configuration.Configuration(quiet=True)\n",
      "for key in config.diffuse.keys():\n",
      "    print '%-7s: %s' % ( key, diffuse.diffuse_factory(config.diffuse[key]))"
     ],
     "language": "python",
     "metadata": {},
     "outputs": [
      {
       "output_type": "stream",
       "stream": "stdout",
       "text": [
        "limb   : uw.like2.diffuse.DiffuseList\n",
        "\tIsotropicSpectralFunction: PowerLaw(1e-11, 4.0)\n",
        "ring   : uw.like2.diffuse.DiffuseList\n",
        "\tuw.like2.diffuse.CachedMapCube: /phys/users/tburnett/fermi/diffuse/template_4years_P7_v15_repro_v3_4bpd.zip\n",
        "isotrop: uw.like2.diffuse.DiffuseList\n",
        "\tIsotropic: /phys/users/tburnett/fermi/diffuse/isotrop_4years_P7_V15_repro_v2_source_front.txt\n",
        "\tIsotropic: /phys/users/tburnett/fermi/diffuse/isotrop_4years_P7_V15_repro_v2_source_back.txt\n",
        "SunMoon: uw.like2.diffuse.DiffuseList\n",
        "\tMapCube: /phys/users/tburnett/fermi/diffuse/SunMoon_4years_zmax100.fits\n"
       ]
      }
     ],
     "prompt_number": 2
    },
    {
     "cell_type": "markdown",
     "metadata": {},
     "source": [
      "It is also a dictionary with the same keys corresponding to the names of the sources, but where each value is an instance of <tt>diffuse.DiffuseList</tt>. A <tt>DiffuseList</tt> object is a list of objects that are subclasses of <tt>diffuse.DiffuseBase</tt>. The number of such objects is either one, to apply to all event types, or one for each event type, for now front and back."
     ]
    },
    {
     "cell_type": "markdown",
     "metadata": {},
     "source": [
      "##The models  \n",
      "Each model, an instance of a subclass of <tt>DiffuseBase</tt>, implements a function of both the sky position and energy. The function is expected to apply to all event types, or a specific one.\n",
      "\n",
      "* <tt>Isotropic</tt><br>\n",
      "Isotropic, spectral function defined by a text file. (Same as gtlike.)\n",
      "\n",
      "* <tt>MapCube</tt><br>\n",
      "Uses a FITS image cube, as gtlike.\n",
      "\n",
      "* <tt>HealpixCube</tt><br>\n",
      "Loads from a FITS file in HEALPix format, with either on column in vector format, or a column per energy.\n",
      "\n",
      "* <tt>IsotropicSpectralFunction</tt><br>\n",
      "Isotropic, with the spectrum defined by an expression.\n",
      "\n",
      "* <tt>CachedMapCube</tt><br>\n",
      "A zip file with a pickled file for each ROI. This bypasses the processing the others must do to produce a grid for convolution with the PSF, but saving all such grids in advance."
     ]
    },
    {
     "cell_type": "markdown",
     "metadata": {},
     "source": [
      "<hr style=\"height:2px\"/>\n",
      "$Header$"
     ]
    }
   ],
   "metadata": {}
  }
 ]
}