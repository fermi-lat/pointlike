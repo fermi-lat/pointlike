{
 "metadata": {
  "name": "",
  "signature": "sha256:a9e424963b4c91349cef43d72682d8408c9ccbf8a511f65f3d4e9c067bf3a8a1"
 },
 "nbformat": 3,
 "nbformat_minor": 0,
 "worksheets": [
  {
   "cells": [
    {
     "cell_type": "markdown",
     "metadata": {},
     "source": [
      "#All-sky pipeline\n",
      "\n",
      "pointlike/like2 has support for parallel execution for all 1728 ROIs, with iteration. It uses the <a href=\"https://confluence.slac.stanford.edu/display/ds/Pipeline+II+User%27s+Guide\">Fermi-LAT pipeline II</a> to run parallel batch jobs.\n",
      "\n",
      "The code for setting up a \"stream\" is in <a href=\"http://glast.stanford.edu/cgi-bin/cvsweb-SLAC/pointlike/python/uw/like2/pipeline/uwpipeline.py?view=markup\"><tt>pipeline/uwpipeline</tt></a>\n",
      "\n",
      "The process is summarized with the following diagram."
     ]
    },
    {
     "cell_type": "code",
     "collapsed": false,
     "input": [
      "from IPython import display\n",
      "display.Image('uwpipeline.png')"
     ],
     "language": "python",
     "metadata": {},
     "outputs": [
      {
       "metadata": {},
       "output_type": "pyout",
       "png": "[encoded data removed]",
       "prompt_number": 1,
       "text": [
        "<IPython.core.display.Image at 0x3ca4ad0>"
       ]
      }
     ],
     "prompt_number": 1
    },
    {
     "cell_type": "markdown",
     "metadata": {},
     "source": [
      "##Environment\n",
      "The setup is on the SLAC computing facility, at\n",
      "\n",
      "<tt>/afs/slac/g/glast/groups/catalog/pointlike</tt>\n",
      "\n",
      "After running the bash script <tt>configure.sh</tt>, the following output shows the environment variables:\n",
      "<pre>\n",
      "MYPYTHON : /afs/slac/g/glast/groups/catalog//pointlike/python\n",
      "FERMI    : /afs/slac/g/glast/groups/catalog//pointlike\n",
      "INST_DIR : /nfs/farm/g/glast/u35/ReleaseManagerBuild/redhat6-x86_64-64bit-gcc44/Optimized/ScienceTools/09-33-00\n",
      "BASE_DIR : /nfs/farm/g/glast/u35/ReleaseManagerBuild/redhat6-x86_64-64bit-gcc44/Optimized/ScienceTools/09-33-00\n",
      "</pre>\n",
      "At this point, the PATH and PYTHONPATH should be set so that the <tt>skymaps</tt> module is available. The following verifies that:"
     ]
    },
    {
     "cell_type": "code",
     "collapsed": false,
     "input": [
      "import skymaps; skymaps.SkyDir()"
     ],
     "language": "python",
     "metadata": {},
     "outputs": [
      {
       "metadata": {},
       "output_type": "pyout",
       "prompt_number": 2,
       "text": [
        "SkyDir(0.000,0.000)"
       ]
      }
     ],
     "prompt_number": 2
    },
    {
     "cell_type": "markdown",
     "metadata": {},
     "source": [
      "##Create a stream\n",
      "A \"stream\" is an instance of a <i>task</i>, in this case the UWpipeline. As seen in the diagram, it contains four <i>proc</i>s, and a sub-task containing a fifth proc. To start a stream, one must be in a folder containing a model specification file <tt>config.txt</tt>, and be in the groups glast-pipeline and glast-catalog. Then the command \"pipe <i>stage</i>\", where <i>stage</i> is the name of a stage, such as \"create\" to start a new model. Type \"pipe --help\" for a list.\n",
      "\n",
      "Note that pipe is an alias for <tt>python -m uw/like2/pipeline/uwpipeline</tt>"
     ]
    },
    {
     "cell_type": "markdown",
     "metadata": {},
     "source": [
      "###check_data\n",
      "The first proc executes the module <a href=\"http://glast.stanford.edu/cgi-bin/cvsweb-SLAC/pointlike/python/uw/like2/pipeline/check_data.py?view=markup\">uw/like2/pipeline/check_data</a> which tests that the data to be used for the analysis is set up properly. This in only done for the \"create\" stage."
     ]
    },
    {
     "cell_type": "markdown",
     "metadata": {},
     "source": [
      "###setup_jobs\n",
      "This proc is actually a jython script that uses a text file defined by the variable <tt>job_list</tt> to allocate the 1728 ROIs to a few hundred batch jobs."
     ]
    },
    {
     "cell_type": "markdown",
     "metadata": {},
     "source": [
      "###job_proc\n",
      "This proc is implemented by <a href=\"http://glast.stanford.edu/cgi-bin/cvsweb-SLAC/pointlike/python/uw/like2/pipeline/pipeline_job.py?view=markup\">uw/like/pipeline/pipeline_job.py</a>.\n",
      "It performs the ROI analysis on a list defined by the setup. The ROI ids for any that fail are added to a local file <tt>failed_rois.txt</tt>."
     ]
    },
    {
     "cell_type": "markdown",
     "metadata": {},
     "source": [
      "###check_jobs\n",
      "The pipeline runs this proc, implemented by <a href=\"http://glast.stanford.edu/cgi-bin/cvsweb-SLAC/pointlike/python/uw/like2/pipeline/check_converge.py?view=markup\">uw/like/pipeline/check_converge.py</a>, after all the jobs finish. If if finds that any ROIs have failed, it will fail. Otherwise, depending on the stage, it may start a new stream to continue iteration. For example, if the stage name is \"create\" it will start a stream with stage \"update_full\"."
     ]
    },
    {
     "cell_type": "markdown",
     "metadata": {},
     "source": [
      "###summary_plots\n",
      "This is implemented by <a href=\"http://glast.stanford.edu/cgi-bin/cvsweb-SLAC/pointlike/python/uw/like2/pipeline/summary_plots.py?view=markup\">uw/like/pipeline/summary_plots.py</a>, which generates one or more sets of plots depending on the stage."
     ]
    },
    {
     "cell_type": "markdown",
     "metadata": {},
     "source": [
      "<hr style=\"height:2px\"/>\n",
      "\\$Header: /nfs/slac/g/glast/ground/cvs/pointlike/python/uw/like2/notebooks/pipeline.ipynb,v 1.1 2014/01/30 21:32:01 burnett Exp $"
     ]
    }
   ],
   "metadata": {}
  }
 ]
}